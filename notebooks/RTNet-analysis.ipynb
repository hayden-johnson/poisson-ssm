{
 "cells": [
  {
   "cell_type": "code",
   "execution_count": 1,
   "id": "b4105ebd",
   "metadata": {},
   "outputs": [],
   "source": [
    "import pandas as pd\n",
    "import numpy as np"
   ]
  },
  {
   "cell_type": "code",
   "execution_count": null,
   "id": "b36b4b48",
   "metadata": {},
   "outputs": [],
   "source": [
    "# Load the RTNet data"
   ]
  },
  {
   "cell_type": "code",
   "execution_count": 7,
   "id": "a1e80515",
   "metadata": {},
   "outputs": [
    {
     "name": "stdout",
     "output_type": "stream",
     "text": [
      "behavioral data.csv   column info.docx      experiment_images.mat\n"
     ]
    }
   ],
   "source": [
    "!ls ../data/Datasets/RTNet-Experiment-data"
   ]
  },
  {
   "cell_type": "code",
   "execution_count": 23,
   "id": "c239615e",
   "metadata": {},
   "outputs": [
    {
     "data": {
      "text/plain": [
       "np.float64(0.950047165853597)"
      ]
     },
     "execution_count": 23,
     "metadata": {},
     "output_type": "execute_result"
    }
   ],
   "source": [
    "# Load the RTNet behavioral data\n",
    "data_dir = \"../data/Datasets/RTNet-Experiment-data\"\n",
    "behavior_df = pd.read_csv(data_dir + \"/behavioral data.csv\")\n",
    "\n",
    "behavior_df.resp_rt.mean()"
   ]
  },
  {
   "cell_type": "code",
   "execution_count": 13,
   "id": "6408ef3a",
   "metadata": {},
   "outputs": [],
   "source": [
    "from scipy import io\n",
    "\n",
    "# For MATLAB v4 through v7.2 files:\n",
    "mat_data = io.loadmat(data_dir + '/experiment_images.mat')\n"
   ]
  },
  {
   "cell_type": "code",
   "execution_count": 22,
   "id": "ae357d1b",
   "metadata": {},
   "outputs": [
    {
     "data": {
      "text/plain": [
       "np.void((array([[ 23, 187,  96, ...,  15, 206, 192],\n",
       "       [ 36,  59,  62, ..., 211,  45,  12],\n",
       "       [ 37,  20,  80, ...,  85,  49, 105],\n",
       "       ...,\n",
       "       [115,  64,  41, ...,  43, 168,  37],\n",
       "       [ 21,  75, 107, ...,  94,  52, 109],\n",
       "       [138, 178,  87, ..., 116,  85,  74]], dtype=uint8), array([[2, 2, 5, 6, 8, 7, 7, 4, 4, 2, 1, 4, 8, 6, 7, 8, 6, 2, 6, 4, 8, 3,\n",
       "        1, 6, 8, 4, 1, 2, 5, 3, 7, 5, 2, 7, 8, 4, 1, 7, 1, 2, 7, 5, 1, 6,\n",
       "        4, 4, 1, 8, 3, 3, 8, 5, 5, 1, 5, 3, 5, 5, 5, 6, 6, 3, 7, 4, 4, 8,\n",
       "        2, 8, 3, 6, 7, 7, 6, 6, 2, 3, 1, 4, 1, 2, 4, 5, 6, 6, 8, 1, 3, 8,\n",
       "        2, 8, 2, 2, 5, 1, 5, 3, 1, 6, 3, 2, 6, 4, 7, 4, 5, 1, 4, 2, 7, 3,\n",
       "        7, 3, 8, 3, 5, 7, 1, 3, 7, 8]]), array([[ 94, 139, 216, ..., 172,  24, 142],\n",
       "       [ 46,  14,  31, ..., 103,  82, 185],\n",
       "       [  3,  35,   6, ..., 125, 224, 224],\n",
       "       ...,\n",
       "       [ 46,  35,  88, ..., 195, 154, 159],\n",
       "       [129,  48,  43, ...,  78,  32, 103],\n",
       "       [106, 172, 211, ..., 100, 202,  17]], dtype=uint8), array([[5, 7, 1, 8, 5, 1, 8, 2, 3, 3, 4, 6, 1, 1, 2, 2, 2, 3, 4, 4, 1, 8,\n",
       "        6, 4, 8, 8, 5, 7, 4, 7, 8, 1, 3, 3, 7, 6, 8, 7, 6, 8, 4, 5, 4, 7,\n",
       "        1, 7, 3, 1, 3, 1, 7, 5, 3, 6, 5, 3, 4, 1, 6, 1, 5, 7, 2, 2, 7, 8,\n",
       "        1, 2, 8, 6, 5, 7, 5, 5, 1, 4, 6, 3, 8, 3, 8, 1, 2, 7, 8, 2, 3, 2,\n",
       "        6, 6, 4, 6, 1, 2, 5, 7, 4, 2, 4, 6, 7, 5, 3, 5, 6, 2, 4, 7, 5, 4,\n",
       "        2, 4, 8, 6, 3, 8, 3, 2, 5, 6]]), array([[161,  10, 171, ..., 176, 204,  76],\n",
       "       [160, 192, 175, ..., 137, 136,  37],\n",
       "       [ 75,  51,  41, ...,  43, 183,  78],\n",
       "       ...,\n",
       "       [182, 140,   4, ..., 120, 152,   1],\n",
       "       [ 78,   2, 160, ..., 150, 176,  54],\n",
       "       [114, 125, 152, ..., 150, 134,  71]], dtype=uint8), array([[256]], dtype=uint16), array([[256]], dtype=uint16), array([[8, 2, 5, 4, 8, 3, 6, 6, 2, 6, 6, 4, 4, 3, 3, 6, 6, 4, 7, 7, 1, 4,\n",
       "        7, 5, 1, 3, 1, 8, 1, 5, 2, 4, 8, 4, 4, 7, 7, 8, 8, 6, 8, 8, 2, 7,\n",
       "        7, 6, 6, 5, 7, 2, 5, 5, 2, 4, 4, 8, 3, 6, 3, 5, 2, 1, 2, 6, 4, 8,\n",
       "        3, 4, 3, 6, 7, 2, 5, 3, 1, 6, 5, 5, 8, 5, 6, 8, 2, 3, 3, 7, 3, 8,\n",
       "        7, 6, 2, 2, 3, 5, 1, 1, 4, 1, 5, 7, 5, 3, 2, 1, 1, 1, 2, 1, 1, 7,\n",
       "        1, 7, 4, 5, 2, 3, 4, 8, 8, 7]]), array([[163, 174, 176, ...,  40, 169, 111],\n",
       "       [195, 145,  53, ..., 139,  32,  38],\n",
       "       [176, 195,   8, ...,  51, 162, 181],\n",
       "       ...,\n",
       "       [135, 149, 126, ...,  35, 191,  36],\n",
       "       [166, 124, 206, ..., 207, 194, 177],\n",
       "       [189,  68, 132, ..., 162, 117, 108]], dtype=uint8), array([[3, 3, 1, 1, 6, 2, 8, 3, 5, 4, 4, 8, 7, 8, 4, 5, 5, 4, 6, 4, 5, 5,\n",
       "        3, 4, 3, 7, 4, 8, 7, 3, 5, 3, 4, 2, 7, 4, 6, 8, 6, 4, 3, 2, 1, 5,\n",
       "        2, 7, 2, 5, 7, 2, 7, 4, 1, 1, 1, 6, 3, 5, 5, 6, 7, 8, 2, 8, 1, 2,\n",
       "        7, 3, 7, 1, 8, 3, 5, 5, 1, 3, 8, 2, 6, 8, 8, 3, 4, 6, 4, 7, 1, 4,\n",
       "        8, 2, 3, 7, 2, 6, 5, 8, 6, 6, 2, 8, 1, 1, 5, 7, 7, 2, 2, 4, 8, 5,\n",
       "        2, 6, 1, 6, 1, 6, 1, 7, 3, 6]]), array([[  2, 128, 107, ...,  34, 162,  55],\n",
       "       [130, 105, 109, ..., 152,  94,  51],\n",
       "       [ 69, 126, 130, ...,   6,  99,  41],\n",
       "       ...,\n",
       "       [180,  51,  53, ...,  76,  79,  58],\n",
       "       [221, 191,   0, ..., 163,  79, 226],\n",
       "       [107, 178, 217, ..., 153, 124, 109]], dtype=uint8), array([[ 75, 125, 159, ..., 114,  80,   9],\n",
       "       [205,  56,  76, ...,  58,  48, 148],\n",
       "       [ 95,  90, 148, ...,  13,  54, 130],\n",
       "       ...,\n",
       "       [208, 196, 123, ...,   1,  33,  44],\n",
       "       [ 93,   2, 199, ...,  21,   8,  93],\n",
       "       [  6, 134,  49, ..., 143, 182,  55]], dtype=uint8), array([[0, 0, 0, ..., 0, 0, 0],\n",
       "       [0, 0, 0, ..., 0, 0, 0],\n",
       "       [0, 0, 0, ..., 0, 0, 0],\n",
       "       ...,\n",
       "       [0, 0, 0, ..., 0, 0, 0],\n",
       "       [0, 0, 0, ..., 0, 0, 0],\n",
       "       [0, 0, 0, ..., 0, 0, 0]], dtype=uint8), array([[1, 4, 2, 4, 7, 6, 2, 6, 2, 8, 4, 4, 5, 7, 7, 3, 5, 4, 8, 1, 5, 2,\n",
       "        7, 8, 5, 2, 4, 8, 4, 1, 6, 8, 5, 3, 5, 7, 5, 1, 4, 4, 3, 3, 6, 5,\n",
       "        2, 6, 1, 5, 5, 8, 1, 7, 3, 5, 3, 6, 2, 3, 2, 4, 7, 1, 6, 6, 1, 7,\n",
       "        4, 5, 1, 4, 3, 8, 6, 1, 7, 5, 3, 5, 2, 2, 2, 8, 8, 7, 7, 1, 7, 4,\n",
       "        3, 2, 3, 2, 2, 7, 5, 2, 1, 2, 8, 1, 5, 5, 4, 4, 3, 3, 2, 7, 8, 4,\n",
       "        8, 4, 4, 1, 4, 6, 6, 1, 3, 3, 8, 1, 3, 1, 3, 8, 6, 4, 1, 2, 1, 4,\n",
       "        4, 7, 6, 1, 5, 8, 1, 6, 8, 5, 3, 2, 1, 5, 6, 3, 8, 5, 3, 6, 1, 4,\n",
       "        7, 2, 8, 2, 8, 3, 3, 2, 6, 6, 6, 6, 5, 7, 7, 7, 8, 3, 3, 7, 6, 5,\n",
       "        7, 6, 4, 7, 1, 7, 2, 8, 8, 5, 6, 2, 3, 8, 2, 1, 6, 4, 6, 5, 7, 8,\n",
       "        8, 7]])), dtype=[('difficult_accuracy_focus', 'O'), ('difficult_accuracy_focus_label', 'O'), ('difficult_speed_focus', 'O'), ('difficult_speed_focus_label', 'O'), ('easy_accuracy_focus', 'O'), ('img_height', 'O'), ('img_width', 'O'), ('easy_accuracy_focus_label', 'O'), ('easy_speed_focus', 'O'), ('easy_speed_focus_label', 'O'), ('training_difficult', 'O'), ('training_easy', 'O'), ('training_no_noise', 'O'), ('training_label', 'O')])"
      ]
     },
     "execution_count": 22,
     "metadata": {},
     "output_type": "execute_result"
    }
   ],
   "source": [
    "mat_data['mnist'][0][0]"
   ]
  },
  {
   "cell_type": "code",
   "execution_count": null,
   "id": "2c6be3b7",
   "metadata": {},
   "outputs": [],
   "source": []
  }
 ],
 "metadata": {
  "kernelspec": {
   "display_name": "curves",
   "language": "python",
   "name": "python3"
  },
  "language_info": {
   "codemirror_mode": {
    "name": "ipython",
    "version": 3
   },
   "file_extension": ".py",
   "mimetype": "text/x-python",
   "name": "python",
   "nbconvert_exporter": "python",
   "pygments_lexer": "ipython3",
   "version": "3.11.11"
  }
 },
 "nbformat": 4,
 "nbformat_minor": 5
}
