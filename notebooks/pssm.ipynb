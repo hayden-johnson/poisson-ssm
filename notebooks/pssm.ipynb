{
 "cells": [
  {
   "cell_type": "markdown",
   "id": "43e0d195",
   "metadata": {},
   "source": [
    "# PSSM"
   ]
  },
  {
   "cell_type": "code",
   "execution_count": 14,
   "id": "9a4f5445",
   "metadata": {},
   "outputs": [],
   "source": [
    "import os\n",
    "import sys\n",
    "import time\n",
    "import torch\n",
    "import torch.nn as nn\n",
    "import lightning as pl\n",
    "from torchvision import datasets\n",
    "from torch.utils.data import DataLoader\n"
   ]
  },
  {
   "cell_type": "code",
   "execution_count": 15,
   "id": "770083c4",
   "metadata": {},
   "outputs": [],
   "source": [
    "from pssm.encoder import PL_PVAE\n",
    "from pssm.decoder import MLP\n",
    "from pssm.data import create_decoder_dataset\n",
    "from pssm.pssm import PoissonSSM\n"
   ]
  },
  {
   "cell_type": "code",
   "execution_count": 19,
   "id": "d36a1e07",
   "metadata": {},
   "outputs": [],
   "source": [
    "## SET UP DIRECTORIES\n",
    "name = \"pssm\"\n",
    "root_dir = \"../data\"\n",
    "data_dir = f\"../data/Datasets\" \n",
    "root_dir = f\"{root_dir}/{name}\"\n",
    "\n",
    "load_encoder = True\n",
    "encoder_dir = \"../networks/encoder.ckpt\"\n",
    "\n",
    "load_decoder = False\n",
    "decoder_dir = \"../networks/decoder.ckpt\"\n",
    "\n",
    "# make new checkpoint directory with timestamp\n",
    "timestamp = time.strftime(\"%Y%m%d-%H%M%S\")\n",
    "checkpoint_dir = f\"{root_dir}/{name}/{timestamp}\"\n",
    "os.makedirs(checkpoint_dir, exist_ok=True)"
   ]
  },
  {
   "cell_type": "code",
   "execution_count": 20,
   "id": "9b6af1a0",
   "metadata": {},
   "outputs": [],
   "source": [
    "## SET UP DEVICE\n",
    "train_device = \"0\"\n",
    "device = train_device + \",\" # lightning device formatting"
   ]
  },
  {
   "cell_type": "code",
   "execution_count": 21,
   "id": "af352961",
   "metadata": {},
   "outputs": [
    {
     "name": "stdout",
     "output_type": "stream",
     "text": [
      "Generating encoder dataset... Done.\n"
     ]
    }
   ],
   "source": [
    "## GET DATASET\n",
    "print(\"Generating encoder dataset...\", end=' ')\n",
    "bsize=256\n",
    "ds_train = datasets.MNIST(data_dir, train=True, download=True).data\n",
    "ds_test = datasets.MNIST(data_dir, train=False, download=True).data\n",
    "ds_train_targets = datasets.MNIST(data_dir, train=True, download=True).targets\n",
    "ds_test_targets = datasets.MNIST(data_dir, train=False, download=True).targets\n",
    "\n",
    "ds_train = (ds_train.float().reshape(-1, 784)/255)\n",
    "ds_test = (ds_test.float().reshape(-1, 784)/255)\n",
    "ds_train = torch.utils.data.TensorDataset(ds_train, ds_train_targets)\n",
    "ds_test = torch.utils.data.TensorDataset(ds_test, ds_test_targets)\n",
    "\n",
    "# Add num_workers for better performance\n",
    "train_dl = DataLoader(ds_train, batch_size=bsize, shuffle=True, num_workers=4)\n",
    "val_dl = DataLoader(ds_test, batch_size=bsize, shuffle=False, num_workers=4)\n",
    "print(\"Done.\")\n"
   ]
  },
  {
   "cell_type": "code",
   "execution_count": 22,
   "id": "0501b83e",
   "metadata": {},
   "outputs": [
    {
     "name": "stdout",
     "output_type": "stream",
     "text": [
      "Loading encoder from checkpoint... 1\n",
      "Done.\n"
     ]
    }
   ],
   "source": [
    "## SET UP ENCODER\n",
    "if load_encoder:\n",
    "    print(\"Loading encoder from checkpoint...\", end=' ')\n",
    "    try:\n",
    "        encoder = PL_PVAE.load_from_checkpoint(encoder_dir)\n",
    "        print(\"Done.\")\n",
    "    except Exception as e:\n",
    "        print(f\"Failed to load encoder from checkpoint: {e}\")\n",
    "        sys.exit(1)\n",
    "else:\n",
    "    print(\"Training encoder...\", end=' ')\n",
    "    encoder = PL_PVAE(len(train_dl))\n",
    "    trainer_args = {\n",
    "        \"callbacks\": [pl.pytorch.callbacks.ModelCheckpoint(dirpath=checkpoint_dir, monitor='val_elbo', save_top_k=1, mode='min', verbose=True)],\n",
    "        \"accelerator\": \"cpu\" if device == 'cpu' else \"gpu\",\n",
    "        \"gradient_clip_val\": 1.0,\n",
    "    }\n",
    "    if device != 'cpu':\n",
    "        trainer_args[\"devices\"] = device\n",
    "    trainer = pl.Trainer(**trainer_args, default_root_dir=checkpoint_dir, max_epochs=55, num_sanity_val_steps=0)\n",
    "    trainer.fit(encoder, val_dataloaders=val_dl, train_dataloaders=train_dl)\n",
    "    print(\"Done.\")\n"
   ]
  },
  {
   "cell_type": "code",
   "execution_count": null,
   "id": "e533fbcb",
   "metadata": {},
   "outputs": [
    {
     "name": "stderr",
     "output_type": "stream",
     "text": [
      "\n",
      "\u001b[A\n",
      "\u001b[A\n",
      "\u001b[A\n",
      "\u001b[A\n",
      "\u001b[A\n",
      "Image: 100%|██████████| 5/5 [00:15<00:00,  3.05s/it]\n",
      "Batch: 100%|██████████| 1/1 [00:15<00:00, 15.23s/it]\n"
     ]
    }
   ],
   "source": [
    "device = torch.device(\"cuda\" if torch.cuda.is_available() else \"mps\" if torch.backends.mps.is_available() else \"cpu\")\n",
    "decoder_data, decoder_labels = create_decoder_dataset(encoder, ds_train, n_timesteps=100, n_repeats=5, max_samples=5000, batch_size=5, device=device)"
   ]
  },
  {
   "cell_type": "code",
   "execution_count": 27,
   "id": "24ae71a2",
   "metadata": {},
   "outputs": [
    {
     "data": {
      "text/plain": [
       "torch.Size([5000, 128])"
      ]
     },
     "execution_count": 27,
     "metadata": {},
     "output_type": "execute_result"
    }
   ],
   "source": [
    "decoder_data.shape"
   ]
  },
  {
   "cell_type": "code",
   "execution_count": null,
   "id": "cc1b9ece",
   "metadata": {},
   "outputs": [],
   "source": [
    "## SET UP DECODER\n",
    "if load_decoder:\n",
    "    print(\"Loading decoder from checkpoint...\", end=' ')\n",
    "    raise NotImplementedError(\"Loading decoder from file is not implemented yet.\")\n",
    "\n",
    "else:\n",
    "    if load_decoder_dataset:\n",
    "        print(\"Loading decoder dataset from file...\", end=' ')\n",
    "        # load decoder dataset\n",
    "        raise NotImplementedError(\"Loading decoder dataset from file is not implemented yet.\")\n",
    "    else:\n",
    "        print(\"Creating decoder dataset...\", end=' ')\n",
    "        device = torch.device(\"cuda\" if torch.cuda.is_available() else \"mps\" if torch.backends.mps.is_available() else \"cpu\")\n",
    "        # create decoder dataset with encoder model\n",
    "        decoder_data, decoder_labels = create_decoder_dataset(encoder, ds_train, n_timesteps=100, n_repeats=10, max_samples=10, batch_size=5, device=device)\n",
    "        # create dataload for decoder\n",
    "        decoder_ds = torch.utils.data.TensorDataset(decoder_data, decoder_labels)\n",
    "        print(\"Done.\")\n",
    "        # save out dataset\n",
    "        try:\n",
    "            print(\"Saving decoder dataset...\", end=' ')\n",
    "            torch.save(decoder_ds, f\"{checkpoint_dir}/decoder_dataset.pt\")\n",
    "            print(\"Done.\")\n",
    "        except Exception as e:\n",
    "            print(f\"Failed to save decoder dataset: {e}\")\n",
    "\n",
    "    decoder_dl = DataLoader(decoder_ds, batch_size=bsize, shuffle=True, num_workers=4)\n",
    "\n",
    "    print(\"Training decoder...\", end=' ')\n",
    "    input_size = 128    # Number of neurons\n",
    "    output_size = 10    # Number of classes\n",
    "\n",
    "    decoder = MLP(input_size=input_size, output_size=output_size)\n",
    "\n",
    "    # Define a loss function and optimizer\n",
    "    criterion = nn.CrossEntropyLoss()  # Instead of logistic regression, since logistic is for binary classification\n",
    "    optimizer = torch.optim.Adam(decoder.parameters(), lr=0.001)\n",
    "\n",
    "    decoder.fit(train_loader=decoder_dl, optimizer=optimizer, criterion=criterion, num_epochs=10)\n",
    "    print(\"Done.\")\n",
    "\n",
    "    # Save decoder to checkpoint\n",
    "    try:\n",
    "        print(\"Saving decoder checkpoint...\", end=' ')\n",
    "        torch.save(decoder.state_dict(), f\"{checkpoint_dir}/decoder.ckpt\")\n",
    "        print(\"Done.\")\n",
    "    except Exception as e:\n",
    "        print(f\"Failed to save decoder checkpoint: {e}\")\n"
   ]
  },
  {
   "cell_type": "code",
   "execution_count": null,
   "id": "fbfa97cb",
   "metadata": {},
   "outputs": [],
   "source": []
  },
  {
   "cell_type": "code",
   "execution_count": null,
   "id": "3cff1ffd",
   "metadata": {},
   "outputs": [],
   "source": [
    "pssm"
   ]
  },
  {
   "cell_type": "code",
   "execution_count": null,
   "id": "0dbf4a97",
   "metadata": {},
   "outputs": [],
   "source": []
  },
  {
   "cell_type": "code",
   "execution_count": null,
   "id": "c9aebc43",
   "metadata": {},
   "outputs": [],
   "source": []
  },
  {
   "cell_type": "code",
   "execution_count": null,
   "id": "c1afaccc",
   "metadata": {},
   "outputs": [],
   "source": []
  },
  {
   "cell_type": "code",
   "execution_count": null,
   "id": "4b33efcd",
   "metadata": {},
   "outputs": [],
   "source": []
  },
  {
   "cell_type": "code",
   "execution_count": null,
   "id": "0260ed52",
   "metadata": {},
   "outputs": [],
   "source": []
  },
  {
   "cell_type": "code",
   "execution_count": null,
   "id": "0afc8569",
   "metadata": {},
   "outputs": [],
   "source": []
  },
  {
   "cell_type": "code",
   "execution_count": null,
   "id": "8a53b9ad",
   "metadata": {},
   "outputs": [],
   "source": []
  },
  {
   "cell_type": "code",
   "execution_count": null,
   "id": "46a400c8",
   "metadata": {},
   "outputs": [],
   "source": []
  },
  {
   "cell_type": "code",
   "execution_count": null,
   "id": "11b33dfb",
   "metadata": {},
   "outputs": [],
   "source": []
  },
  {
   "cell_type": "code",
   "execution_count": null,
   "id": "466f1880",
   "metadata": {},
   "outputs": [],
   "source": []
  },
  {
   "cell_type": "code",
   "execution_count": null,
   "id": "075dca63",
   "metadata": {},
   "outputs": [],
   "source": []
  },
  {
   "cell_type": "code",
   "execution_count": null,
   "id": "eda8e6c4",
   "metadata": {},
   "outputs": [],
   "source": []
  },
  {
   "cell_type": "code",
   "execution_count": null,
   "id": "3b076988",
   "metadata": {},
   "outputs": [],
   "source": []
  },
  {
   "cell_type": "code",
   "execution_count": null,
   "id": "6ae837eb",
   "metadata": {},
   "outputs": [],
   "source": []
  },
  {
   "cell_type": "code",
   "execution_count": null,
   "id": "6b1ddd37",
   "metadata": {},
   "outputs": [],
   "source": []
  },
  {
   "cell_type": "code",
   "execution_count": null,
   "id": "3baad3eb",
   "metadata": {},
   "outputs": [],
   "source": [
    "import torch.nn as nn\n",
    "from torchvision import datasets\n",
    "from torch.utils.data import DataLoader\n",
    "import torchvision, math, os, torch\n",
    "import lightning as pl\n",
    "\n",
    "name = 'PVAE_minimal' #change to your run name\n",
    "data_dir = \"./Data/Datasets/\" #change to your data directory\n",
    "project_name = \"PVAE\" #change to your wandb project name\n",
    "root_dir = \"data\"\n",
    "bsize = 256\n",
    "train_device = \"0\"\n",
    "device = train_device + \",\" #lightning device formatting\n",
    "checkpoint_dir = os.path.join(root_dir, name)\n",
    "os.makedirs(checkpoint_dir, exist_ok=True)"
   ]
  },
  {
   "cell_type": "code",
   "execution_count": null,
   "id": "7cb8dd10",
   "metadata": {},
   "outputs": [],
   "source": [
    "import sys\n",
    "import os\n",
    "\n",
    "# Go one level up from the notebooks directory\n",
    "sys.path.append(os.path.abspath(\"..\"))\n",
    "\n",
    "from pssm.encoder import PL_PVAE"
   ]
  },
  {
   "cell_type": "code",
   "execution_count": null,
   "id": "8d5d7402",
   "metadata": {},
   "outputs": [
    {
     "name": "stdout",
     "output_type": "stream",
     "text": [
      "Downloading http://yann.lecun.com/exdb/mnist/train-images-idx3-ubyte.gz\n",
      "Failed to download (trying next):\n",
      "HTTP Error 404: Not Found\n",
      "\n",
      "Downloading https://ossci-datasets.s3.amazonaws.com/mnist/train-images-idx3-ubyte.gz\n",
      "Downloading https://ossci-datasets.s3.amazonaws.com/mnist/train-images-idx3-ubyte.gz to ./Data/Datasets/MNIST/raw/train-images-idx3-ubyte.gz\n"
     ]
    },
    {
     "name": "stderr",
     "output_type": "stream",
     "text": [
      "100%|██████████| 9.91M/9.91M [00:01<00:00, 6.35MB/s]\n"
     ]
    },
    {
     "name": "stdout",
     "output_type": "stream",
     "text": [
      "Extracting ./Data/Datasets/MNIST/raw/train-images-idx3-ubyte.gz to ./Data/Datasets/MNIST/raw\n",
      "\n",
      "Downloading http://yann.lecun.com/exdb/mnist/train-labels-idx1-ubyte.gz\n",
      "Failed to download (trying next):\n",
      "HTTP Error 404: Not Found\n",
      "\n",
      "Downloading https://ossci-datasets.s3.amazonaws.com/mnist/train-labels-idx1-ubyte.gz\n",
      "Downloading https://ossci-datasets.s3.amazonaws.com/mnist/train-labels-idx1-ubyte.gz to ./Data/Datasets/MNIST/raw/train-labels-idx1-ubyte.gz\n"
     ]
    },
    {
     "name": "stderr",
     "output_type": "stream",
     "text": [
      "100%|██████████| 28.9k/28.9k [00:00<00:00, 264kB/s]\n"
     ]
    },
    {
     "name": "stdout",
     "output_type": "stream",
     "text": [
      "Extracting ./Data/Datasets/MNIST/raw/train-labels-idx1-ubyte.gz to ./Data/Datasets/MNIST/raw\n",
      "\n",
      "Downloading http://yann.lecun.com/exdb/mnist/t10k-images-idx3-ubyte.gz\n",
      "Failed to download (trying next):\n",
      "HTTP Error 404: Not Found\n",
      "\n",
      "Downloading https://ossci-datasets.s3.amazonaws.com/mnist/t10k-images-idx3-ubyte.gz\n",
      "Downloading https://ossci-datasets.s3.amazonaws.com/mnist/t10k-images-idx3-ubyte.gz to ./Data/Datasets/MNIST/raw/t10k-images-idx3-ubyte.gz\n"
     ]
    },
    {
     "name": "stderr",
     "output_type": "stream",
     "text": [
      "100%|██████████| 1.65M/1.65M [00:00<00:00, 2.24MB/s]\n"
     ]
    },
    {
     "name": "stdout",
     "output_type": "stream",
     "text": [
      "Extracting ./Data/Datasets/MNIST/raw/t10k-images-idx3-ubyte.gz to ./Data/Datasets/MNIST/raw\n",
      "\n",
      "Downloading http://yann.lecun.com/exdb/mnist/t10k-labels-idx1-ubyte.gz\n",
      "Failed to download (trying next):\n",
      "HTTP Error 404: Not Found\n",
      "\n",
      "Downloading https://ossci-datasets.s3.amazonaws.com/mnist/t10k-labels-idx1-ubyte.gz\n",
      "Downloading https://ossci-datasets.s3.amazonaws.com/mnist/t10k-labels-idx1-ubyte.gz to ./Data/Datasets/MNIST/raw/t10k-labels-idx1-ubyte.gz\n"
     ]
    },
    {
     "name": "stderr",
     "output_type": "stream",
     "text": [
      "100%|██████████| 4.54k/4.54k [00:00<00:00, 1.43MB/s]"
     ]
    },
    {
     "name": "stdout",
     "output_type": "stream",
     "text": [
      "Extracting ./Data/Datasets/MNIST/raw/t10k-labels-idx1-ubyte.gz to ./Data/Datasets/MNIST/raw\n",
      "\n"
     ]
    },
    {
     "name": "stderr",
     "output_type": "stream",
     "text": [
      "\n"
     ]
    }
   ],
   "source": [
    "ds_train = datasets.MNIST(data_dir, train=True, download=True).data\n",
    "ds_test = datasets.MNIST(data_dir, train=False, download=True).data\n",
    "\n",
    "ds_train_targets = datasets.MNIST(data_dir, train=True, download=True).targets\n",
    "ds_test_targets = datasets.MNIST(data_dir, train=False, download=True).targets\n",
    "\n",
    "ds_train = (ds_train.float().reshape(-1, 784)/255)\n",
    "ds_test = (ds_test.float().reshape(-1, 784)/255)\n",
    "ds_train = torch.utils.data.TensorDataset(ds_train, ds_train_targets)\n",
    "ds_test = torch.utils.data.TensorDataset(ds_test, ds_test_targets)\n",
    "\n",
    "# Add num_workers for better performance\n",
    "train_dl = DataLoader(ds_train, batch_size=bsize, shuffle=True, num_workers=4)\n",
    "val_dl = DataLoader(ds_test, batch_size=bsize, shuffle=False, num_workers=4)"
   ]
  },
  {
   "cell_type": "code",
   "execution_count": null,
   "id": "ccdc250d",
   "metadata": {},
   "outputs": [
    {
     "data": {
      "text/plain": [
       "torch.Size([256, 784])"
      ]
     },
     "execution_count": 5,
     "metadata": {},
     "output_type": "execute_result"
    }
   ],
   "source": [
    "next(iter(train_dl))[0].shape"
   ]
  },
  {
   "cell_type": "code",
   "execution_count": null,
   "id": "ff6fa40c",
   "metadata": {},
   "outputs": [
    {
     "name": "stdout",
     "output_type": "stream",
     "text": [
      "1\n"
     ]
    }
   ],
   "source": [
    "# from pvae.encoder import PL_PVAE\n",
    "\n",
    "train_model = False\n",
    "\n",
    "if train_model:\n",
    "    model = PL_PVAE(train_dl)\n",
    "    trainer_args = {\n",
    "        \"callbacks\": [pl.pytorch.callbacks.ModelCheckpoint(dirpath=checkpoint_dir, monitor='val_elbo', save_top_k=1, mode='min', verbose=True)],\n",
    "        \"accelerator\": \"cpu\" if device == 'cpu' else \"gpu\",\n",
    "        \"gradient_clip_val\": 1.0,\n",
    "    }\n",
    "    #trainer_args[\"logger\"].watch(model, log=\"all\")\n",
    "    if device != 'cpu':\n",
    "        trainer_args[\"devices\"] = device\n",
    "    trainer = pl.Trainer(**trainer_args, default_root_dir=checkpoint_dir, max_epochs=55, num_sanity_val_steps=0)\n",
    "    trainer.fit(model, val_dataloaders=val_dl, train_dataloaders=train_dl)\n",
    "else:\n",
    "    f = '../networks/encoder.ckpt'\n",
    "    model = PL_PVAE.load_from_checkpoint(f, train_dl=train_dl)"
   ]
  },
  {
   "cell_type": "code",
   "execution_count": null,
   "id": "9b122103",
   "metadata": {},
   "outputs": [
    {
     "name": "stdout",
     "output_type": "stream",
     "text": [
      "Using device: mps\n",
      "target: tensor(8)\n",
      "torch.Size([78, 1, 128])\n",
      "torch.Size([1, 128])\n",
      "torch.Size([78, 1, 128])\n"
     ]
    },
    {
     "data": {
      "image/png": "[encoded data removed]",
      "text/plain": [
       "<Figure size 640x480 with 1 Axes>"
      ]
     },
     "metadata": {},
     "output_type": "display_data"
    }
   ],
   "source": [
    "import matplotlib.pyplot as plt\n",
    "import seaborn as sns\n",
    "\n",
    "batch = next(iter(train_dl))\n",
    "img = batch[0][0]\n",
    "target = batch[1][0]\n",
    "\n",
    "device = torch.device(\"cuda\" if torch.cuda.is_available() else \"mps\" if torch.backends.mps.is_available() else \"cpu\")\n",
    "print(f\"Using device: {device}\")\n",
    "\n",
    "# Move model and tensor to the same deviceprint(times.shape)\n",
    "model = model.to(device)\n",
    "x = img.to(device)\n",
    "\n",
    "with torch.no_grad():\n",
    "    dist, du, z, y = model.forward(x.unsqueeze(0).unsqueeze(0))\n",
    "\n",
    "\n",
    "plt.imshow(y[0].cpu().numpy().reshape(28, 28), cmap='gray')\n",
    "print('target:', target)\n",
    "\n",
    "sample, indicator, times = dist.rsample(hard=True, return_indicator=True)\n",
    "\n",
    "print(times.shape)\n",
    "print(sample.shape)\n",
    "print(indicator.shape)"
   ]
  },
  {
   "cell_type": "code",
   "execution_count": null,
   "id": "8e70cd99",
   "metadata": {},
   "outputs": [
    {
     "data": {
      "image/png": "[encoded data removed]",
      "text/plain": [
       "<Figure size 1000x500 with 3 Axes>"
      ]
     },
     "metadata": {},
     "output_type": "display_data"
    }
   ],
   "source": [
    "fig, ax = plt.subplots(1, 2, figsize=(10, 5))\n",
    "\n",
    "sns.heatmap(indicator[:,0,:].long().cpu().numpy().T, ax=ax[0])\n",
    "ax[0].set_xlabel('time')\n",
    "ax[0].set_ylabel('neuron')\n",
    "\n",
    "t = times[:,0,:][:,0].cpu().numpy()\n",
    "ax[1].scatter(torch.arange(len(t)), t)\n",
    "\n",
    "plt.tight_layout()\n",
    "plt.show()"
   ]
  },
  {
   "cell_type": "code",
   "execution_count": null,
   "id": "b57f049b",
   "metadata": {},
   "outputs": [
    {
     "data": {
      "image/png": "[encoded data removed]",
      "text/plain": [
       "<Figure size 1000x600 with 1 Axes>"
      ]
     },
     "metadata": {},
     "output_type": "display_data"
    }
   ],
   "source": [
    "# Extract the spike times for each neuron\n",
    "# We use the fact that indicator and times have shape (n_trials, 1, n_neurons)\n",
    "indicator_np = indicator[:, 0, :].cpu().numpy()  # shape: (n_trials, n_neurons)\n",
    "times_np = times[:, 0, :].cpu().numpy()          # shape: (n_trials, n_neurons)\n",
    "\n",
    "# Create one spike train for each neuron based on the indicator mask\n",
    "spike_trains = [times_np[:, i][indicator_np[:, i]] for i in range(indicator_np.shape[1])]\n",
    "\n",
    "# Plot the spike times as an eventplot\n",
    "plt.figure(figsize=(10, 6))\n",
    "plt.eventplot(spike_trains, colors='black')\n",
    "plt.xlabel(\"Time\")\n",
    "plt.ylabel(\"Neuron\")\n",
    "plt.title(\"Spike Times (Eventplot)\")\n",
    "plt.show()"
   ]
  },
  {
   "cell_type": "code",
   "execution_count": null,
   "id": "f3c1d682",
   "metadata": {},
   "outputs": [
    {
     "name": "stdout",
     "output_type": "stream",
     "text": [
      "Creating decoder dataset with ultra-fast method...\n"
     ]
    }
   ],
   "source": [
    "# ULTRA-FAST VERSION - Maximum optimization\n",
    "from tqdm.notebook import tqdm\n",
    "from pssm.utils import cumulative_spike_matrix\n",
    "from torch.utils.data import Subset\n",
    "\n",
    "\n",
    "n_timesteps = 100   # determines time consant\n",
    "n_repeats = 10      # Number of repeats for sampling\n",
    "\n",
    "\n",
    "def create_decoder_dataset_fast(model, dataset, n_timesteps=100, n_repeats=10, max_samples=10000):\n",
    "    \"\"\"\n",
    "    Ultra-fast version that limits the dataset size and uses maximum vectorization.\n",
    "    \"\"\"\n",
    "    model = model.to(device)\n",
    "    model.eval()\n",
    "    \n",
    "    # Limit dataset size for speed\n",
    "    limited_dataset = torch.utils.data.Subset(dataset, range(min(max_samples, len(dataset))))\n",
    "    \n",
    "    # Use DataLoader for better batching\n",
    "    fast_loader = DataLoader(limited_dataset, batch_size=128, shuffle=False, num_workers=0)\n",
    "    \n",
    "    all_data = []\n",
    "    all_labels = []\n",
    "    \n",
    "    with torch.no_grad():\n",
    "        for batch_imgs, batch_labels in tqdm(fast_loader, desc=\"Ultra-fast processing\"):\n",
    "            batch_imgs = batch_imgs.to(device)\n",
    "            batch_labels = batch_labels.to(device)\n",
    "            \n",
    "            # Process each image in the batch\n",
    "            for img, label in zip(batch_imgs, batch_labels):\n",
    "                # Get distribution\n",
    "                dist, du, z, y = model.forward(img.unsqueeze(0).unsqueeze(0))\n",
    "                \n",
    "                # Sample multiple times efficiently\n",
    "                for _ in range(n_repeats):\n",
    "                    sample, indicator, times = dist.rsample(hard=True, return_indicator=True)\n",
    "                    cum_matrix = cumulative_spike_matrix(indicator, times, n_steps=n_timesteps)\n",
    "                    \n",
    "                    # Add all timesteps at once\n",
    "                    all_data.append(cum_matrix.T.cpu())  # (n_timesteps, n_neurons)\n",
    "                    all_labels.extend([label.cpu().item()] * n_timesteps)\n",
    "    \n",
    "    # Stack everything\n",
    "    decoder_data = torch.cat(all_data, dim=0)\n",
    "    decoder_labels = torch.tensor(all_labels, dtype=torch.long)\n",
    "    \n",
    "    return decoder_data, decoder_labels, dist\n",
    "\n",
    "# Use the ultra-fast version (processes only first 1000 images for speed)\n",
    "print(\"Creating decoder dataset with ultra-fast method...\")\n",
    "\n"
   ]
  },
  {
   "cell_type": "code",
   "execution_count": null,
   "id": "f7c2a421",
   "metadata": {},
   "outputs": [
    {
     "data": {
      "application/vnd.jupyter.widget-view+json": {
       "model_id": "33dadb9408304cefb43934ad56df19af",
       "version_major": 2,
       "version_minor": 0
      },
      "text/plain": [
       "Ultra-fast processing:   0%|          | 0/1 [00:00<?, ?it/s]"
      ]
     },
     "metadata": {},
     "output_type": "display_data"
    },
    {
     "name": "stdout",
     "output_type": "stream",
     "text": [
      "Fast decoder data shape: torch.Size([7000, 128])\n",
      "Fast decoder labels shape: torch.Size([7000])\n"
     ]
    }
   ],
   "source": [
    "load_decoder = False\n",
    "\n",
    "if load_decoder:\n",
    "    # load saved decoder data and labels\n",
    "    decoder_data_fast = torch.load('./data/decoder/decoder_data_fast.pt')\n",
    "    decoder_labels_fast = torch.load('./data/decoder/decoder_labels_fast.pt')\n",
    "else:\n",
    "    decoder_data_fast, decoder_labels_fast, dist_fast = create_decoder_dataset_fast(\n",
    "        model, ds_train, n_timesteps=n_timesteps, n_repeats=n_repeats, max_samples=7\n",
    "        )\n",
    "\n",
    "    # Save decoder data and labels\n",
    "    torch.save(decoder_data_fast, './data/decoder/decoder_data_fast.pt')\n",
    "    torch.save(decoder_labels_fast, './data/decoder/decoder_labels_fast.pt')\n",
    "\n",
    "\n",
    "print(f\"Fast decoder data shape: {decoder_data_fast.shape}\")\n",
    "print(f\"Fast decoder labels shape: {decoder_labels_fast.shape}\")"
   ]
  },
  {
   "cell_type": "code",
   "execution_count": null,
   "id": "74235382",
   "metadata": {},
   "outputs": [
    {
     "name": "stdout",
     "output_type": "stream",
     "text": [
      "tensor([[ 0,  0,  0,  ...,  0,  1,  0],\n",
      "        [ 1,  0,  0,  ...,  0,  1,  0],\n",
      "        [ 1,  0,  0,  ...,  0,  1,  0],\n",
      "        ...,\n",
      "        [ 7,  1, 10,  ...,  5,  1,  4],\n",
      "        [ 7,  1, 10,  ...,  5,  1,  4],\n",
      "        [ 8,  1, 10,  ...,  5,  1,  4]])\n"
     ]
    }
   ],
   "source": [
    "# Decoder data is the number of spikes. shape = (n timesteps, n_neurons)\n",
    "print(decoder_data_fast)"
   ]
  },
  {
   "cell_type": "code",
   "execution_count": null,
   "id": "078c6c71",
   "metadata": {},
   "outputs": [
    {
     "data": {
      "text/plain": [
       "tensor([5, 5, 5,  ..., 1, 1, 1])"
      ]
     },
     "execution_count": 17,
     "metadata": {},
     "output_type": "execute_result"
    }
   ],
   "source": [
    "# decoder labels are the categories. shape = (n timesteps)\n",
    "decoder_labels_fast"
   ]
  },
  {
   "cell_type": "code",
   "execution_count": null,
   "id": "5332618e",
   "metadata": {},
   "outputs": [
    {
     "data": {
      "text/plain": [
       "torch.Size([7000])"
      ]
     },
     "execution_count": 18,
     "metadata": {},
     "output_type": "execute_result"
    }
   ],
   "source": [
    "decoder_labels_fast.shape"
   ]
  },
  {
   "cell_type": "code",
   "execution_count": null,
   "id": "d2114b8b",
   "metadata": {},
   "outputs": [
    {
     "data": {
      "text/plain": [
       "torch.Size([7000, 128])"
      ]
     },
     "execution_count": 19,
     "metadata": {},
     "output_type": "execute_result"
    }
   ],
   "source": [
    "decoder_data_fast.shape"
   ]
  },
  {
   "cell_type": "code",
   "execution_count": null,
   "id": "78f256bf",
   "metadata": {},
   "outputs": [
    {
     "name": "stdout",
     "output_type": "stream",
     "text": [
      "Fast decoder train loader created with 7000 samples.\n",
      "Batch size: 256, Number of batches: 28\n"
     ]
    }
   ],
   "source": [
    "# Create a train_loader for the fast decoder data\n",
    "\n",
    "from torch.utils.data import TensorDataset\n",
    "dataset = TensorDataset(decoder_data_fast, decoder_labels_fast)\n",
    "decoder_train_loader_fast = DataLoader(dataset, batch_size=bsize, shuffle=True)\n",
    "print(f\"Fast decoder train loader created with {len(decoder_train_loader_fast.dataset)} samples.\")\n",
    "print(f\"Batch size: {bsize}, Number of batches: {len(decoder_train_loader_fast)}\")"
   ]
  },
  {
   "cell_type": "code",
   "execution_count": null,
   "id": "4097cc94",
   "metadata": {},
   "outputs": [
    {
     "name": "stdout",
     "output_type": "stream",
     "text": [
      "Epoch [1/100], Loss: 0.6755\n",
      "Epoch [2/100], Loss: 0.1868\n",
      "Epoch [3/100], Loss: 0.0809\n",
      "Epoch [4/100], Loss: 0.1006\n",
      "Epoch [5/100], Loss: 0.0795\n",
      "Epoch [6/100], Loss: 0.0602\n",
      "Epoch [7/100], Loss: 0.0218\n",
      "Epoch [8/100], Loss: 0.0260\n",
      "Epoch [9/100], Loss: 0.0139\n",
      "Epoch [10/100], Loss: 0.0212\n",
      "Epoch [11/100], Loss: 0.0070\n",
      "Epoch [12/100], Loss: 0.0174\n",
      "Epoch [13/100], Loss: 0.0090\n",
      "Epoch [14/100], Loss: 0.0223\n",
      "Epoch [15/100], Loss: 0.0030\n",
      "Epoch [16/100], Loss: 0.0027\n",
      "Epoch [17/100], Loss: 0.0068\n",
      "Epoch [18/100], Loss: 0.0021\n",
      "Epoch [19/100], Loss: 0.0003\n",
      "Epoch [20/100], Loss: 0.0000\n",
      "Epoch [21/100], Loss: 0.0006\n",
      "Epoch [22/100], Loss: 0.0084\n",
      "Epoch [23/100], Loss: 0.0001\n",
      "Epoch [24/100], Loss: 0.0141\n",
      "Epoch [25/100], Loss: 0.0028\n",
      "Epoch [26/100], Loss: 0.0047\n",
      "Epoch [27/100], Loss: 0.0024\n",
      "Epoch [28/100], Loss: 0.0040\n",
      "Epoch [29/100], Loss: 0.0148\n",
      "Epoch [30/100], Loss: 0.0003\n",
      "Epoch [31/100], Loss: 0.0012\n",
      "Epoch [32/100], Loss: 0.0012\n",
      "Epoch [33/100], Loss: 0.0030\n",
      "Epoch [34/100], Loss: 0.0007\n",
      "Epoch [35/100], Loss: 0.0001\n",
      "Epoch [36/100], Loss: 0.0001\n",
      "Epoch [37/100], Loss: 0.0015\n",
      "Epoch [38/100], Loss: 0.0044\n",
      "Epoch [39/100], Loss: 0.0000\n",
      "Epoch [40/100], Loss: 0.0001\n",
      "Epoch [41/100], Loss: 0.0016\n",
      "Epoch [42/100], Loss: 0.0014\n",
      "Epoch [43/100], Loss: 0.0000\n",
      "Epoch [44/100], Loss: 0.0002\n",
      "Epoch [45/100], Loss: 0.0000\n",
      "Epoch [46/100], Loss: 0.0013\n",
      "Epoch [47/100], Loss: 0.0006\n",
      "Epoch [48/100], Loss: 0.0001\n",
      "Epoch [49/100], Loss: 0.0005\n",
      "Epoch [50/100], Loss: 0.0001\n",
      "Epoch [51/100], Loss: 0.0000\n",
      "Epoch [52/100], Loss: 0.0005\n",
      "Epoch [53/100], Loss: 0.0006\n",
      "Epoch [54/100], Loss: 0.0003\n",
      "Epoch [55/100], Loss: 0.0002\n",
      "Epoch [56/100], Loss: 0.0006\n",
      "Epoch [57/100], Loss: 0.0007\n",
      "Epoch [58/100], Loss: 0.0003\n",
      "Epoch [59/100], Loss: 0.0000\n",
      "Epoch [60/100], Loss: 0.0003\n",
      "Epoch [61/100], Loss: 0.0002\n",
      "Epoch [62/100], Loss: 0.0002\n",
      "Epoch [63/100], Loss: 0.0001\n",
      "Epoch [64/100], Loss: 0.0000\n",
      "Epoch [65/100], Loss: 0.0000\n",
      "Epoch [66/100], Loss: 0.0000\n",
      "Epoch [67/100], Loss: 0.0004\n",
      "Epoch [68/100], Loss: 0.0001\n",
      "Epoch [69/100], Loss: 0.0004\n",
      "Epoch [70/100], Loss: 0.0000\n",
      "Epoch [71/100], Loss: 0.0003\n",
      "Epoch [72/100], Loss: 0.0004\n",
      "Epoch [73/100], Loss: 0.0000\n",
      "Epoch [74/100], Loss: 0.0000\n",
      "Epoch [75/100], Loss: 0.0001\n",
      "Epoch [76/100], Loss: 0.0000\n",
      "Epoch [77/100], Loss: 0.0000\n",
      "Epoch [78/100], Loss: 0.0000\n",
      "Epoch [79/100], Loss: 0.0003\n",
      "Epoch [80/100], Loss: 0.0000\n",
      "Epoch [81/100], Loss: 0.0000\n",
      "Epoch [82/100], Loss: 0.0000\n",
      "Epoch [83/100], Loss: 0.0000\n",
      "Epoch [84/100], Loss: 0.0000\n",
      "Epoch [85/100], Loss: 0.0000\n",
      "Epoch [86/100], Loss: 0.0006\n",
      "Epoch [87/100], Loss: 0.0001\n",
      "Epoch [88/100], Loss: 0.0000\n",
      "Epoch [89/100], Loss: 0.0000\n",
      "Epoch [90/100], Loss: 0.0000\n",
      "Epoch [91/100], Loss: 0.0000\n",
      "Epoch [92/100], Loss: 0.0001\n",
      "Epoch [93/100], Loss: 0.0003\n",
      "Epoch [94/100], Loss: 0.0002\n",
      "Epoch [95/100], Loss: 0.0000\n",
      "Epoch [96/100], Loss: 0.0000\n",
      "Epoch [97/100], Loss: 0.0001\n",
      "Epoch [98/100], Loss: 0.0002\n",
      "Epoch [99/100], Loss: 0.0002\n",
      "Epoch [100/100], Loss: 0.0000\n"
     ]
    }
   ],
   "source": [
    "from pssm.decoder import MLP\n",
    "\n",
    "input_size = 128 # ecoder_data_fast.shape[1]  # Number of neurons\n",
    "output_size = 10  # Number of classes\n",
    "\n",
    "decoder = MLP(input_size=input_size, output_size=output_size)\n",
    "# Define a loss function and optimizer\n",
    "criterion = nn.CrossEntropyLoss()  # Instead of logistic regression, since logistic is for binary classification\n",
    "optimizer = torch.optim.Adam(decoder.parameters(), lr=0.001)\n",
    "\n",
    "# mlp.train(spike_trains, num_epochs=100, criterion=criterion, optimizer=optimizer, batch_size=32)\n",
    "decoder.fit(train_loader=decoder_train_loader_fast, optimizer=optimizer, criterion=criterion, num_epochs=100)\n",
    "\n",
    "# x = x.cpu()\n",
    "# logits = decoder()\n",
    "# print(\"Logits shape:\", logits.shape)\n",
    "# probs = torch.softmax(logits, dim=1)\n",
    "\n",
    "# Evaluate the MLP\n",
    "# mlp.evaluate(spike_train_loader)"
   ]
  },
  {
   "cell_type": "code",
   "execution_count": null,
   "id": "af4f977d",
   "metadata": {},
   "outputs": [
    {
     "name": "stdout",
     "output_type": "stream",
     "text": [
      "Input shape: torch.Size([128])\n",
      "Logits shape: tensor([ 1.9908, -0.6090,  0.9184, -5.9857, -4.6964,  8.1954, -3.7785, -6.3842,\n",
      "        -4.2612, -6.2728], grad_fn=<ViewBackward0>)\n",
      "Probabilities shape: tensor([2.0143e-03, 1.4964e-04, 6.8925e-04, 6.9181e-07, 2.5114e-06, 9.9713e-01,\n",
      "        6.2889e-06, 4.6442e-07, 3.8809e-06, 5.1913e-07],\n",
      "       grad_fn=<SoftmaxBackward0>)\n"
     ]
    }
   ],
   "source": [
    "x = decoder_data_fast[0]   # one sample, shape [784]\n",
    "\n",
    "print(\"Input shape:\", x.shape)  # [784]\n",
    "\n",
    "x = x.float()\n",
    "\n",
    "logits = decoder(x)\n",
    "\n",
    "# probabilities\n",
    "probs = torch.softmax(logits, dim=0)\n",
    "\n",
    "print(\"Logits shape:\", logits)   # [1, 10]\n",
    "print(\"Probabilities shape:\", probs)  # [1, 10]"
   ]
  },
  {
   "cell_type": "code",
   "execution_count": null,
   "id": "0653f137",
   "metadata": {},
   "outputs": [
    {
     "data": {
      "text/plain": [
       "10"
      ]
     },
     "execution_count": 24,
     "metadata": {},
     "output_type": "execute_result"
    }
   ],
   "source": [
    "output_size"
   ]
  },
  {
   "cell_type": "code",
   "execution_count": null,
   "id": "69168fff",
   "metadata": {},
   "outputs": [
    {
     "data": {
      "image/png": "[encoded data removed]",
      "text/plain": [
       "<Figure size 640x480 with 1 Axes>"
      ]
     },
     "metadata": {},
     "output_type": "display_data"
    }
   ],
   "source": [
    "# plot probabilities over classes\n",
    "import matplotlib.pyplot as plt\n",
    "plt.bar(range(output_size), probs.detach().cpu().numpy())\n",
    "plt.xlabel('Class')\n",
    "plt.ylabel('Probability')\n",
    "plt.title('Class Probabilities')\n",
    "plt.xticks(range(output_size))\n",
    "plt.show()"
   ]
  },
  {
   "cell_type": "code",
   "execution_count": null,
   "id": "80814d48",
   "metadata": {},
   "outputs": [],
   "source": []
  }
 ],
 "metadata": {
  "kernelspec": {
   "display_name": "cajal",
   "language": "python",
   "name": "python3"
  },
  "language_info": {
   "codemirror_mode": {
    "name": "ipython",
    "version": 3
   },
   "file_extension": ".py",
   "mimetype": "text/x-python",
   "name": "python",
   "nbconvert_exporter": "python",
   "pygments_lexer": "ipython3",
   "version": "3.10.18"
  }
 },
 "nbformat": 4,
 "nbformat_minor": 5
}
