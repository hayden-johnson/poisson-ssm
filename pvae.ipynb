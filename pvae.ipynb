{
 "cells": [
  {
   "cell_type": "markdown",
   "id": "68c49500-d331-4529-a189-66955134371a",
   "metadata": {},
   "source": [
    "# Results (tables, figs)"
   ]
  },
  {
   "cell_type": "code",
   "execution_count": null,
   "id": "db439d9c",
   "metadata": {},
   "outputs": [],
   "source": []
  },
  {
   "cell_type": "code",
   "execution_count": null,
   "id": "c2eb766f",
   "metadata": {},
   "outputs": [],
   "source": []
  },
  {
   "cell_type": "markdown",
   "id": "8a0a6ddf",
   "metadata": {},
   "source": []
  },
  {
   "cell_type": "code",
   "execution_count": 1,
   "id": "a44e7279-0f20-41fe-80f9-2d4c873d3e9d",
   "metadata": {},
   "outputs": [],
   "source": [
    "import torch.nn as nn\n",
    "from torchvision import datasets\n",
    "from torch.utils.data import DataLoader\n",
    "import torchvision, math, os, torch\n",
    "import lightning as pl\n",
    "\n",
    "name = 'PVAE_minimal' #change to your run name\n",
    "data_dir = \"./Data/Datasets/\" #change to your data directory\n",
    "project_name = \"PVAE\" #change to your wandb project name\n",
    "root_dir = \"data\"\n",
    "bsize = 256\n",
    "train_device = \"0\"\n",
    "device = train_device + \",\" #lightning device formatting\n",
    "checkpoint_dir = os.path.join(root_dir, name)\n",
    "os.makedirs(checkpoint_dir, exist_ok=True)"
   ]
  },
  {
   "cell_type": "code",
   "execution_count": 2,
   "id": "f153da39",
   "metadata": {},
   "outputs": [],
   "source": [
    "ds_train = datasets.MNIST(data_dir, train=True, download=True).data\n",
    "ds_test = datasets.MNIST(data_dir, train=False, download=True).data\n",
    "ds_train = (ds_train.float().reshape(-1, 784)/255)\n",
    "ds_test = (ds_test.float().reshape(-1, 784)/255)\n",
    "ds_train = torch.utils.data.TensorDataset(ds_train)\n",
    "ds_test = torch.utils.data.TensorDataset(ds_test)\n",
    "\n",
    "# Add num_workers for better performance\n",
    "train_dl = DataLoader(ds_train, batch_size=bsize, shuffle=True, num_workers=4)\n",
    "val_dl = DataLoader(ds_test, batch_size=bsize, shuffle=False, num_workers=4)"
   ]
  },
  {
   "cell_type": "code",
   "execution_count": 3,
   "id": "403b3f48",
   "metadata": {},
   "outputs": [],
   "source": [
    "class Poisson:\n",
    "    def __init__(self, log_rate, t=0.0):\n",
    "        self.log_rate = log_rate\n",
    "        self.rate = torch.exp(\n",
    "            self.log_rate.clamp(None, 5)\n",
    "        ) + 1e-6\n",
    "        self.n_trials = int(math.ceil(max(self.rate.max().item(),1)*5)) # a large enough number of trials to sample from\n",
    "        self.t = t\n",
    "    def rsample(self, hard: bool = False, return_indicator=False):\n",
    "        x = torch.distributions.Exponential(self.rate).rsample((self.n_trials,))  # inter-event times\n",
    "        times = torch.cumsum(x, dim=0)  # arrival times of events\n",
    "        indicator = times < 1.0 # did events arrive before the end of the time interval\n",
    "        if not (hard or self.t == 0): # soften the indicator function\n",
    "            indicator = torch.sigmoid((1.0 - times) / self.t)\n",
    "        if return_indicator:\n",
    "          return indicator.sum(0).float(), indicator, times\n",
    "        else:\n",
    "          return indicator.sum(0).float()\n",
    "    def kl(self, prior, du):\n",
    "        #\"prior\" argument referes to log rate of prior\n",
    "        #equation is r * (1 - dr + dr * log(dr))\n",
    "        r = torch.exp(prior.clamp(None, 5)) + 1e-6\n",
    "        rdr = self.rate #final rate is rdr\n",
    "        logdr = du #log of the modulation of prior rate\n",
    "        return r-rdr+rdr*logdr"
   ]
  },
  {
   "cell_type": "code",
   "execution_count": 4,
   "id": "394c09ec",
   "metadata": {},
   "outputs": [],
   "source": [
    "class PVAE(nn.Module):\n",
    "    def __init__(self):\n",
    "        super(PVAE, self).__init__()\n",
    "        self.encode = nn.Sequential(\n",
    "            nn.Linear(784, 128),\n",
    "        )\n",
    "        self.decode = nn.Sequential(\n",
    "            nn.Linear(128, 784),\n",
    "            nn.Sigmoid(),\n",
    "        )\n",
    "        self.prior = nn.Parameter(torch.zeros((1, 128)))\n",
    "        self.t = 1.0 #temperature\n",
    "    def forward(self, x):\n",
    "        validation = not torch.is_grad_enabled()\n",
    "        du = self.encode(x).clamp(None, 5)\n",
    "        dist = Poisson((du + self.prior.clamp(None, 5)).clamp(None, 5), self.t)\n",
    "        z = dist.rsample(hard=validation)\n",
    "        y = self.decode(z)\n",
    "        return dist, du, z, y"
   ]
  },
  {
   "cell_type": "code",
   "execution_count": 5,
   "id": "ecb9e509",
   "metadata": {},
   "outputs": [],
   "source": [
    "class PL_PVAE(pl.LightningModule):\n",
    "    def __init__(self):\n",
    "        super(PL_PVAE, self).__init__()\n",
    "        self.model = PVAE()\n",
    "        self.opt = torch.optim.Adam\n",
    "        self.opt_params = {\n",
    "            'lr': 1e-3,\n",
    "        }\n",
    "        self.beta = 0.0\n",
    "    def forward(self, x):\n",
    "        return self.model(x[0].flatten(1))\n",
    "    def training_step(self, batch, batch_idx):\n",
    "        epoch = self.current_epoch + batch_idx/len(train_dl)\n",
    "        self.beta = min(5.0, 5*epoch/250)\n",
    "        self.model.t = max((1.0 - 0.95*epoch/250), 0.05)\n",
    "        self.log('beta', self.beta)\n",
    "        self.log('t', self.model.t)\n",
    "\n",
    "        dist, du, z, y = self(batch)\n",
    "        kl = dist.kl(self.model.prior, du).mean()\n",
    "        mse = ((y - batch[0])**2).sum(-1).mean()\n",
    "        loss = self.beta*kl + mse\n",
    "        self.log('train_loss', loss.item(), on_step=True, on_epoch=True, prog_bar=True)\n",
    "        self.log('train_elbo', (kl + mse).item(), on_step=True, on_epoch=True, prog_bar=True)\n",
    "        return loss\n",
    "    @torch.no_grad()\n",
    "    def validation_step(self, batch, batch_idx):\n",
    "        dist, du, z, y = self(batch)\n",
    "        kl = dist.kl(self.model.prior, du).mean()\n",
    "        mse = ((y - batch[0])**2).sum(-1).mean()\n",
    "        loss = self.beta*kl + mse\n",
    "\n",
    "        self.log('val_mse', mse.item(), on_step=True, on_epoch=True, prog_bar=True)\n",
    "        self.log('val_kl', kl.item(), on_step=True, on_epoch=True, prog_bar=True)\n",
    "        self.log('val_elbo', (kl + mse).item(), on_step=True, on_epoch=True, prog_bar=True)\n",
    "        self.log('l0_sparsity', (z == 0).float().mean().item(), on_step=True, on_epoch=True, prog_bar=True)\n",
    "        return loss\n",
    "    def configure_optimizers(self):\n",
    "        return self.opt(self.parameters(), **self.opt_params)"
   ]
  },
  {
   "cell_type": "code",
   "execution_count": 6,
   "id": "8b5a6ec9",
   "metadata": {},
   "outputs": [
    {
     "name": "stderr",
     "output_type": "stream",
     "text": [
      "GPU available: True (mps), used: True\n",
      "TPU available: False, using: 0 TPU cores\n",
      "HPU available: False, using: 0 HPUs\n",
      "TPU available: False, using: 0 TPU cores\n",
      "HPU available: False, using: 0 HPUs\n",
      "/Users/hayden/miniconda3/envs/cajal/lib/python3.10/site-packages/lightning/pytorch/callbacks/model_checkpoint.py:654: Checkpoint directory /Users/hayden/Desktop/code/cajal/project/PoissonVAE/data/PVAE_minimal exists and is not empty.\n",
      "\n",
      "  | Name  | Type | Params | Mode \n",
      "---------------------------------------\n",
      "0 | model | PVAE | 201 K  | train\n",
      "---------------------------------------\n",
      "201 K     Trainable params\n",
      "0         Non-trainable params\n",
      "201 K     Total params\n",
      "0.807     Total estimated model params size (MB)\n",
      "6         Modules in train mode\n",
      "0         Modules in eval mode\n",
      "/Users/hayden/miniconda3/envs/cajal/lib/python3.10/site-packages/lightning/pytorch/callbacks/model_checkpoint.py:654: Checkpoint directory /Users/hayden/Desktop/code/cajal/project/PoissonVAE/data/PVAE_minimal exists and is not empty.\n",
      "\n",
      "  | Name  | Type | Params | Mode \n",
      "---------------------------------------\n",
      "0 | model | PVAE | 201 K  | train\n",
      "---------------------------------------\n",
      "201 K     Trainable params\n",
      "0         Non-trainable params\n",
      "201 K     Total params\n",
      "0.807     Total estimated model params size (MB)\n",
      "6         Modules in train mode\n",
      "0         Modules in eval mode\n",
      "/Users/hayden/miniconda3/envs/cajal/lib/python3.10/site-packages/lightning/pytorch/trainer/connectors/data_connector.py:420: Consider setting `persistent_workers=True` in 'train_dataloader' to speed up the dataloader worker initialization.\n",
      "/Users/hayden/miniconda3/envs/cajal/lib/python3.10/site-packages/lightning/pytorch/trainer/connectors/data_connector.py:420: Consider setting `persistent_workers=True` in 'train_dataloader' to speed up the dataloader worker initialization.\n",
      "/Users/hayden/miniconda3/envs/cajal/lib/python3.10/site-packages/lightning/pytorch/trainer/connectors/data_connector.py:420: Consider setting `persistent_workers=True` in 'val_dataloader' to speed up the dataloader worker initialization.\n",
      "/Users/hayden/miniconda3/envs/cajal/lib/python3.10/site-packages/lightning/pytorch/trainer/connectors/data_connector.py:420: Consider setting `persistent_workers=True` in 'val_dataloader' to speed up the dataloader worker initialization.\n"
     ]
    },
    {
     "name": "stdout",
     "output_type": "stream",
     "text": [
      "Epoch 0: 100%|██████████| 235/235 [00:09<00:00, 23.75it/s, v_num=3, train_loss_step=13.10, train_elbo_step=19.20, val_mse_step=12.40, val_kl_step=12.00, val_elbo_step=24.30, l0_sparsity_step=0.0483, val_mse_epoch=15.40, val_kl_epoch=6.310, val_elbo_epoch=21.70, l0_sparsity_epoch=0.0906, train_loss_epoch=27.70, train_elbo_epoch=31.00]"
     ]
    },
    {
     "name": "stderr",
     "output_type": "stream",
     "text": [
      "Epoch 0, global step 235: 'val_elbo' reached 21.72278 (best 21.72278), saving model to '/Users/hayden/Desktop/code/cajal/project/PoissonVAE/data/PVAE_minimal/epoch=0-step=235.ckpt' as top 1\n"
     ]
    },
    {
     "name": "stdout",
     "output_type": "stream",
     "text": [
      "Epoch 1: 100%|██████████| 235/235 [00:09<00:00, 24.44it/s, v_num=3, train_loss_step=9.330, train_elbo_step=15.40, val_mse_step=8.800, val_kl_step=11.90, val_elbo_step=20.70, l0_sparsity_step=0.0474, val_mse_epoch=12.40, val_kl_epoch=6.550, val_elbo_epoch=19.00, l0_sparsity_epoch=0.073, train_loss_epoch=10.20, train_elbo_epoch=16.30] "
     ]
    },
    {
     "name": "stderr",
     "output_type": "stream",
     "text": [
      "Epoch 1, global step 470: 'val_elbo' reached 18.98311 (best 18.98311), saving model to '/Users/hayden/Desktop/code/cajal/project/PoissonVAE/data/PVAE_minimal/epoch=1-step=470.ckpt' as top 1\n"
     ]
    },
    {
     "name": "stdout",
     "output_type": "stream",
     "text": [
      "Epoch 2: 100%|██████████| 235/235 [00:08<00:00, 27.76it/s, v_num=3, train_loss_step=8.440, train_elbo_step=14.30, val_mse_step=8.740, val_kl_step=9.920, val_elbo_step=18.70, l0_sparsity_step=0.0483, val_mse_epoch=11.40, val_kl_epoch=5.750, val_elbo_epoch=17.20, l0_sparsity_epoch=0.080, train_loss_epoch=8.620, train_elbo_epoch=14.10]"
     ]
    },
    {
     "name": "stderr",
     "output_type": "stream",
     "text": [
      "Epoch 2, global step 705: 'val_elbo' reached 17.18991 (best 17.18991), saving model to '/Users/hayden/Desktop/code/cajal/project/PoissonVAE/data/PVAE_minimal/epoch=2-step=705.ckpt' as top 1\n"
     ]
    },
    {
     "name": "stdout",
     "output_type": "stream",
     "text": [
      "Epoch 3: 100%|██████████| 235/235 [00:07<00:00, 30.70it/s, v_num=3, train_loss_step=7.190, train_elbo_step=11.20, val_mse_step=8.710, val_kl_step=8.640, val_elbo_step=17.30, l0_sparsity_step=0.0581, val_mse_epoch=10.80, val_kl_epoch=5.230, val_elbo_epoch=16.00, l0_sparsity_epoch=0.087, train_loss_epoch=7.970, train_elbo_epoch=12.80]"
     ]
    },
    {
     "name": "stderr",
     "output_type": "stream",
     "text": [
      "Epoch 3, global step 940: 'val_elbo' reached 15.99110 (best 15.99110), saving model to '/Users/hayden/Desktop/code/cajal/project/PoissonVAE/data/PVAE_minimal/epoch=3-step=940.ckpt' as top 1\n"
     ]
    },
    {
     "name": "stdout",
     "output_type": "stream",
     "text": [
      "Epoch 4: 100%|██████████| 235/235 [00:07<00:00, 32.50it/s, v_num=3, train_loss_step=7.440, train_elbo_step=11.40, val_mse_step=8.540, val_kl_step=7.130, val_elbo_step=15.70, l0_sparsity_step=0.0635, val_mse_epoch=10.40, val_kl_epoch=4.570, val_elbo_epoch=15.00, l0_sparsity_epoch=0.0955, train_loss_epoch=7.600, train_elbo_epoch=11.90]"
     ]
    },
    {
     "name": "stderr",
     "output_type": "stream",
     "text": [
      "Epoch 4, global step 1175: 'val_elbo' reached 14.96569 (best 14.96569), saving model to '/Users/hayden/Desktop/code/cajal/project/PoissonVAE/data/PVAE_minimal/epoch=4-step=1175.ckpt' as top 1\n"
     ]
    },
    {
     "name": "stdout",
     "output_type": "stream",
     "text": [
      "Epoch 5: 100%|██████████| 235/235 [00:07<00:00, 33.26it/s, v_num=3, train_loss_step=6.800, train_elbo_step=10.60, val_mse_step=8.590, val_kl_step=6.350, val_elbo_step=14.90, l0_sparsity_step=0.084, val_mse_epoch=9.980, val_kl_epoch=4.240, val_elbo_epoch=14.20, l0_sparsity_epoch=0.102, train_loss_epoch=7.260, train_elbo_epoch=11.00]  "
     ]
    },
    {
     "name": "stderr",
     "output_type": "stream",
     "text": [
      "Epoch 5, global step 1410: 'val_elbo' reached 14.21240 (best 14.21240), saving model to '/Users/hayden/Desktop/code/cajal/project/PoissonVAE/data/PVAE_minimal/epoch=5-step=1410.ckpt' as top 1\n"
     ]
    },
    {
     "name": "stdout",
     "output_type": "stream",
     "text": [
      "Epoch 6: 100%|██████████| 235/235 [00:06<00:00, 34.94it/s, v_num=3, train_loss_step=7.260, train_elbo_step=10.50, val_mse_step=8.140, val_kl_step=5.600, val_elbo_step=13.70, l0_sparsity_step=0.0854, val_mse_epoch=9.770, val_kl_epoch=3.850, val_elbo_epoch=13.60, l0_sparsity_epoch=0.111, train_loss_epoch=7.040, train_elbo_epoch=10.40]"
     ]
    },
    {
     "name": "stderr",
     "output_type": "stream",
     "text": [
      "Epoch 6, global step 1645: 'val_elbo' reached 13.62617 (best 13.62617), saving model to '/Users/hayden/Desktop/code/cajal/project/PoissonVAE/data/PVAE_minimal/epoch=6-step=1645.ckpt' as top 1\n"
     ]
    },
    {
     "name": "stdout",
     "output_type": "stream",
     "text": [
      "Epoch 7: 100%|██████████| 235/235 [00:06<00:00, 34.60it/s, v_num=3, train_loss_step=6.460, train_elbo_step=9.260, val_mse_step=7.460, val_kl_step=4.920, val_elbo_step=12.40, l0_sparsity_step=0.0918, val_mse_epoch=9.600, val_kl_epoch=3.530, val_elbo_epoch=13.10, l0_sparsity_epoch=0.117, train_loss_epoch=6.860, train_elbo_epoch=9.880]"
     ]
    },
    {
     "name": "stderr",
     "output_type": "stream",
     "text": [
      "Epoch 7, global step 1880: 'val_elbo' reached 13.12939 (best 13.12939), saving model to '/Users/hayden/Desktop/code/cajal/project/PoissonVAE/data/PVAE_minimal/epoch=7-step=1880.ckpt' as top 1\n"
     ]
    },
    {
     "name": "stdout",
     "output_type": "stream",
     "text": [
      "Epoch 8: 100%|██████████| 235/235 [00:06<00:00, 37.02it/s, v_num=3, train_loss_step=6.420, train_elbo_step=9.080, val_mse_step=7.680, val_kl_step=4.430, val_elbo_step=12.10, l0_sparsity_step=0.0972, val_mse_epoch=9.330, val_kl_epoch=3.280, val_elbo_epoch=12.60, l0_sparsity_epoch=0.124, train_loss_epoch=6.700, train_elbo_epoch=9.430]"
     ]
    },
    {
     "name": "stderr",
     "output_type": "stream",
     "text": [
      "Epoch 8, global step 2115: 'val_elbo' reached 12.61676 (best 12.61676), saving model to '/Users/hayden/Desktop/code/cajal/project/PoissonVAE/data/PVAE_minimal/epoch=8-step=2115.ckpt' as top 1\n"
     ]
    },
    {
     "name": "stdout",
     "output_type": "stream",
     "text": [
      "Epoch 9: 100%|██████████| 235/235 [00:06<00:00, 37.27it/s, v_num=3, train_loss_step=6.120, train_elbo_step=8.550, val_mse_step=7.280, val_kl_step=3.960, val_elbo_step=11.20, l0_sparsity_step=0.118, val_mse_epoch=9.140, val_kl_epoch=3.020, val_elbo_epoch=12.20, l0_sparsity_epoch=0.131, train_loss_epoch=6.520, train_elbo_epoch=9.000] "
     ]
    },
    {
     "name": "stderr",
     "output_type": "stream",
     "text": [
      "Epoch 9, global step 2350: 'val_elbo' reached 12.16520 (best 12.16520), saving model to '/Users/hayden/Desktop/code/cajal/project/PoissonVAE/data/PVAE_minimal/epoch=9-step=2350.ckpt' as top 1\n"
     ]
    },
    {
     "name": "stdout",
     "output_type": "stream",
     "text": [
      "Epoch 10: 100%|██████████| 235/235 [00:06<00:00, 38.93it/s, v_num=3, train_loss_step=5.840, train_elbo_step=7.970, val_mse_step=7.600, val_kl_step=3.620, val_elbo_step=11.20, l0_sparsity_step=0.124, val_mse_epoch=8.970, val_kl_epoch=2.830, val_elbo_epoch=11.80, l0_sparsity_epoch=0.136, train_loss_epoch=6.350, train_elbo_epoch=8.610]"
     ]
    },
    {
     "name": "stderr",
     "output_type": "stream",
     "text": [
      "Epoch 10, global step 2585: 'val_elbo' reached 11.80588 (best 11.80588), saving model to '/Users/hayden/Desktop/code/cajal/project/PoissonVAE/data/PVAE_minimal/epoch=10-step=2585.ckpt' as top 1\n"
     ]
    },
    {
     "name": "stdout",
     "output_type": "stream",
     "text": [
      "Epoch 11: 100%|██████████| 235/235 [00:06<00:00, 38.55it/s, v_num=3, train_loss_step=6.230, train_elbo_step=8.070, val_mse_step=7.960, val_kl_step=3.290, val_elbo_step=11.20, l0_sparsity_step=0.136, val_mse_epoch=8.780, val_kl_epoch=2.660, val_elbo_epoch=11.40, l0_sparsity_epoch=0.142, train_loss_epoch=6.250, train_elbo_epoch=8.320]"
     ]
    },
    {
     "name": "stderr",
     "output_type": "stream",
     "text": [
      "Epoch 11, global step 2820: 'val_elbo' reached 11.43799 (best 11.43799), saving model to '/Users/hayden/Desktop/code/cajal/project/PoissonVAE/data/PVAE_minimal/epoch=11-step=2820.ckpt' as top 1\n"
     ]
    },
    {
     "name": "stdout",
     "output_type": "stream",
     "text": [
      "Epoch 12: 100%|██████████| 235/235 [00:06<00:00, 39.01it/s, v_num=3, train_loss_step=5.660, train_elbo_step=7.520, val_mse_step=7.390, val_kl_step=3.010, val_elbo_step=10.40, l0_sparsity_step=0.155, val_mse_epoch=8.700, val_kl_epoch=2.480, val_elbo_epoch=11.20, l0_sparsity_epoch=0.147, train_loss_epoch=6.150, train_elbo_epoch=8.050]"
     ]
    },
    {
     "name": "stderr",
     "output_type": "stream",
     "text": [
      "Epoch 12, global step 3055: 'val_elbo' reached 11.18255 (best 11.18255), saving model to '/Users/hayden/Desktop/code/cajal/project/PoissonVAE/data/PVAE_minimal/epoch=12-step=3055.ckpt' as top 1\n"
     ]
    },
    {
     "name": "stdout",
     "output_type": "stream",
     "text": [
      "Epoch 13: 100%|██████████| 235/235 [00:05<00:00, 40.18it/s, v_num=3, train_loss_step=6.100, train_elbo_step=7.760, val_mse_step=7.290, val_kl_step=2.820, val_elbo_step=10.10, l0_sparsity_step=0.143, val_mse_epoch=8.540, val_kl_epoch=2.370, val_elbo_epoch=10.90, l0_sparsity_epoch=0.152, train_loss_epoch=6.020, train_elbo_epoch=7.770]"
     ]
    },
    {
     "name": "stderr",
     "output_type": "stream",
     "text": [
      "Epoch 13, global step 3290: 'val_elbo' reached 10.90771 (best 10.90771), saving model to '/Users/hayden/Desktop/code/cajal/project/PoissonVAE/data/PVAE_minimal/epoch=13-step=3290.ckpt' as top 1\n"
     ]
    },
    {
     "name": "stdout",
     "output_type": "stream",
     "text": [
      "Epoch 14: 100%|██████████| 235/235 [00:05<00:00, 40.95it/s, v_num=3, train_loss_step=6.190, train_elbo_step=7.690, val_mse_step=8.140, val_kl_step=2.550, val_elbo_step=10.70, l0_sparsity_step=0.154, val_mse_epoch=8.460, val_kl_epoch=2.210, val_elbo_epoch=10.70, l0_sparsity_epoch=0.157, train_loss_epoch=5.930, train_elbo_epoch=7.550]"
     ]
    },
    {
     "name": "stderr",
     "output_type": "stream",
     "text": [
      "Epoch 14, global step 3525: 'val_elbo' reached 10.67074 (best 10.67074), saving model to '/Users/hayden/Desktop/code/cajal/project/PoissonVAE/data/PVAE_minimal/epoch=14-step=3525.ckpt' as top 1\n"
     ]
    },
    {
     "name": "stdout",
     "output_type": "stream",
     "text": [
      "Epoch 15: 100%|██████████| 235/235 [00:05<00:00, 42.10it/s, v_num=3, train_loss_step=5.950, train_elbo_step=7.420, val_mse_step=7.310, val_kl_step=2.440, val_elbo_step=9.740, l0_sparsity_step=0.167, val_mse_epoch=8.230, val_kl_epoch=2.160, val_elbo_epoch=10.40, l0_sparsity_epoch=0.160, train_loss_epoch=5.850, train_elbo_epoch=7.350]"
     ]
    },
    {
     "name": "stderr",
     "output_type": "stream",
     "text": [
      "Epoch 15, global step 3760: 'val_elbo' reached 10.38937 (best 10.38937), saving model to '/Users/hayden/Desktop/code/cajal/project/PoissonVAE/data/PVAE_minimal/epoch=15-step=3760.ckpt' as top 1\n"
     ]
    },
    {
     "name": "stdout",
     "output_type": "stream",
     "text": [
      "Epoch 16: 100%|██████████| 235/235 [00:05<00:00, 40.80it/s, v_num=3, train_loss_step=5.930, train_elbo_step=7.270, val_mse_step=7.940, val_kl_step=2.280, val_elbo_step=10.20, l0_sparsity_step=0.165, val_mse_epoch=8.160, val_kl_epoch=2.050, val_elbo_epoch=10.20, l0_sparsity_epoch=0.164, train_loss_epoch=5.780, train_elbo_epoch=7.180]"
     ]
    },
    {
     "name": "stderr",
     "output_type": "stream",
     "text": [
      "Epoch 16, global step 3995: 'val_elbo' reached 10.20975 (best 10.20975), saving model to '/Users/hayden/Desktop/code/cajal/project/PoissonVAE/data/PVAE_minimal/epoch=16-step=3995.ckpt' as top 1\n"
     ]
    },
    {
     "name": "stdout",
     "output_type": "stream",
     "text": [
      "Epoch 17: 100%|██████████| 235/235 [00:05<00:00, 41.27it/s, v_num=3, train_loss_step=5.530, train_elbo_step=6.760, val_mse_step=7.740, val_kl_step=2.170, val_elbo_step=9.920, l0_sparsity_step=0.177, val_mse_epoch=8.020, val_kl_epoch=1.980, val_elbo_epoch=10.00, l0_sparsity_epoch=0.167, train_loss_epoch=5.700, train_elbo_epoch=7.010]"
     ]
    },
    {
     "name": "stderr",
     "output_type": "stream",
     "text": [
      "Epoch 17, global step 4230: 'val_elbo' reached 10.00320 (best 10.00320), saving model to '/Users/hayden/Desktop/code/cajal/project/PoissonVAE/data/PVAE_minimal/epoch=17-step=4230.ckpt' as top 1\n"
     ]
    },
    {
     "name": "stdout",
     "output_type": "stream",
     "text": [
      "Epoch 18: 100%|██████████| 235/235 [00:05<00:00, 42.39it/s, v_num=3, train_loss_step=5.310, train_elbo_step=6.490, val_mse_step=7.430, val_kl_step=2.050, val_elbo_step=9.480, l0_sparsity_step=0.191, val_mse_epoch=8.010, val_kl_epoch=1.900, val_elbo_epoch=9.910, l0_sparsity_epoch=0.170, train_loss_epoch=5.620, train_elbo_epoch=6.840]"
     ]
    },
    {
     "name": "stderr",
     "output_type": "stream",
     "text": [
      "Epoch 18, global step 4465: 'val_elbo' reached 9.91257 (best 9.91257), saving model to '/Users/hayden/Desktop/code/cajal/project/PoissonVAE/data/PVAE_minimal/epoch=18-step=4465.ckpt' as top 1\n"
     ]
    },
    {
     "name": "stdout",
     "output_type": "stream",
     "text": [
      "Epoch 19: 100%|██████████| 235/235 [00:05<00:00, 43.73it/s, v_num=3, train_loss_step=5.790, train_elbo_step=6.920, val_mse_step=7.440, val_kl_step=1.970, val_elbo_step=9.410, l0_sparsity_step=0.192, val_mse_epoch=7.830, val_kl_epoch=1.850, val_elbo_epoch=9.690, l0_sparsity_epoch=0.171, train_loss_epoch=5.560, train_elbo_epoch=6.700]"
     ]
    },
    {
     "name": "stderr",
     "output_type": "stream",
     "text": [
      "Epoch 19, global step 4700: 'val_elbo' reached 9.68509 (best 9.68509), saving model to '/Users/hayden/Desktop/code/cajal/project/PoissonVAE/data/PVAE_minimal/epoch=19-step=4700.ckpt' as top 1\n"
     ]
    },
    {
     "name": "stdout",
     "output_type": "stream",
     "text": [
      "Epoch 20: 100%|██████████| 235/235 [00:05<00:00, 43.26it/s, v_num=3, train_loss_step=5.520, train_elbo_step=6.560, val_mse_step=7.610, val_kl_step=1.880, val_elbo_step=9.490, l0_sparsity_step=0.191, val_mse_epoch=7.810, val_kl_epoch=1.800, val_elbo_epoch=9.610, l0_sparsity_epoch=0.173, train_loss_epoch=5.500, train_elbo_epoch=6.570]"
     ]
    },
    {
     "name": "stderr",
     "output_type": "stream",
     "text": [
      "Epoch 20, global step 4935: 'val_elbo' reached 9.60708 (best 9.60708), saving model to '/Users/hayden/Desktop/code/cajal/project/PoissonVAE/data/PVAE_minimal/epoch=20-step=4935.ckpt' as top 1\n"
     ]
    },
    {
     "name": "stdout",
     "output_type": "stream",
     "text": [
      "Epoch 21: 100%|██████████| 235/235 [00:05<00:00, 42.52it/s, v_num=3, train_loss_step=5.130, train_elbo_step=6.070, val_mse_step=7.620, val_kl_step=1.820, val_elbo_step=9.440, l0_sparsity_step=0.189, val_mse_epoch=7.730, val_kl_epoch=1.760, val_elbo_epoch=9.480, l0_sparsity_epoch=0.175, train_loss_epoch=5.450, train_elbo_epoch=6.470]"
     ]
    },
    {
     "name": "stderr",
     "output_type": "stream",
     "text": [
      "Epoch 21, global step 5170: 'val_elbo' reached 9.48286 (best 9.48286), saving model to '/Users/hayden/Desktop/code/cajal/project/PoissonVAE/data/PVAE_minimal/epoch=21-step=5170.ckpt' as top 1\n"
     ]
    },
    {
     "name": "stdout",
     "output_type": "stream",
     "text": [
      "Epoch 22: 100%|██████████| 235/235 [00:05<00:00, 41.45it/s, v_num=3, train_loss_step=4.890, train_elbo_step=5.810, val_mse_step=7.970, val_kl_step=1.760, val_elbo_step=9.730, l0_sparsity_step=0.192, val_mse_epoch=7.630, val_kl_epoch=1.710, val_elbo_epoch=9.340, l0_sparsity_epoch=0.176, train_loss_epoch=5.410, train_elbo_epoch=6.370]"
     ]
    },
    {
     "name": "stderr",
     "output_type": "stream",
     "text": [
      "Epoch 22, global step 5405: 'val_elbo' reached 9.34148 (best 9.34148), saving model to '/Users/hayden/Desktop/code/cajal/project/PoissonVAE/data/PVAE_minimal/epoch=22-step=5405.ckpt' as top 1\n"
     ]
    },
    {
     "name": "stdout",
     "output_type": "stream",
     "text": [
      "Epoch 23: 100%|██████████| 235/235 [00:05<00:00, 43.37it/s, v_num=3, train_loss_step=5.540, train_elbo_step=6.410, val_mse_step=7.640, val_kl_step=1.730, val_elbo_step=9.370, l0_sparsity_step=0.199, val_mse_epoch=7.570, val_kl_epoch=1.680, val_elbo_epoch=9.250, l0_sparsity_epoch=0.177, train_loss_epoch=5.390, train_elbo_epoch=6.290]"
     ]
    },
    {
     "name": "stderr",
     "output_type": "stream",
     "text": [
      "Epoch 23, global step 5640: 'val_elbo' reached 9.25132 (best 9.25132), saving model to '/Users/hayden/Desktop/code/cajal/project/PoissonVAE/data/PVAE_minimal/epoch=23-step=5640.ckpt' as top 1\n"
     ]
    },
    {
     "name": "stdout",
     "output_type": "stream",
     "text": [
      "Epoch 24: 100%|██████████| 235/235 [00:05<00:00, 42.62it/s, v_num=3, train_loss_step=5.310, train_elbo_step=6.140, val_mse_step=7.410, val_kl_step=1.670, val_elbo_step=9.080, l0_sparsity_step=0.188, val_mse_epoch=7.480, val_kl_epoch=1.650, val_elbo_epoch=9.130, l0_sparsity_epoch=0.177, train_loss_epoch=5.360, train_elbo_epoch=6.210]"
     ]
    },
    {
     "name": "stderr",
     "output_type": "stream",
     "text": [
      "Epoch 24, global step 5875: 'val_elbo' reached 9.12971 (best 9.12971), saving model to '/Users/hayden/Desktop/code/cajal/project/PoissonVAE/data/PVAE_minimal/epoch=24-step=5875.ckpt' as top 1\n"
     ]
    },
    {
     "name": "stdout",
     "output_type": "stream",
     "text": [
      "Epoch 25: 100%|██████████| 235/235 [00:05<00:00, 42.16it/s, v_num=3, train_loss_step=5.320, train_elbo_step=6.110, val_mse_step=7.300, val_kl_step=1.640, val_elbo_step=8.940, l0_sparsity_step=0.195, val_mse_epoch=7.400, val_kl_epoch=1.630, val_elbo_epoch=9.020, l0_sparsity_epoch=0.177, train_loss_epoch=5.330, train_elbo_epoch=6.140]"
     ]
    },
    {
     "name": "stderr",
     "output_type": "stream",
     "text": [
      "Epoch 25, global step 6110: 'val_elbo' reached 9.02458 (best 9.02458), saving model to '/Users/hayden/Desktop/code/cajal/project/PoissonVAE/data/PVAE_minimal/epoch=25-step=6110.ckpt' as top 1\n"
     ]
    },
    {
     "name": "stdout",
     "output_type": "stream",
     "text": [
      "Epoch 26: 100%|██████████| 235/235 [00:05<00:00, 43.12it/s, v_num=3, train_loss_step=5.340, train_elbo_step=6.090, val_mse_step=7.600, val_kl_step=1.610, val_elbo_step=9.200, l0_sparsity_step=0.203, val_mse_epoch=7.410, val_kl_epoch=1.600, val_elbo_epoch=9.010, l0_sparsity_epoch=0.177, train_loss_epoch=5.310, train_elbo_epoch=6.070]"
     ]
    },
    {
     "name": "stderr",
     "output_type": "stream",
     "text": [
      "Epoch 26, global step 6345: 'val_elbo' reached 9.00833 (best 9.00833), saving model to '/Users/hayden/Desktop/code/cajal/project/PoissonVAE/data/PVAE_minimal/epoch=26-step=6345.ckpt' as top 1\n"
     ]
    },
    {
     "name": "stdout",
     "output_type": "stream",
     "text": [
      "Epoch 27: 100%|██████████| 235/235 [00:05<00:00, 41.83it/s, v_num=3, train_loss_step=5.170, train_elbo_step=5.860, val_mse_step=7.320, val_kl_step=1.610, val_elbo_step=8.930, l0_sparsity_step=0.181, val_mse_epoch=7.340, val_kl_epoch=1.580, val_elbo_epoch=8.920, l0_sparsity_epoch=0.176, train_loss_epoch=5.290, train_elbo_epoch=6.010]"
     ]
    },
    {
     "name": "stderr",
     "output_type": "stream",
     "text": [
      "Epoch 27, global step 6580: 'val_elbo' reached 8.92412 (best 8.92412), saving model to '/Users/hayden/Desktop/code/cajal/project/PoissonVAE/data/PVAE_minimal/epoch=27-step=6580.ckpt' as top 1\n"
     ]
    },
    {
     "name": "stdout",
     "output_type": "stream",
     "text": [
      "Epoch 28: 100%|██████████| 235/235 [00:05<00:00, 42.60it/s, v_num=3, train_loss_step=5.240, train_elbo_step=5.900, val_mse_step=6.900, val_kl_step=1.580, val_elbo_step=8.480, l0_sparsity_step=0.196, val_mse_epoch=7.280, val_kl_epoch=1.570, val_elbo_epoch=8.850, l0_sparsity_epoch=0.175, train_loss_epoch=5.280, train_elbo_epoch=5.960]"
     ]
    },
    {
     "name": "stderr",
     "output_type": "stream",
     "text": [
      "Epoch 28, global step 6815: 'val_elbo' reached 8.85157 (best 8.85157), saving model to '/Users/hayden/Desktop/code/cajal/project/PoissonVAE/data/PVAE_minimal/epoch=28-step=6815.ckpt' as top 1\n"
     ]
    },
    {
     "name": "stdout",
     "output_type": "stream",
     "text": [
      "Epoch 29: 100%|██████████| 235/235 [00:05<00:00, 42.27it/s, v_num=3, train_loss_step=5.240, train_elbo_step=5.850, val_mse_step=7.070, val_kl_step=1.570, val_elbo_step=8.650, l0_sparsity_step=0.193, val_mse_epoch=7.240, val_kl_epoch=1.560, val_elbo_epoch=8.810, l0_sparsity_epoch=0.173, train_loss_epoch=5.270, train_elbo_epoch=5.920]"
     ]
    },
    {
     "name": "stderr",
     "output_type": "stream",
     "text": [
      "Epoch 29, global step 7050: 'val_elbo' reached 8.80919 (best 8.80919), saving model to '/Users/hayden/Desktop/code/cajal/project/PoissonVAE/data/PVAE_minimal/epoch=29-step=7050.ckpt' as top 1\n"
     ]
    },
    {
     "name": "stdout",
     "output_type": "stream",
     "text": [
      "Epoch 30: 100%|██████████| 235/235 [00:05<00:00, 43.92it/s, v_num=3, train_loss_step=5.150, train_elbo_step=5.730, val_mse_step=7.330, val_kl_step=1.570, val_elbo_step=8.890, l0_sparsity_step=0.204, val_mse_epoch=7.240, val_kl_epoch=1.550, val_elbo_epoch=8.790, l0_sparsity_epoch=0.173, train_loss_epoch=5.270, train_elbo_epoch=5.880]"
     ]
    },
    {
     "name": "stderr",
     "output_type": "stream",
     "text": [
      "Epoch 30, global step 7285: 'val_elbo' reached 8.78579 (best 8.78579), saving model to '/Users/hayden/Desktop/code/cajal/project/PoissonVAE/data/PVAE_minimal/epoch=30-step=7285.ckpt' as top 1\n"
     ]
    },
    {
     "name": "stdout",
     "output_type": "stream",
     "text": [
      "Epoch 31: 100%|██████████| 235/235 [00:05<00:00, 44.30it/s, v_num=3, train_loss_step=5.210, train_elbo_step=5.770, val_mse_step=7.500, val_kl_step=1.510, val_elbo_step=9.010, l0_sparsity_step=0.190, val_mse_epoch=7.180, val_kl_epoch=1.530, val_elbo_epoch=8.710, l0_sparsity_epoch=0.172, train_loss_epoch=5.260, train_elbo_epoch=5.840]"
     ]
    },
    {
     "name": "stderr",
     "output_type": "stream",
     "text": [
      "Epoch 31, global step 7520: 'val_elbo' reached 8.70921 (best 8.70921), saving model to '/Users/hayden/Desktop/code/cajal/project/PoissonVAE/data/PVAE_minimal/epoch=31-step=7520.ckpt' as top 1\n"
     ]
    },
    {
     "name": "stdout",
     "output_type": "stream",
     "text": [
      "Epoch 32: 100%|██████████| 235/235 [00:05<00:00, 43.91it/s, v_num=3, train_loss_step=5.310, train_elbo_step=5.840, val_mse_step=7.420, val_kl_step=1.520, val_elbo_step=8.950, l0_sparsity_step=0.196, val_mse_epoch=7.150, val_kl_epoch=1.520, val_elbo_epoch=8.670, l0_sparsity_epoch=0.171, train_loss_epoch=5.270, train_elbo_epoch=5.800]"
     ]
    },
    {
     "name": "stderr",
     "output_type": "stream",
     "text": [
      "Epoch 32, global step 7755: 'val_elbo' reached 8.67204 (best 8.67204), saving model to '/Users/hayden/Desktop/code/cajal/project/PoissonVAE/data/PVAE_minimal/epoch=32-step=7755.ckpt' as top 1\n"
     ]
    },
    {
     "name": "stdout",
     "output_type": "stream",
     "text": [
      "Epoch 33: 100%|██████████| 235/235 [00:05<00:00, 42.00it/s, v_num=3, train_loss_step=4.930, train_elbo_step=5.400, val_mse_step=7.230, val_kl_step=1.520, val_elbo_step=8.750, l0_sparsity_step=0.191, val_mse_epoch=7.160, val_kl_epoch=1.510, val_elbo_epoch=8.670, l0_sparsity_epoch=0.169, train_loss_epoch=5.260, train_elbo_epoch=5.760]"
     ]
    },
    {
     "name": "stderr",
     "output_type": "stream",
     "text": [
      "Epoch 33, global step 7990: 'val_elbo' reached 8.67060 (best 8.67060), saving model to '/Users/hayden/Desktop/code/cajal/project/PoissonVAE/data/PVAE_minimal/epoch=33-step=7990.ckpt' as top 1\n"
     ]
    },
    {
     "name": "stdout",
     "output_type": "stream",
     "text": [
      "Epoch 34: 100%|██████████| 235/235 [00:05<00:00, 41.42it/s, v_num=3, train_loss_step=5.320, train_elbo_step=5.760, val_mse_step=7.360, val_kl_step=1.510, val_elbo_step=8.870, l0_sparsity_step=0.190, val_mse_epoch=7.120, val_kl_epoch=1.500, val_elbo_epoch=8.630, l0_sparsity_epoch=0.168, train_loss_epoch=5.260, train_elbo_epoch=5.730]"
     ]
    },
    {
     "name": "stderr",
     "output_type": "stream",
     "text": [
      "Epoch 34, global step 8225: 'val_elbo' reached 8.62719 (best 8.62719), saving model to '/Users/hayden/Desktop/code/cajal/project/PoissonVAE/data/PVAE_minimal/epoch=34-step=8225.ckpt' as top 1\n"
     ]
    },
    {
     "name": "stdout",
     "output_type": "stream",
     "text": [
      "Epoch 35: 100%|██████████| 235/235 [00:05<00:00, 42.02it/s, v_num=3, train_loss_step=5.430, train_elbo_step=5.850, val_mse_step=7.440, val_kl_step=1.500, val_elbo_step=8.930, l0_sparsity_step=0.185, val_mse_epoch=7.100, val_kl_epoch=1.490, val_elbo_epoch=8.590, l0_sparsity_epoch=0.166, train_loss_epoch=5.270, train_elbo_epoch=5.710]"
     ]
    },
    {
     "name": "stderr",
     "output_type": "stream",
     "text": [
      "Epoch 35, global step 8460: 'val_elbo' reached 8.59034 (best 8.59034), saving model to '/Users/hayden/Desktop/code/cajal/project/PoissonVAE/data/PVAE_minimal/epoch=35-step=8460.ckpt' as top 1\n"
     ]
    },
    {
     "name": "stdout",
     "output_type": "stream",
     "text": [
      "Epoch 36: 100%|██████████| 235/235 [00:05<00:00, 43.91it/s, v_num=3, train_loss_step=5.270, train_elbo_step=5.660, val_mse_step=6.680, val_kl_step=1.490, val_elbo_step=8.170, l0_sparsity_step=0.182, val_mse_epoch=7.090, val_kl_epoch=1.490, val_elbo_epoch=8.580, l0_sparsity_epoch=0.164, train_loss_epoch=5.270, train_elbo_epoch=5.680]"
     ]
    },
    {
     "name": "stderr",
     "output_type": "stream",
     "text": [
      "Epoch 36, global step 8695: 'val_elbo' reached 8.57732 (best 8.57732), saving model to '/Users/hayden/Desktop/code/cajal/project/PoissonVAE/data/PVAE_minimal/epoch=36-step=8695.ckpt' as top 1\n"
     ]
    },
    {
     "name": "stdout",
     "output_type": "stream",
     "text": [
      "Epoch 37: 100%|██████████| 235/235 [00:05<00:00, 44.12it/s, v_num=3, train_loss_step=5.530, train_elbo_step=5.900, val_mse_step=6.810, val_kl_step=1.480, val_elbo_step=8.300, l0_sparsity_step=0.179, val_mse_epoch=7.050, val_kl_epoch=1.480, val_elbo_epoch=8.530, l0_sparsity_epoch=0.163, train_loss_epoch=5.280, train_elbo_epoch=5.650]"
     ]
    },
    {
     "name": "stderr",
     "output_type": "stream",
     "text": [
      "Epoch 37, global step 8930: 'val_elbo' reached 8.52987 (best 8.52987), saving model to '/Users/hayden/Desktop/code/cajal/project/PoissonVAE/data/PVAE_minimal/epoch=37-step=8930.ckpt' as top 1\n"
     ]
    },
    {
     "name": "stdout",
     "output_type": "stream",
     "text": [
      "Epoch 38: 100%|██████████| 235/235 [00:05<00:00, 43.53it/s, v_num=3, train_loss_step=5.400, train_elbo_step=5.730, val_mse_step=7.350, val_kl_step=1.480, val_elbo_step=8.830, l0_sparsity_step=0.174, val_mse_epoch=6.990, val_kl_epoch=1.470, val_elbo_epoch=8.460, l0_sparsity_epoch=0.162, train_loss_epoch=5.300, train_elbo_epoch=5.640]"
     ]
    },
    {
     "name": "stderr",
     "output_type": "stream",
     "text": [
      "Epoch 38, global step 9165: 'val_elbo' reached 8.46103 (best 8.46103), saving model to '/Users/hayden/Desktop/code/cajal/project/PoissonVAE/data/PVAE_minimal/epoch=38-step=9165.ckpt' as top 1\n"
     ]
    },
    {
     "name": "stdout",
     "output_type": "stream",
     "text": [
      "Epoch 39: 100%|██████████| 235/235 [00:05<00:00, 43.66it/s, v_num=3, train_loss_step=5.170, train_elbo_step=5.460, val_mse_step=7.100, val_kl_step=1.480, val_elbo_step=8.570, l0_sparsity_step=0.179, val_mse_epoch=6.990, val_kl_epoch=1.470, val_elbo_epoch=8.460, l0_sparsity_epoch=0.160, train_loss_epoch=5.310, train_elbo_epoch=5.620]"
     ]
    },
    {
     "name": "stderr",
     "output_type": "stream",
     "text": [
      "Epoch 39, global step 9400: 'val_elbo' reached 8.46010 (best 8.46010), saving model to '/Users/hayden/Desktop/code/cajal/project/PoissonVAE/data/PVAE_minimal/epoch=39-step=9400.ckpt' as top 1\n"
     ]
    },
    {
     "name": "stdout",
     "output_type": "stream",
     "text": [
      "Epoch 40: 100%|██████████| 235/235 [00:05<00:00, 43.09it/s, v_num=3, train_loss_step=5.560, train_elbo_step=5.830, val_mse_step=6.700, val_kl_step=1.460, val_elbo_step=8.160, l0_sparsity_step=0.173, val_mse_epoch=7.060, val_kl_epoch=1.450, val_elbo_epoch=8.510, l0_sparsity_epoch=0.159, train_loss_epoch=5.320, train_elbo_epoch=5.600]"
     ]
    },
    {
     "name": "stderr",
     "output_type": "stream",
     "text": [
      "Epoch 40, global step 9635: 'val_elbo' was not in top 1\n"
     ]
    },
    {
     "name": "stdout",
     "output_type": "stream",
     "text": [
      "Epoch 41: 100%|██████████| 235/235 [00:05<00:00, 43.33it/s, v_num=3, train_loss_step=5.250, train_elbo_step=5.490, val_mse_step=7.000, val_kl_step=1.460, val_elbo_step=8.460, l0_sparsity_step=0.170, val_mse_epoch=7.020, val_kl_epoch=1.460, val_elbo_epoch=8.480, l0_sparsity_epoch=0.157, train_loss_epoch=5.340, train_elbo_epoch=5.590]"
     ]
    },
    {
     "name": "stderr",
     "output_type": "stream",
     "text": [
      "Epoch 41, global step 9870: 'val_elbo' was not in top 1\n"
     ]
    },
    {
     "name": "stdout",
     "output_type": "stream",
     "text": [
      "Epoch 42: 100%|██████████| 235/235 [00:05<00:00, 43.47it/s, v_num=3, train_loss_step=5.190, train_elbo_step=5.400, val_mse_step=7.140, val_kl_step=1.450, val_elbo_step=8.590, l0_sparsity_step=0.173, val_mse_epoch=7.000, val_kl_epoch=1.450, val_elbo_epoch=8.450, l0_sparsity_epoch=0.155, train_loss_epoch=5.360, train_elbo_epoch=5.580]"
     ]
    },
    {
     "name": "stderr",
     "output_type": "stream",
     "text": [
      "Epoch 42, global step 10105: 'val_elbo' reached 8.44884 (best 8.44884), saving model to '/Users/hayden/Desktop/code/cajal/project/PoissonVAE/data/PVAE_minimal/epoch=42-step=10105.ckpt' as top 1\n"
     ]
    },
    {
     "name": "stdout",
     "output_type": "stream",
     "text": [
      "Epoch 43: 100%|██████████| 235/235 [00:05<00:00, 44.05it/s, v_num=3, train_loss_step=5.490, train_elbo_step=5.670, val_mse_step=6.810, val_kl_step=1.460, val_elbo_step=8.270, l0_sparsity_step=0.183, val_mse_epoch=7.010, val_kl_epoch=1.450, val_elbo_epoch=8.460, l0_sparsity_epoch=0.154, train_loss_epoch=5.380, train_elbo_epoch=5.570]"
     ]
    },
    {
     "name": "stderr",
     "output_type": "stream",
     "text": [
      "Epoch 43, global step 10340: 'val_elbo' was not in top 1\n"
     ]
    },
    {
     "name": "stdout",
     "output_type": "stream",
     "text": [
      "Epoch 44: 100%|██████████| 235/235 [00:05<00:00, 43.06it/s, v_num=3, train_loss_step=5.290, train_elbo_step=5.440, val_mse_step=6.770, val_kl_step=1.440, val_elbo_step=8.210, l0_sparsity_step=0.174, val_mse_epoch=6.990, val_kl_epoch=1.430, val_elbo_epoch=8.420, l0_sparsity_epoch=0.152, train_loss_epoch=5.390, train_elbo_epoch=5.550]"
     ]
    },
    {
     "name": "stderr",
     "output_type": "stream",
     "text": [
      "Epoch 44, global step 10575: 'val_elbo' reached 8.42049 (best 8.42049), saving model to '/Users/hayden/Desktop/code/cajal/project/PoissonVAE/data/PVAE_minimal/epoch=44-step=10575.ckpt' as top 1\n"
     ]
    },
    {
     "name": "stdout",
     "output_type": "stream",
     "text": [
      "Epoch 45: 100%|██████████| 235/235 [00:05<00:00, 44.10it/s, v_num=3, train_loss_step=5.670, train_elbo_step=5.800, val_mse_step=7.280, val_kl_step=1.440, val_elbo_step=8.720, l0_sparsity_step=0.171, val_mse_epoch=7.010, val_kl_epoch=1.430, val_elbo_epoch=8.430, l0_sparsity_epoch=0.151, train_loss_epoch=5.410, train_elbo_epoch=5.530]"
     ]
    },
    {
     "name": "stderr",
     "output_type": "stream",
     "text": [
      "Epoch 45, global step 10810: 'val_elbo' was not in top 1\n"
     ]
    },
    {
     "name": "stdout",
     "output_type": "stream",
     "text": [
      "Epoch 46: 100%|██████████| 235/235 [00:05<00:00, 44.65it/s, v_num=3, train_loss_step=5.930, train_elbo_step=6.020, val_mse_step=7.060, val_kl_step=1.430, val_elbo_step=8.490, l0_sparsity_step=0.156, val_mse_epoch=7.010, val_kl_epoch=1.420, val_elbo_epoch=8.430, l0_sparsity_epoch=0.150, train_loss_epoch=5.430, train_elbo_epoch=5.530]"
     ]
    },
    {
     "name": "stderr",
     "output_type": "stream",
     "text": [
      "Epoch 46, global step 11045: 'val_elbo' was not in top 1\n"
     ]
    },
    {
     "name": "stdout",
     "output_type": "stream",
     "text": [
      "Epoch 47: 100%|██████████| 235/235 [00:05<00:00, 43.15it/s, v_num=3, train_loss_step=5.380, train_elbo_step=5.430, val_mse_step=6.210, val_kl_step=1.420, val_elbo_step=7.630, l0_sparsity_step=0.164, val_mse_epoch=6.990, val_kl_epoch=1.410, val_elbo_epoch=8.410, l0_sparsity_epoch=0.148, train_loss_epoch=5.450, train_elbo_epoch=5.520]"
     ]
    },
    {
     "name": "stderr",
     "output_type": "stream",
     "text": [
      "Epoch 47, global step 11280: 'val_elbo' reached 8.40714 (best 8.40714), saving model to '/Users/hayden/Desktop/code/cajal/project/PoissonVAE/data/PVAE_minimal/epoch=47-step=11280.ckpt' as top 1\n"
     ]
    },
    {
     "name": "stdout",
     "output_type": "stream",
     "text": [
      "Epoch 48: 100%|██████████| 235/235 [00:05<00:00, 43.39it/s, v_num=3, train_loss_step=5.270, train_elbo_step=5.300, val_mse_step=7.480, val_kl_step=1.420, val_elbo_step=8.890, l0_sparsity_step=0.156, val_mse_epoch=6.990, val_kl_epoch=1.410, val_elbo_epoch=8.390, l0_sparsity_epoch=0.147, train_loss_epoch=5.460, train_elbo_epoch=5.510]"
     ]
    },
    {
     "name": "stderr",
     "output_type": "stream",
     "text": [
      "Epoch 48, global step 11515: 'val_elbo' reached 8.39071 (best 8.39071), saving model to '/Users/hayden/Desktop/code/cajal/project/PoissonVAE/data/PVAE_minimal/epoch=48-step=11515.ckpt' as top 1\n"
     ]
    },
    {
     "name": "stdout",
     "output_type": "stream",
     "text": [
      "Epoch 49: 100%|██████████| 235/235 [00:05<00:00, 43.02it/s, v_num=3, train_loss_step=5.550, train_elbo_step=5.550, val_mse_step=6.900, val_kl_step=1.410, val_elbo_step=8.310, l0_sparsity_step=0.164, val_mse_epoch=7.000, val_kl_epoch=1.400, val_elbo_epoch=8.400, l0_sparsity_epoch=0.146, train_loss_epoch=5.480, train_elbo_epoch=5.500]"
     ]
    },
    {
     "name": "stderr",
     "output_type": "stream",
     "text": [
      "Epoch 49, global step 11750: 'val_elbo' was not in top 1\n"
     ]
    },
    {
     "name": "stdout",
     "output_type": "stream",
     "text": [
      "Epoch 50: 100%|██████████| 235/235 [00:05<00:00, 44.70it/s, v_num=3, train_loss_step=5.510, train_elbo_step=5.480, val_mse_step=7.620, val_kl_step=1.400, val_elbo_step=9.020, l0_sparsity_step=0.162, val_mse_epoch=6.990, val_kl_epoch=1.390, val_elbo_epoch=8.380, l0_sparsity_epoch=0.145, train_loss_epoch=5.510, train_elbo_epoch=5.490]"
     ]
    },
    {
     "name": "stderr",
     "output_type": "stream",
     "text": [
      "Epoch 50, global step 11985: 'val_elbo' reached 8.38067 (best 8.38067), saving model to '/Users/hayden/Desktop/code/cajal/project/PoissonVAE/data/PVAE_minimal/epoch=50-step=11985.ckpt' as top 1\n"
     ]
    },
    {
     "name": "stdout",
     "output_type": "stream",
     "text": [
      "Epoch 51: 100%|██████████| 235/235 [00:05<00:00, 44.48it/s, v_num=3, train_loss_step=5.740, train_elbo_step=5.680, val_mse_step=7.170, val_kl_step=1.400, val_elbo_step=8.570, l0_sparsity_step=0.165, val_mse_epoch=7.010, val_kl_epoch=1.390, val_elbo_epoch=8.400, l0_sparsity_epoch=0.143, train_loss_epoch=5.530, train_elbo_epoch=5.490]"
     ]
    },
    {
     "name": "stderr",
     "output_type": "stream",
     "text": [
      "Epoch 51, global step 12220: 'val_elbo' was not in top 1\n"
     ]
    },
    {
     "name": "stdout",
     "output_type": "stream",
     "text": [
      "Epoch 52: 100%|██████████| 235/235 [00:05<00:00, 43.57it/s, v_num=3, train_loss_step=5.500, train_elbo_step=5.420, val_mse_step=7.010, val_kl_step=1.400, val_elbo_step=8.410, l0_sparsity_step=0.152, val_mse_epoch=7.020, val_kl_epoch=1.380, val_elbo_epoch=8.400, l0_sparsity_epoch=0.142, train_loss_epoch=5.560, train_elbo_epoch=5.490]"
     ]
    },
    {
     "name": "stderr",
     "output_type": "stream",
     "text": [
      "Epoch 52, global step 12455: 'val_elbo' was not in top 1\n"
     ]
    },
    {
     "name": "stdout",
     "output_type": "stream",
     "text": [
      "Epoch 53: 100%|██████████| 235/235 [00:05<00:00, 42.81it/s, v_num=3, train_loss_step=5.270, train_elbo_step=5.170, val_mse_step=6.790, val_kl_step=1.390, val_elbo_step=8.190, l0_sparsity_step=0.153, val_mse_epoch=7.060, val_kl_epoch=1.370, val_elbo_epoch=8.440, l0_sparsity_epoch=0.143, train_loss_epoch=5.580, train_elbo_epoch=5.480]"
     ]
    },
    {
     "name": "stderr",
     "output_type": "stream",
     "text": [
      "Epoch 53, global step 12690: 'val_elbo' was not in top 1\n"
     ]
    },
    {
     "name": "stdout",
     "output_type": "stream",
     "text": [
      "Epoch 54: 100%|██████████| 235/235 [00:05<00:00, 44.21it/s, v_num=3, train_loss_step=5.440, train_elbo_step=5.300, val_mse_step=6.970, val_kl_step=1.380, val_elbo_step=8.350, l0_sparsity_step=0.155, val_mse_epoch=7.060, val_kl_epoch=1.370, val_elbo_epoch=8.430, l0_sparsity_epoch=0.140, train_loss_epoch=5.610, train_elbo_epoch=5.490]"
     ]
    },
    {
     "name": "stderr",
     "output_type": "stream",
     "text": [
      "Epoch 54, global step 12925: 'val_elbo' was not in top 1\n",
      "`Trainer.fit` stopped: `max_epochs=55` reached.\n",
      "`Trainer.fit` stopped: `max_epochs=55` reached.\n"
     ]
    },
    {
     "name": "stdout",
     "output_type": "stream",
     "text": [
      "Epoch 54: 100%|██████████| 235/235 [00:05<00:00, 44.19it/s, v_num=3, train_loss_step=5.440, train_elbo_step=5.300, val_mse_step=6.970, val_kl_step=1.380, val_elbo_step=8.350, l0_sparsity_step=0.155, val_mse_epoch=7.060, val_kl_epoch=1.370, val_elbo_epoch=8.430, l0_sparsity_epoch=0.140, train_loss_epoch=5.610, train_elbo_epoch=5.490]\n",
      "\n"
     ]
    }
   ],
   "source": [
    "model = PL_PVAE()\n",
    "trainer_args = {\n",
    "    \"callbacks\": [pl.pytorch.callbacks.ModelCheckpoint(dirpath=checkpoint_dir, monitor='val_elbo', save_top_k=1, mode='min', verbose=True)],\n",
    "    \"accelerator\": \"cpu\" if device == 'cpu' else \"gpu\",\n",
    "    \"gradient_clip_val\": 1.0,\n",
    "}\n",
    "#trainer_args[\"logger\"].watch(model, log=\"all\")\n",
    "if device != 'cpu':\n",
    "    trainer_args[\"devices\"] = device\n",
    "trainer = pl.Trainer(**trainer_args, default_root_dir=checkpoint_dir, max_epochs=55, num_sanity_val_steps=0)\n",
    "trainer.fit(model, val_dataloaders=val_dl, train_dataloaders=train_dl)"
   ]
  },
  {
   "cell_type": "code",
   "execution_count": 6,
   "id": "3a920703",
   "metadata": {},
   "outputs": [],
   "source": [
    "# load network from .ckpt file\n",
    "\n",
    "f = './epoch=50-step=11985.ckpt'\n",
    "model = PL_PVAE.load_from_checkpoint(f)"
   ]
  },
  {
   "cell_type": "code",
   "execution_count": 7,
   "id": "cc54e982",
   "metadata": {},
   "outputs": [
    {
     "data": {
      "text/plain": [
       "PL_PVAE(\n",
       "  (model): PVAE(\n",
       "    (encode): Sequential(\n",
       "      (0): Linear(in_features=784, out_features=128, bias=True)\n",
       "    )\n",
       "    (decode): Sequential(\n",
       "      (0): Linear(in_features=128, out_features=784, bias=True)\n",
       "      (1): Sigmoid()\n",
       "    )\n",
       "  )\n",
       ")"
      ]
     },
     "execution_count": 7,
     "metadata": {},
     "output_type": "execute_result"
    }
   ],
   "source": [
    "model"
   ]
  },
  {
   "cell_type": "code",
   "execution_count": 8,
   "id": "7c731b40",
   "metadata": {},
   "outputs": [
    {
     "name": "stdout",
     "output_type": "stream",
     "text": [
      "torch.Size([784])\n"
     ]
    },
    {
     "data": {
      "image/png": "[encoded data removed]",
      "text/plain": [
       "<Figure size 640x480 with 2 Axes>"
      ]
     },
     "metadata": {},
     "output_type": "display_data"
    }
   ],
   "source": [
    "import matplotlib.pyplot as plt\n",
    "\n",
    "batch = next(iter(train_dl))\n",
    "\n",
    "img = batch[0][0]\n",
    "\n",
    "print(img.shape)\n",
    "\n",
    "plt.imshow(img.reshape(28, 28), cmap='gray')\n",
    "plt.colorbar()\n",
    "plt.show()"
   ]
  },
  {
   "cell_type": "code",
   "execution_count": 9,
   "id": "c8bd1efd",
   "metadata": {},
   "outputs": [
    {
     "name": "stdout",
     "output_type": "stream",
     "text": [
      "Using device: mps\n"
     ]
    },
    {
     "data": {
      "image/png": "[encoded data removed]",
      "text/plain": [
       "<Figure size 640x480 with 1 Axes>"
      ]
     },
     "metadata": {},
     "output_type": "display_data"
    }
   ],
   "source": [
    "import matplotlib.pyplot as plt\n",
    "import seaborn as sns\n",
    "\n",
    "device = torch.device(\"cuda\" if torch.cuda.is_available() else \"mps\" if torch.backends.mps.is_available() else \"cpu\")\n",
    "print(f\"Using device: {device}\")\n",
    "\n",
    "# Move model and tensor to the same deviceprint(times.shape)\n",
    "model = model.to(device)\n",
    "x = img.to(device)\n",
    "\n",
    "with torch.no_grad():\n",
    "    dist, du, z, y = model.forward(x.unsqueeze(0).unsqueeze(0))\n",
    "\n",
    "\n",
    "plt.imshow(y[0].cpu().numpy().reshape(28, 28), cmap='gray')\n",
    "\n",
    "sample, indicator, times = dist.rsample(hard=True, return_indicator=True)\n",
    "\n"
   ]
  },
  {
   "cell_type": "code",
   "execution_count": 10,
   "id": "c95cd288",
   "metadata": {},
   "outputs": [
    {
     "data": {
      "text/plain": [
       "torch.Size([82, 1, 128])"
      ]
     },
     "execution_count": 10,
     "metadata": {},
     "output_type": "execute_result"
    }
   ],
   "source": [
    "indicator.shape"
   ]
  },
  {
   "cell_type": "code",
   "execution_count": 11,
   "id": "3b85ce56",
   "metadata": {},
   "outputs": [
    {
     "ename": "ValueError",
     "evalue": "too many values to unpack (expected 2)",
     "output_type": "error",
     "traceback": [
      "\u001b[0;31m---------------------------------------------------------------------------\u001b[0m",
      "\u001b[0;31mValueError\u001b[0m                                Traceback (most recent call last)",
      "Cell \u001b[0;32mIn[11], line 39\u001b[0m\n\u001b[1;32m     36\u001b[0m     \u001b[38;5;28;01mreturn\u001b[39;00m counts    \u001b[38;5;66;03m# shape: (128, 100) if n_neurons=128, n_steps=100\u001b[39;00m\n\u001b[1;32m     38\u001b[0m \u001b[38;5;66;03m# OPTION B: use the new by‐neuron version directly\u001b[39;00m\n\u001b[0;32m---> 39\u001b[0m raster \u001b[38;5;241m=\u001b[39m \u001b[43mspike_matrix_by_neuron\u001b[49m\u001b[43m(\u001b[49m\u001b[43mdist\u001b[49m\u001b[43m,\u001b[49m\u001b[43m \u001b[49m\u001b[43mn_steps\u001b[49m\u001b[38;5;241;43m=\u001b[39;49m\u001b[38;5;241;43m100\u001b[39;49m\u001b[43m)\u001b[49m\n",
      "Cell \u001b[0;32mIn[11], line 14\u001b[0m, in \u001b[0;36mspike_matrix_by_neuron\u001b[0;34m(p, n_steps)\u001b[0m\n\u001b[1;32m     10\u001b[0m edges \u001b[38;5;241m=\u001b[39m torch\u001b[38;5;241m.\u001b[39mlinspace(\u001b[38;5;241m0.0\u001b[39m, \u001b[38;5;241m1.0\u001b[39m, n_steps \u001b[38;5;241m+\u001b[39m \u001b[38;5;241m1\u001b[39m, device\u001b[38;5;241m=\u001b[39mdevice)\n\u001b[1;32m     12\u001b[0m \u001b[38;5;66;03m# 3) flatten valid events\u001b[39;00m\n\u001b[1;32m     13\u001b[0m \u001b[38;5;66;03m#    trials: tensor of trial‐indices, neurons: matching neuron‐indices\u001b[39;00m\n\u001b[0;32m---> 14\u001b[0m trials, neurons \u001b[38;5;241m=\u001b[39m torch\u001b[38;5;241m.\u001b[39mnonzero(indicator, as_tuple\u001b[38;5;241m=\u001b[39m\u001b[38;5;28;01mTrue\u001b[39;00m)\n\u001b[1;32m     15\u001b[0m t_flat \u001b[38;5;241m=\u001b[39m times[trials, neurons]                  \u001b[38;5;66;03m# (N_events,)\u001b[39;00m\n\u001b[1;32m     16\u001b[0m b_idx  \u001b[38;5;241m=\u001b[39m torch\u001b[38;5;241m.\u001b[39mbucketize(t_flat, edges) \u001b[38;5;241m-\u001b[39m \u001b[38;5;241m1\u001b[39m       \u001b[38;5;66;03m# bin ∈ [0..n_steps-1]\u001b[39;00m\n",
      "\u001b[0;31mValueError\u001b[0m: too many values to unpack (expected 2)"
     ]
    }
   ],
   "source": [
    "def spike_matrix_by_neuron(p: Poisson, n_steps: int):\n",
    "    # 1) sample hard events\n",
    "    _, indicator, times = p.rsample(hard=True, return_indicator=True)\n",
    "    # times/indicator: (n_trials, n_neurons)\n",
    "\n",
    "    n_neurons = times.shape[1]\n",
    "    device    = times.device\n",
    "\n",
    "    # 2) define time‐bin edges in [0,1]\n",
    "    edges = torch.linspace(0.0, 1.0, n_steps + 1, device=device)\n",
    "\n",
    "    # 3) flatten valid events\n",
    "    #    trials: tensor of trial‐indices, neurons: matching neuron‐indices\n",
    "    trials, neurons = torch.nonzero(indicator, as_tuple=True)\n",
    "    t_flat = times[trials, neurons]                  # (N_events,)\n",
    "    b_idx  = torch.bucketize(t_flat, edges) - 1       # bin ∈ [0..n_steps-1]\n",
    "\n",
    "    # 4) (optional) prune any out‐of‐bounds (shouldn’t be needed if t_flat<1)\n",
    "    mask = (b_idx >= 0) & (b_idx < n_steps)\n",
    "    b_idx   = b_idx[mask]\n",
    "    neurons = neurons[mask]\n",
    "\n",
    "    # 5) accumulate into an (n_neurons × n_steps) int32 matrix\n",
    "    counts = torch.zeros(n_neurons, n_steps,\n",
    "                         dtype=torch.int32,\n",
    "                         device=device)\n",
    "    ones   = torch.ones_like(b_idx, dtype=torch.int32)\n",
    "\n",
    "    # scatter: first dim is neuron‐index, second is time‐bin\n",
    "    counts.index_put_(\n",
    "        (neurons, b_idx),\n",
    "        ones,\n",
    "        accumulate=True\n",
    "    )\n",
    "\n",
    "    return counts    # shape: (128, 100) if n_neurons=128, n_steps=100\n",
    "\n",
    "# OPTION B: use the new by‐neuron version directly\n",
    "raster = spike_matrix_by_neuron(dist, n_steps=100)  # (128,100)"
   ]
  },
  {
   "cell_type": "code",
   "execution_count": null,
   "id": "a4ef4638",
   "metadata": {},
   "outputs": [],
   "source": []
  },
  {
   "cell_type": "code",
   "execution_count": 63,
   "id": "74769b88",
   "metadata": {},
   "outputs": [
    {
     "name": "stdout",
     "output_type": "stream",
     "text": [
      "torch.Size([88, 1, 128])\n",
      "torch.Size([1, 128])\n",
      "torch.Size([88, 1, 128])\n"
     ]
    },
    {
     "data": {
      "image/png": "[encoded data removed]",
      "text/plain": [
       "<Figure size 1000x500 with 3 Axes>"
      ]
     },
     "metadata": {},
     "output_type": "display_data"
    }
   ],
   "source": [
    "sample, indicator, times = dist.rsample(hard=True, return_indicator=True)\n",
    "\n",
    "\n",
    "print(times.shape)\n",
    "print(sample.shape)\n",
    "print(indicator.shape)\n",
    "\n",
    "fig, ax = plt.subplots(1, 2, figsize=(10, 5))\n",
    "\n",
    "sns.heatmap(indicator[:,0,:].long().cpu().numpy().T, ax=ax[0])\n",
    "ax[0].set_xlabel('time')\n",
    "ax[0].set_ylabel('neuron')\n",
    "\n",
    "t = times[:,0,:][:,0].cpu().numpy()\n",
    "ax[1].scatter(torch.arange(len(t)), t)\n",
    "\n",
    "plt.tight_layout()\n",
    "plt.show()"
   ]
  },
  {
   "cell_type": "code",
   "execution_count": 17,
   "id": "99a6fca4",
   "metadata": {},
   "outputs": [
    {
     "data": {
      "image/png": "[encoded data removed]",
      "text/plain": [
       "<Figure size 1000x600 with 1 Axes>"
      ]
     },
     "metadata": {},
     "output_type": "display_data"
    }
   ],
   "source": [
    "# Extract the spike times for each neuron\n",
    "# We use the fact that indicator and times have shape (n_trials, 1, n_neurons)\n",
    "indicator_np = indicator[:, 0, :].cpu().numpy()  # shape: (n_trials, n_neurons)\n",
    "times_np = times[:, 0, :].cpu().numpy()          # shape: (n_trials, n_neurons)\n",
    "\n",
    "# Create one spike train for each neuron based on the indicator mask\n",
    "spike_trains = [times_np[:, i][indicator_np[:, i]] for i in range(indicator_np.shape[1])]\n",
    "\n",
    "# Plot the spike times as an eventplot\n",
    "plt.figure(figsize=(10, 6))\n",
    "plt.eventplot(spike_trains, colors='black')\n",
    "plt.xlabel(\"Time\")\n",
    "plt.ylabel(\"Neuron\")\n",
    "plt.title(\"Spike Times (Eventplot)\")\n",
    "plt.show()"
   ]
  },
  {
   "cell_type": "code",
   "execution_count": 59,
   "id": "8cb0d1c9",
   "metadata": {},
   "outputs": [],
   "source": [
    "batch = next(iter(train_dl))\n",
    "img = batch[0][0]"
   ]
  },
  {
   "cell_type": "code",
   "execution_count": 16,
   "id": "6de6d961",
   "metadata": {},
   "outputs": [
    {
     "name": "stdout",
     "output_type": "stream",
     "text": [
      "Using device: mps\n"
     ]
    }
   ],
   "source": [
    "device = torch.device(\"cuda\" if torch.cuda.is_available() else \"mps\" if torch.backends.mps.is_available() else \"cpu\")\n",
    "print(f\"Using device: {device}\")\n",
    "\n",
    "model = model.to(device)\n",
    "x = img.to(device)\n",
    "\n",
    "\n",
    "with torch.no_grad():\n",
    "    dist, du, z, y = model.forward(x.unsqueeze(0).unsqueeze(0))"
   ]
  },
  {
   "cell_type": "code",
   "execution_count": 17,
   "id": "d7111c5f",
   "metadata": {},
   "outputs": [
    {
     "name": "stdout",
     "output_type": "stream",
     "text": [
      "Cumulative matrix shape: torch.Size([128, 100])\n",
      "Max cumulative spikes per neuron: tensor([15,  3,  5,  4,  6,  6, 11, 11, 14,  1,  8,  5,  0, 15,  7,  3,  2,  6,\n",
      "        14,  6,  3,  7, 17,  9, 10, 10, 11,  1,  4,  7,  1,  3,  0,  1, 10,  6,\n",
      "         1,  1,  4,  6,  7, 16,  0,  5,  3,  9,  5,  3,  0,  6,  4,  3,  0,  6,\n",
      "         1,  4,  0, 13,  9,  1,  6,  1,  5,  3,  0,  6,  3,  8, 10, 11, 10, 11,\n",
      "        10,  2,  7,  3,  1,  5,  0,  9,  2,  0,  2, 10, 11,  7,  3,  4, 20,  2,\n",
      "         5,  3,  7,  2,  9,  0,  7,  5, 13,  1,  2,  1,  0,  0,  9,  8,  0,  7,\n",
      "         6,  2,  1,  4,  8,  0,  3,  4,  0,  6,  6,  1,  0,  2, 13,  6,  4,  1,\n",
      "         4,  1], device='mps:0')\n"
     ]
    },
    {
     "data": {
      "image/png": "[encoded data removed]",
      "text/plain": [
       "<Figure size 1200x800 with 2 Axes>"
      ]
     },
     "metadata": {},
     "output_type": "display_data"
    }
   ],
   "source": [
    "def cumulative_spike_matrix(indicator, times, n_steps=100):\n",
    "    \"\"\"\n",
    "    Create a cumulative spike matrix (n_neurons x n_timesteps) showing \n",
    "    cumulative spike counts for each neuron up to each time step.\n",
    "    \n",
    "    Args:\n",
    "        indicator: boolean tensor of shape (n_trials, batch_size, n_neurons)\n",
    "        times: tensor of spike times of shape (n_trials, batch_size, n_neurons)  \n",
    "        n_steps: number of time bins to discretize [0,1] interval\n",
    "    \n",
    "    Returns:\n",
    "        cumulative_counts: tensor of shape (n_neurons, n_steps) with cumulative spike counts\n",
    "    \"\"\"\n",
    "    # Squeeze out batch dimension (assuming batch_size=1)\n",
    "    indicator_2d = indicator[:, 0, :]  # (n_trials, n_neurons)\n",
    "    times_2d = times[:, 0, :]          # (n_trials, n_neurons)\n",
    "    \n",
    "    n_neurons = indicator_2d.shape[1]\n",
    "    device = times.device\n",
    "    \n",
    "    # Create time bin edges\n",
    "    edges = torch.linspace(0.0, 1.0, n_steps + 1, device=device)\n",
    "    \n",
    "    # Get valid spike times and corresponding neuron indices\n",
    "    valid_mask = indicator_2d\n",
    "    trials, neurons = torch.nonzero(valid_mask, as_tuple=True)\n",
    "    valid_times = times_2d[trials, neurons]  # Flat array of all spike times\n",
    "    \n",
    "    # Find which time bin each spike falls into\n",
    "    bin_indices = torch.bucketize(valid_times, edges) - 1\n",
    "    # Clamp to valid range [0, n_steps-1]\n",
    "    bin_indices = torch.clamp(bin_indices, 0, n_steps - 1)\n",
    "    \n",
    "    # Create a spike count matrix (n_neurons x n_steps)\n",
    "    spike_counts = torch.zeros(n_neurons, n_steps, device=device, dtype=torch.int32)\n",
    "    \n",
    "    # Count spikes in each bin for each neuron\n",
    "    for i in range(len(valid_times)):\n",
    "        neuron_idx = neurons[i]\n",
    "        time_bin = bin_indices[i]\n",
    "        spike_counts[neuron_idx, time_bin] += 1\n",
    "    \n",
    "    # Convert to cumulative counts along time dimension\n",
    "    cumulative_counts = torch.cumsum(spike_counts, dim=1)\n",
    "    \n",
    "    return cumulative_counts\n",
    "\n",
    "# Example usage:\n",
    "sample, indicator, times = dist.rsample(hard=True, return_indicator=True)\n",
    "cumulative_matrix = cumulative_spike_matrix(indicator, times, n_steps=100)\n",
    "\n",
    "print(f\"Cumulative matrix shape: {cumulative_matrix.shape}\")\n",
    "print(f\"Max cumulative spikes per neuron: {cumulative_matrix.max(dim=1)[0]}\")\n",
    "\n",
    "# Visualize the cumulative spike matrix\n",
    "plt.figure(figsize=(12, 8))\n",
    "plt.imshow(cumulative_matrix.cpu().numpy(), aspect='auto', cmap='viridis')\n",
    "plt.colorbar(label='Cumulative Spike Count')\n",
    "plt.xlabel('Time Step')\n",
    "plt.ylabel('Neuron')\n",
    "plt.title('Cumulative Spike Matrix (n_neurons x n_timesteps)')\n",
    "plt.show()"
   ]
  },
  {
   "cell_type": "code",
   "execution_count": null,
   "id": "36eb1e8b",
   "metadata": {},
   "outputs": [],
   "source": []
  },
  {
   "cell_type": "code",
   "execution_count": null,
   "id": "a86ff9f9",
   "metadata": {},
   "outputs": [],
   "source": []
  }
 ],
 "metadata": {
  "kernelspec": {
   "display_name": "cajal",
   "language": "python",
   "name": "python3"
  },
  "language_info": {
   "codemirror_mode": {
    "name": "ipython",
    "version": 3
   },
   "file_extension": ".py",
   "mimetype": "text/x-python",
   "name": "python",
   "nbconvert_exporter": "python",
   "pygments_lexer": "ipython3",
   "version": "3.10.18"
  }
 },
 "nbformat": 4,
 "nbformat_minor": 5
}
