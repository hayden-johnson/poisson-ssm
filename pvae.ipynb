{
 "cells": [
  {
   "cell_type": "markdown",
   "id": "68c49500-d331-4529-a189-66955134371a",
   "metadata": {},
   "source": [
    "# Poisson VAE"
   ]
  },
  {


   "cell_type": "code",
   "execution_count": 1,
   "id": "a44e7279-0f20-41fe-80f9-2d4c873d3e9d",
   "metadata": {},
   "outputs": [],
   "source": [
    "import torch.nn as nn\n",
    "from torchvision import datasets\n",
    "from torch.utils.data import DataLoader\n",
    "import torchvision, math, os, torch\n",
    "import lightning as pl\n",
    "\n",
    "name = 'PVAE_minimal' #change to your run name\n",
    "data_dir = \"./data/Datasets/\" #change to your data directory\n",
    "project_name = \"PVAE\" #change to your wandb project name\n",
    "root_dir = \"data\"\n",
    "bsize = 256\n",
    "train_device = \"0\"\n",
    "device = train_device + \",\" #lightning device formatting\n",
    "checkpoint_dir = os.path.join(root_dir, name)\n",
    "os.makedirs(checkpoint_dir, exist_ok=True)"
   ]
  },
  {
   "cell_type": "code",
   "execution_count": 9,
   "id": "514f8514",
   "metadata": {},
   "outputs": [],
   "source": [
    "ds_train = datasets.MNIST(data_dir, train=True, download=True).data\n",
    "ds_test = datasets.MNIST(data_dir, train=False, download=True).data\n",
    "\n",
    "ds_train_targets = datasets.MNIST(data_dir, train=True, download=True).targets\n",
    "ds_test_targets = datasets.MNIST(data_dir, train=False, download=True).targets\n",
    "\n",
    "ds_train = (ds_train.float().reshape(-1, 784)/255)\n",
    "ds_test = (ds_test.float().reshape(-1, 784)/255)\n",
    "ds_train = torch.utils.data.TensorDataset(ds_train, ds_train_targets)\n",
    "ds_test = torch.utils.data.TensorDataset(ds_test, ds_test_targets)\n",
    "\n",
    "# Add num_workers for better performance\n",
    "train_dl = DataLoader(ds_train, batch_size=bsize, shuffle=True, num_workers=4)\n",
    "val_dl = DataLoader(ds_test, batch_size=bsize, shuffle=False, num_workers=4)"
   ]
  },
  {
   "cell_type": "code",
   "execution_count": 10,
   "id": "403b3f48",
   "metadata": {},
   "outputs": [],
   "source": [
    "class Poisson:\n",
    "    def __init__(self, log_rate, t=0.0):\n",
    "        self.log_rate = log_rate\n",
    "        self.rate = torch.exp(\n",
    "            self.log_rate.clamp(None, 5)\n",
    "        ) + 1e-6\n",
    "        self.n_trials = int(math.ceil(max(self.rate.max().item(),1)*5)) # a large enough number of trials to sample from\n",
    "        self.t = t\n",
    "    def rsample(self, hard: bool = False, return_indicator=False):\n",
    "        x = torch.distributions.Exponential(self.rate).rsample((self.n_trials,))  # inter-event times\n",
    "        times = torch.cumsum(x, dim=0)  # arrival times of events\n",
    "        indicator = times < 1.0 # did events arrive before the end of the time interval\n",
    "        if not (hard or self.t == 0): # soften the indicator function\n",
    "            indicator = torch.sigmoid((1.0 - times) / self.t)\n",
    "        if return_indicator:\n",
    "          return indicator.sum(0).float(), indicator, times\n",
    "        else:\n",
    "          return indicator.sum(0).float()\n",
    "    def kl(self, prior, du):\n",
    "        #\"prior\" argument referes to log rate of prior\n",
    "        #equation is r * (1 - dr + dr * log(dr))\n",
    "        r = torch.exp(prior.clamp(None, 5)) + 1e-6\n",
    "        rdr = self.rate #final rate is rdr\n",
    "        logdr = du #log of the modulation of prior rate\n",
    "        return r-rdr+rdr*logdr"
   ]
  },
  {
   "cell_type": "code",
   "execution_count": 11,
   "id": "394c09ec",
   "metadata": {},
   "outputs": [],
   "source": [
    "class PVAE(nn.Module):\n",
    "    def __init__(self):\n",
    "        super(PVAE, self).__init__()\n",
    "        self.encode = nn.Sequential(\n",
    "            nn.Linear(784, 128),\n",
    "        )\n",
    "        self.decode = nn.Sequential(\n",
    "            nn.Linear(128, 784),\n",
    "            nn.Sigmoid(),\n",
    "        )\n",
    "        self.prior = nn.Parameter(torch.zeros((1, 128)))\n",
    "        self.t = 1.0 #temperature\n",
    "    def forward(self, x):\n",
    "        validation = not torch.is_grad_enabled()\n",
    "        du = self.encode(x).clamp(None, 5)\n",
    "        dist = Poisson((du + self.prior.clamp(None, 5)).clamp(None, 5), self.t)\n",
    "        z = dist.rsample(hard=validation)\n",
    "        y = self.decode(z)\n",
    "        return dist, du, z, y"
   ]
  },
  {
   "cell_type": "code",
   "execution_count": 12,
   "id": "ecb9e509",
   "metadata": {},
   "outputs": [],
   "source": [
    "class PL_PVAE(pl.LightningModule):\n",
    "    def __init__(self):\n",
    "        super(PL_PVAE, self).__init__()\n",
    "        self.model = PVAE()\n",
    "        self.opt = torch.optim.Adam\n",
    "        self.opt_params = {\n",
    "            'lr': 1e-3,\n",
    "        }\n",
    "        self.beta = 0.0\n",
    "    def forward(self, x):\n",
    "        return self.model(x[0].flatten(1))\n",
    "    def training_step(self, batch, batch_idx):\n",
    "        epoch = self.current_epoch + batch_idx/len(train_dl)\n",
    "        self.beta = min(5.0, 5*epoch/250)\n",
    "        self.model.t = max((1.0 - 0.95*epoch/250), 0.05)\n",
    "        self.log('beta', self.beta)\n",
    "        self.log('t', self.model.t)\n",
    "\n",
    "        dist, du, z, y = self(batch)\n",
    "        kl = dist.kl(self.model.prior, du).mean()\n",
    "        mse = ((y - batch[0])**2).sum(-1).mean()\n",
    "        loss = self.beta*kl + mse\n",
    "        self.log('train_loss', loss.item(), on_step=True, on_epoch=True, prog_bar=True)\n",
    "        self.log('train_elbo', (kl + mse).item(), on_step=True, on_epoch=True, prog_bar=True)\n",
    "        return loss\n",
    "    @torch.no_grad()\n",
    "    def validation_step(self, batch, batch_idx):\n",
    "        dist, du, z, y = self(batch)\n",
    "        kl = dist.kl(self.model.prior, du).mean()\n",
    "        mse = ((y - batch[0])**2).sum(-1).mean()\n",
    "        loss = self.beta*kl + mse\n",
    "\n",
    "        self.log('val_mse', mse.item(), on_step=True, on_epoch=True, prog_bar=True)\n",
    "        self.log('val_kl', kl.item(), on_step=True, on_epoch=True, prog_bar=True)\n",
    "        self.log('val_elbo', (kl + mse).item(), on_step=True, on_epoch=True, prog_bar=True)\n",
    "        self.log('l0_sparsity', (z == 0).float().mean().item(), on_step=True, on_epoch=True, prog_bar=True)\n",
    "        return loss\n",
    "    def configure_optimizers(self):\n",
    "        return self.opt(self.parameters(), **self.opt_params)"
   ]
  },
  {
   "cell_type": "code",
   "execution_count": null,
   "id": "8b5a6ec9",
   "metadata": {},
   "outputs": [
    {
     "name": "stderr",
     "output_type": "stream",
     "text": [
      "GPU available: True (mps), used: True\n",
      "TPU available: False, using: 0 TPU cores\n",
      "HPU available: False, using: 0 HPUs\n",
      "/Users/hayden/miniconda3/envs/cajal/lib/python3.10/site-packages/lightning/pytorch/callbacks/model_checkpoint.py:654: Checkpoint directory /Users/hayden/Desktop/code/cajal/project/poisson-ssm/data/PVAE_minimal exists and is not empty.\n",
      "\n",
      "  | Name  | Type | Params | Mode \n",
      "---------------------------------------\n",
      "0 | model | PVAE | 201 K  | train\n",
      "---------------------------------------\n",
      "201 K     Trainable params\n",
      "0         Non-trainable params\n",
      "201 K     Total params\n",
      "0.807     Total estimated model params size (MB)\n",
      "6         Modules in train mode\n",
      "0         Modules in eval mode\n",
      "/Users/hayden/miniconda3/envs/cajal/lib/python3.10/site-packages/lightning/pytorch/trainer/connectors/data_connector.py:420: Consider setting `persistent_workers=True` in 'train_dataloader' to speed up the dataloader worker initialization.\n"
     ]
    }
   ],
   "source": [
    "model = PL_PVAE()\n",
    "trainer_args = {\n",
    "    \"callbacks\": [pl.pytorch.callbacks.ModelCheckpoint(dirpath=checkpoint_dir, monitor='val_elbo', save_top_k=1, mode='min', verbose=True)],\n",
    "    \"accelerator\": \"cpu\" if device == 'cpu' else \"gpu\",\n",
    "    \"gradient_clip_val\": 1.0,\n",
    "}\n",
    "#trainer_args[\"logger\"].watch(model, log=\"all\")\n",
    "if device != 'cpu':\n",
    "    trainer_args[\"devices\"] = device\n",
    "trainer = pl.Trainer(**trainer_args, default_root_dir=checkpoint_dir, max_epochs=55, num_sanity_val_steps=0)\n",
    "trainer.fit(model, val_dataloaders=val_dl, train_dataloaders=train_dl)"
   ]
  },
  {
   "cell_type": "code",
   "execution_count": null,
   "id": "3a920703",
   "metadata": {},
   "outputs": [],
   "source": [
    "# load network from .ckpt file\n",
    "f = './epoch=50-step=11985.ckpt'\n",
    "model = PL_PVAE.load_from_checkpoint(f)"
   ]
  },
  {
   "cell_type": "code",
   "execution_count": 14,
   "id": "cc54e982",
   "metadata": {},
   "outputs": [
    {
     "data": {
      "text/plain": [
       "PL_PVAE(\n",
       "  (model): PVAE(\n",
       "    (encode): Sequential(\n",
       "      (0): Linear(in_features=784, out_features=128, bias=True)\n",
       "    )\n",
       "    (decode): Sequential(\n",
       "      (0): Linear(in_features=128, out_features=784, bias=True)\n",
       "      (1): Sigmoid()\n",
       "    )\n",
       "  )\n",
       ")"
      ]
     },
     "execution_count": 14,
     "metadata": {},
     "output_type": "execute_result"
    }
   ],
   "source": [
    "model"
   ]
  },
  {
   "cell_type": "code",
   "execution_count": 15,
   "id": "c8bd1efd",
   "metadata": {},
   "outputs": [
    {
     "name": "stdout",
     "output_type": "stream",
     "text": [
      "Using device: mps\n",
      "target: tensor(5)\n",
      "torch.Size([68, 1, 128])\n",
      "torch.Size([1, 128])\n",
      "torch.Size([68, 1, 128])\n"
     ]
    },
    {
     "data": {
      "image/png": "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",
      "text/plain": [
       "<Figure size 640x480 with 1 Axes>"
      ]
     },
     "metadata": {},
     "output_type": "display_data"
    }
   ],
   "source": [
    "import matplotlib.pyplot as plt\n",
    "import seaborn as sns\n",
    "\n",
    "batch = next(iter(train_dl))\n",
    "img = batch[0][0]\n",
    "target = batch[1][0]\n",
    "\n",
    "device = torch.device(\"cuda\" if torch.cuda.is_available() else \"mps\" if torch.backends.mps.is_available() else \"cpu\")\n",
    "print(f\"Using device: {device}\")\n",
    "\n",
    "# Move model and tensor to the same deviceprint(times.shape)\n",
    "model = model.to(device)\n",
    "x = img.to(device)\n",
    "\n",
    "with torch.no_grad():\n",
    "    dist, du, z, y = model.forward(x.unsqueeze(0).unsqueeze(0))\n",
    "\n",
    "\n",
    "plt.imshow(y[0].cpu().numpy().reshape(28, 28), cmap='gray')\n",
    "print('target:', target)\n",
    "\n",
    "sample, indicator, times = dist.rsample(hard=True, return_indicator=True)\n",
    "\n",
    "print(times.shape)\n",
    "print(sample.shape)\n",
    "print(indicator.shape)\n",
    "\n"
   ]
  },
  {
   "cell_type": "code",
   "execution_count": 16,
   "id": "74769b88",
   "metadata": {},
   "outputs": [
    {
     "data": {
      "image/png": "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",
      "text/plain": [
       "<Figure size 1000x500 with 3 Axes>"
      ]
     },
     "metadata": {},
     "output_type": "display_data"
    }
   ],
   "source": [
    "fig, ax = plt.subplots(1, 2, figsize=(10, 5))\n",
    "\n",
    "sns.heatmap(indicator[:,0,:].long().cpu().numpy().T, ax=ax[0])\n",
    "ax[0].set_xlabel('time')\n",
    "ax[0].set_ylabel('neuron')\n",
    "\n",
    "t = times[:,0,:][:,0].cpu().numpy()\n",
    "ax[1].scatter(torch.arange(len(t)), t)\n",
    "\n",
    "plt.tight_layout()\n",
    "plt.show()"
   ]
  },
  {
   "cell_type": "code",
   "execution_count": 17,
   "id": "99a6fca4",
   "metadata": {},
   "outputs": [
    {
     "data": {
      "image/png": "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",
      "text/plain": [
       "<Figure size 1000x600 with 1 Axes>"
      ]
     },
     "metadata": {},
     "output_type": "display_data"
    }
   ],
   "source": [
    "# Extract the spike times for each neuron\n",
    "# We use the fact that indicator and times have shape (n_trials, 1, n_neurons)\n",
    "indicator_np = indicator[:, 0, :].cpu().numpy()  # shape: (n_trials, n_neurons)\n",
    "times_np = times[:, 0, :].cpu().numpy()          # shape: (n_trials, n_neurons)\n",
    "\n",
    "# Create one spike train for each neuron based on the indicator mask\n",
    "spike_trains = [times_np[:, i][indicator_np[:, i]] for i in range(indicator_np.shape[1])]\n",
    "\n",
    "# Plot the spike times as an eventplot\n",
    "plt.figure(figsize=(10, 6))\n",
    "plt.eventplot(spike_trains, colors='black')\n",
    "plt.xlabel(\"Time\")\n",
    "plt.ylabel(\"Neuron\")\n",
    "plt.title(\"Spike Times (Eventplot)\")\n",
    "plt.show()"
   ]
  },
  {
   "cell_type": "code",
   "execution_count": 18,
   "id": "8cb0d1c9",
   "metadata": {},
   "outputs": [],
   "source": [
    "batch = next(iter(train_dl))\n",
    "img = batch[0][0]"
   ]
  },
  {
   "cell_type": "code",
   "execution_count": 19,
   "id": "d7111c5f",
   "metadata": {},
   "outputs": [
    {
     "name": "stdout",
     "output_type": "stream",
     "text": [
      "Cumulative matrix shape: torch.Size([128, 100])\n",
      "Max cumulative spikes per neuron: tensor([10,  1,  8,  9,  2, 10,  5,  4,  6,  2,  5,  8,  5,  3,  6,  0,  1,  3,\n",
      "        12,  3,  8,  3, 11,  2,  2,  6,  6,  0,  9,  0,  3,  2,  2,  7,  7,  1,\n",
      "         4,  4,  0,  5,  2, 12, 12,  5,  4,  2,  4, 13,  0,  5,  8,  3,  0,  2,\n",
      "         7,  3,  3,  2,  6,  2,  6,  2,  6,  5,  1,  2,  0, 14,  0,  1,  2,  6,\n",
      "         6,  3,  0, 12,  2,  9,  4,  1,  1,  6,  4,  8,  6,  5,  4,  0,  1, 11,\n",
      "         4,  4,  6, 11,  8,  2,  2,  4,  1,  8,  4,  8,  0,  0,  9, 12,  4,  6,\n",
      "         1,  5,  0,  5,  6,  3, 11,  2, 13,  4,  9,  1,  7,  8,  1,  1,  1,  1,\n",
      "         1, 15], device='mps:0')\n"
     ]
    },
    {
     "data": {
      "image/png": "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",
      "text/plain": [
       "<Figure size 1200x800 with 2 Axes>"
      ]
     },
     "metadata": {},
     "output_type": "display_data"
    }
   ],
   "source": [
    "def cumulative_spike_matrix(indicator, times, n_steps=100):\n",
    "    \"\"\"\n",
    "    Create a cumulative spike matrix (n_neurons x n_timesteps) showing \n",
    "    cumulative spike counts for each neuron up to each time step.\n",
    "    \n",
    "    Args:\n",
    "        indicator: boolean tensor of shape (n_trials, batch_size, n_neurons)\n",
    "        times: tensor of spike times of shape (n_trials, batch_size, n_neurons)  \n",
    "        n_steps: number of time bins to discretize [0,1] interval\n",
    "    \n",
    "    Returns:\n",
    "        cumulative_counts: tensor of shape (n_neurons, n_steps) with cumulative spike counts\n",
    "    \"\"\"\n",
    "    # Squeeze out batch dimension (assuming batch_size=1)\n",
    "    indicator_2d = indicator[:, 0, :]  # (n_trials, n_neurons)\n",
    "    times_2d = times[:, 0, :]          # (n_trials, n_neurons)\n",
    "    \n",
    "    n_neurons = indicator_2d.shape[1]\n",
    "    device = times.device\n",
    "    \n",
    "    # Create time bin edges\n",
    "    edges = torch.linspace(0.0, 1.0, n_steps + 1, device=device)\n",
    "    \n",
    "    # Get valid spike times and corresponding neuron indices\n",
    "    valid_mask = indicator_2d\n",
    "    trials, neurons = torch.nonzero(valid_mask, as_tuple=True)\n",
    "    valid_times = times_2d[trials, neurons]  # Flat array of all spike times\n",
    "    \n",
    "    # Find which time bin each spike falls into\n",
    "    bin_indices = torch.bucketize(valid_times, edges) - 1\n",
    "    # Clamp to valid range [0, n_steps-1]\n",
    "    bin_indices = torch.clamp(bin_indices, 0, n_steps - 1)\n",
    "    \n",
    "    # Create a spike count matrix (n_neurons x n_steps)\n",
    "    spike_counts = torch.zeros(n_neurons, n_steps, device=device, dtype=torch.int32)\n",
    "    \n",
    "    # Count spikes in each bin for each neuron\n",
    "    for i in range(len(valid_times)):\n",
    "        neuron_idx = neurons[i]\n",
    "        time_bin = bin_indices[i]\n",
    "        spike_counts[neuron_idx, time_bin] += 1\n",
    "    \n",
    "    # Convert to cumulative counts along time dimension\n",
    "    cumulative_counts = torch.cumsum(spike_counts, dim=1)\n",
    "    \n",
    "    return cumulative_counts\n",
    "\n",
    "# Example usage:\n",
    "sample, indicator, times = dist.rsample(hard=True, return_indicator=True)\n",
    "cumulative_matrix = cumulative_spike_matrix(indicator, times, n_steps=100)\n",
    "\n",
    "print(f\"Cumulative matrix shape: {cumulative_matrix.shape}\")\n",
    "print(f\"Max cumulative spikes per neuron: {cumulative_matrix.max(dim=1)[0]}\")\n",
    "\n",
    "# Visualize the cumulative spike matrix\n",
    "plt.figure(figsize=(12, 8))\n",
    "plt.imshow(cumulative_matrix.cpu().numpy(), aspect='auto', cmap='viridis')\n",
    "plt.colorbar(label='Cumulative Spike Count')\n",
    "plt.xlabel('Time Step')\n",
    "plt.ylabel('Neuron')\n",
    "plt.title('Cumulative Spike Matrix (n_neurons x n_timesteps)')\n",
    "plt.show()"
   ]
  },
  {
   "cell_type": "code",
   "execution_count": 24,
   "id": "aa329587",
   "metadata": {},
   "outputs": [
    {
     "data": {
      "application/vnd.jupyter.widget-view+json": {
       "model_id": "553cb7ed837f4ff69be0b46f2a36cc95",
       "version_major": 2,
       "version_minor": 0
      },
      "text/plain": [
       "image:   0%|          | 0/60000 [00:00<?, ?it/s]"
      ]
     },
     "metadata": {},
     "output_type": "display_data"
    },
    {
     "ename": "KeyboardInterrupt",
     "evalue": "",
     "output_type": "error",
     "traceback": [
      "\u001b[0;31m---------------------------------------------------------------------------\u001b[0m",
      "\u001b[0;31mKeyboardInterrupt\u001b[0m                         Traceback (most recent call last)",
      "Cell \u001b[0;32mIn[24], line 20\u001b[0m\n\u001b[1;32m     18\u001b[0m sample, indicator, times \u001b[38;5;241m=\u001b[39m dist\u001b[38;5;241m.\u001b[39mrsample(hard\u001b[38;5;241m=\u001b[39m\u001b[38;5;28;01mTrue\u001b[39;00m, return_indicator\u001b[38;5;241m=\u001b[39m\u001b[38;5;28;01mTrue\u001b[39;00m)\n\u001b[1;32m     19\u001b[0m \u001b[38;5;66;03m# create cumulative spike matrix for each neuron\u001b[39;00m\n\u001b[0;32m---> 20\u001b[0m cum_matrix \u001b[38;5;241m=\u001b[39m \u001b[43mcumulative_spike_matrix\u001b[49m\u001b[43m(\u001b[49m\u001b[43mindicator\u001b[49m\u001b[43m,\u001b[49m\u001b[43m \u001b[49m\u001b[43mtimes\u001b[49m\u001b[43m,\u001b[49m\u001b[43m \u001b[49m\u001b[43mn_steps\u001b[49m\u001b[38;5;241;43m=\u001b[39;49m\u001b[43mn_timesteps\u001b[49m\u001b[43m)\u001b[49m\n\u001b[1;32m     21\u001b[0m \u001b[38;5;28;01mfor\u001b[39;00m col \u001b[38;5;129;01min\u001b[39;00m \u001b[38;5;28mrange\u001b[39m(cum_matrix\u001b[38;5;241m.\u001b[39mshape[\u001b[38;5;241m1\u001b[39m]):\n\u001b[1;32m     22\u001b[0m     decoder_data\u001b[38;5;241m.\u001b[39mappend(cum_matrix[:, col])\n",
      "Cell \u001b[0;32mIn[19], line 41\u001b[0m, in \u001b[0;36mcumulative_spike_matrix\u001b[0;34m(indicator, times, n_steps)\u001b[0m\n\u001b[1;32m     39\u001b[0m     neuron_idx \u001b[38;5;241m=\u001b[39m neurons[i]\n\u001b[1;32m     40\u001b[0m     time_bin \u001b[38;5;241m=\u001b[39m bin_indices[i]\n\u001b[0;32m---> 41\u001b[0m     spike_counts[neuron_idx, time_bin] \u001b[38;5;241m+\u001b[39m\u001b[38;5;241m=\u001b[39m \u001b[38;5;241m1\u001b[39m\n\u001b[1;32m     43\u001b[0m \u001b[38;5;66;03m# Convert to cumulative counts along time dimension\u001b[39;00m\n\u001b[1;32m     44\u001b[0m cumulative_counts \u001b[38;5;241m=\u001b[39m torch\u001b[38;5;241m.\u001b[39mcumsum(spike_counts, dim\u001b[38;5;241m=\u001b[39m\u001b[38;5;241m1\u001b[39m)\n",
      "\u001b[0;31mKeyboardInterrupt\u001b[0m: "
     ]
    }
   ],
   "source": [
    "from tqdm.notebook import tqdm\n",
    "\n",
    "n_timesteps = 100   # determines time consant\n",
    "n_repeats = 10      # Number of repeats for sampling\n",
    "\n",
    "decoder_data, decoder_labels = [], []\n",
    "\n",
    "# Loop through data loade and create training set for decoder\n",
    "for img, y in tqdm(ds_train, desc=\"image\"):      \n",
    "    # move everything to the same device\n",
    "    model = model.to(device)\n",
    "    x = img.to(device)\n",
    "    # get latent distribution for a particular example\n",
    "    with torch.no_grad():\n",
    "        dist, du, z, y = model.forward(x.unsqueeze(0).unsqueeze(0))\n",
    "    # sample multiple spike trains\n",
    "    for i in range(n_repeats):\n",
    "        sample, indicator, times = dist.rsample(hard=True, return_indicator=True)\n",
    "        # create cumulative spike matrix for each neuron\n",
    "        cum_matrix = cumulative_spike_matrix(indicator, times, n_steps=n_timesteps)\n",
    "        for col in range(cum_matrix.shape[1]):\n",
    "            decoder_data.append(cum_matrix[:, col])\n",
    "            decoder_labels.append(y)\n",
    "\n",
    "decoder_data_tensor = torch.stack(decoder_data, dim=0)\n",
    "decoder_labels_tensor = torch.tensor(decoder_labels, dtype=torch.float32)\n",
    "\n",
    "\n",
    "# should end with \n",
    "print(f\"Decoder data shape: {decoder_data_tensor.shape}\")\n",
    "print(f\"Decoder labels shape: {decoder_labels_tensor.shape}\")"
   ]
  },
  {
   "cell_type": "code",
   "execution_count": 26,
   "id": "e6f8f11b",
   "metadata": {},
   "outputs": [
    {
     "name": "stdout",
     "output_type": "stream",
     "text": [
      "Creating decoder dataset with ultra-fast method...\n"
     ]
    },
    {
     "data": {
      "application/vnd.jupyter.widget-view+json": {
       "model_id": "ad043da115e249fca3356b5e8d6c947e",
       "version_major": 2,
       "version_minor": 0
      },
      "text/plain": [
       "Ultra-fast processing:   0%|          | 0/8 [00:00<?, ?it/s]"
      ]
     },
     "metadata": {},
     "output_type": "display_data"
    },
    {
     "name": "stdout",
     "output_type": "stream",
     "text": [
      "Fast decoder data shape: torch.Size([1000000, 128])\n",
      "Fast decoder labels shape: torch.Size([1000000])\n"
     ]
    }
   ],
   "source": [
    "# ULTRA-FAST VERSION - Maximum optimization\n",
    "def create_decoder_dataset_fast(model, dataset, n_timesteps=100, n_repeats=10, max_samples=10000):\n",
    "    \"\"\"\n",
    "    Ultra-fast version that limits the dataset size and uses maximum vectorization.\n",
    "    \"\"\"\n",
    "    model = model.to(device)\n",
    "    model.eval()\n",
    "    \n",
    "    # Limit dataset size for speed\n",
    "    limited_dataset = torch.utils.data.Subset(dataset, range(min(max_samples, len(dataset))))\n",
    "    \n",
    "    # Use DataLoader for better batching\n",
    "    fast_loader = DataLoader(limited_dataset, batch_size=128, shuffle=False, num_workers=0)\n",
    "    \n",
    "    all_data = []\n",
    "    all_labels = []\n",
    "    \n",
    "    with torch.no_grad():\n",
    "        for batch_imgs, batch_labels in tqdm(fast_loader, desc=\"Ultra-fast processing\"):\n",
    "            batch_imgs = batch_imgs.to(device)\n",
    "            batch_labels = batch_labels.to(device)\n",
    "            \n",
    "            # Process each image in the batch\n",
    "            for img, label in zip(batch_imgs, batch_labels):\n",
    "                # Get distribution\n",
    "                dist, du, z, y = model.forward(img.unsqueeze(0).unsqueeze(0))\n",
    "                \n",
    "                # Sample multiple times efficiently\n",
    "                for _ in range(n_repeats):\n",
    "                    sample, indicator, times = dist.rsample(hard=True, return_indicator=True)\n",
    "                    cum_matrix = cumulative_spike_matrix(indicator, times, n_steps=n_timesteps)\n",
    "                    \n",
    "                    # Add all timesteps at once\n",
    "                    all_data.append(cum_matrix.T.cpu())  # (n_timesteps, n_neurons)\n",
    "                    all_labels.extend([label.cpu().item()] * n_timesteps)\n",
    "    \n",
    "    # Stack everything\n",
    "    decoder_data = torch.cat(all_data, dim=0)\n",
    "    decoder_labels = torch.tensor(all_labels, dtype=torch.long)\n",
    "    \n",
    "    return decoder_data, decoder_labels\n",
    "\n",
    "# Use the ultra-fast version (processes only first 1000 images for speed)\n",
    "print(\"Creating decoder dataset with ultra-fast method...\")\n",
    "decoder_data_fast, decoder_labels_fast = create_decoder_dataset_fast(\n",
    "    model, ds_train, n_timesteps=n_timesteps, n_repeats=n_repeats, max_samples=1000\n",
    ")\n",
    "\n",
    "print(f\"Fast decoder data shape: {decoder_data_fast.shape}\")\n",
    "print(f\"Fast decoder labels shape: {decoder_labels_fast.shape}\")"
   ]
  },
  {
   "cell_type": "code",
   "execution_count": null,
   "id": "da1b50d6",
   "metadata": {},
   "outputs": [
    {
     "name": "stdout",
     "output_type": "stream",
     "text": [
      "Collecting ipywidgets\n",
      "  Using cached ipywidgets-8.1.7-py3-none-any.whl.metadata (2.4 kB)\n",
      "Requirement already satisfied: comm>=0.1.3 in /Users/hayden/miniconda3/envs/cajal/lib/python3.10/site-packages (from ipywidgets) (0.2.2)\n",
      "Requirement already satisfied: ipython>=6.1.0 in /Users/hayden/miniconda3/envs/cajal/lib/python3.10/site-packages (from ipywidgets) (8.30.0)\n",
      "Requirement already satisfied: traitlets>=4.3.1 in /Users/hayden/miniconda3/envs/cajal/lib/python3.10/site-packages (from ipywidgets) (5.14.3)\n",
      "Collecting widgetsnbextension~=4.0.14 (from ipywidgets)\n",
      "  Using cached widgetsnbextension-4.0.14-py3-none-any.whl.metadata (1.6 kB)\n",
      "Collecting jupyterlab_widgets~=3.0.15 (from ipywidgets)\n",
      "  Using cached jupyterlab_widgets-3.0.15-py3-none-any.whl.metadata (20 kB)\n",
      "Requirement already satisfied: decorator in /Users/hayden/miniconda3/envs/cajal/lib/python3.10/site-packages (from ipython>=6.1.0->ipywidgets) (5.1.1)\n",
      "Requirement already satisfied: jedi>=0.16 in /Users/hayden/miniconda3/envs/cajal/lib/python3.10/site-packages (from ipython>=6.1.0->ipywidgets) (0.19.2)\n",
      "Requirement already satisfied: matplotlib-inline in /Users/hayden/miniconda3/envs/cajal/lib/python3.10/site-packages (from ipython>=6.1.0->ipywidgets) (0.1.6)\n",
      "Requirement already satisfied: prompt-toolkit<3.1.0,>=3.0.41 in /Users/hayden/miniconda3/envs/cajal/lib/python3.10/site-packages (from ipython>=6.1.0->ipywidgets) (3.0.43)\n",
      "Requirement already satisfied: pygments>=2.4.0 in /Users/hayden/miniconda3/envs/cajal/lib/python3.10/site-packages (from ipython>=6.1.0->ipywidgets) (2.19.1)\n",
      "Requirement already satisfied: stack-data in /Users/hayden/miniconda3/envs/cajal/lib/python3.10/site-packages (from ipython>=6.1.0->ipywidgets) (0.2.0)\n",
      "Requirement already satisfied: exceptiongroup in /Users/hayden/miniconda3/envs/cajal/lib/python3.10/site-packages (from ipython>=6.1.0->ipywidgets) (1.2.0)\n",
      "Requirement already satisfied: typing-extensions>=4.6 in /Users/hayden/miniconda3/envs/cajal/lib/python3.10/site-packages (from ipython>=6.1.0->ipywidgets) (4.12.2)\n",
      "Requirement already satisfied: pexpect>4.3 in /Users/hayden/miniconda3/envs/cajal/lib/python3.10/site-packages (from ipython>=6.1.0->ipywidgets) (4.9.0)\n",
      "Requirement already satisfied: wcwidth in /Users/hayden/miniconda3/envs/cajal/lib/python3.10/site-packages (from prompt-toolkit<3.1.0,>=3.0.41->ipython>=6.1.0->ipywidgets) (0.2.13)\n",
      "Requirement already satisfied: parso<0.9.0,>=0.8.4 in /Users/hayden/miniconda3/envs/cajal/lib/python3.10/site-packages (from jedi>=0.16->ipython>=6.1.0->ipywidgets) (0.8.4)\n",
      "Requirement already satisfied: ptyprocess>=0.5 in /Users/hayden/miniconda3/envs/cajal/lib/python3.10/site-packages (from pexpect>4.3->ipython>=6.1.0->ipywidgets) (0.7.0)\n",
      "Requirement already satisfied: executing in /Users/hayden/miniconda3/envs/cajal/lib/python3.10/site-packages (from stack-data->ipython>=6.1.0->ipywidgets) (0.8.3)\n",
      "Requirement already satisfied: asttokens in /Users/hayden/miniconda3/envs/cajal/lib/python3.10/site-packages (from stack-data->ipython>=6.1.0->ipywidgets) (3.0.0)\n",
      "Requirement already satisfied: pure-eval in /Users/hayden/miniconda3/envs/cajal/lib/python3.10/site-packages (from stack-data->ipython>=6.1.0->ipywidgets) (0.2.2)\n",
      "Using cached ipywidgets-8.1.7-py3-none-any.whl (139 kB)\n",
      "Using cached jupyterlab_widgets-3.0.15-py3-none-any.whl (216 kB)\n",
      "Using cached widgetsnbextension-4.0.14-py3-none-any.whl (2.2 MB)\n",
      "Installing collected packages: widgetsnbextension, jupyterlab_widgets, ipywidgets\n",
      "\u001b[2K   \u001b[38;2;114;156;31m━━━━━━━━━━━━━━━━━━━━━━━━━━━━━━━━━━━━━━━━\u001b[0m \u001b[32m3/3\u001b[0m [ipywidgets]\n",
      "\u001b[1A\u001b[2KSuccessfully installed ipywidgets-8.1.7 jupyterlab_widgets-3.0.15 widgetsnbextension-4.0.14\n",
      "usage: jupyter [-h] [--version] [--config-dir] [--data-dir] [--runtime-dir]\n",
      "               [--paths] [--json] [--debug]\n",
      "               [subcommand]\n",
      "\n",
      "Jupyter: Interactive Computing\n",
      "\n",
      "positional arguments:\n",
      "  subcommand     the subcommand to launch\n",
      "\n",
      "options:\n",
      "  -h, --help     show this help message and exit\n",
      "  --version      show the versions of core jupyter packages and exit\n",
      "  --config-dir   show Jupyter config dir\n",
      "  --data-dir     show Jupyter data dir\n",
      "  --runtime-dir  show Jupyter runtime dir\n",
      "  --paths        show all Jupyter paths. Add --json for machine-readable\n",
      "                 format.\n",
      "  --json         output paths as machine-readable json\n",
      "  --debug        output debug information about paths\n",
      "\n",
      "Available subcommands: kernel kernelspec migrate run troubleshoot\n",
      "\n",
      "Jupyter command `jupyter-nbextension` not found.\n"
     ]
    }
   ],
   "source": [
    "!pip install ipywidgets --upgrade\n",
    "!jupyter nbextension enable --py widgetsnbextension --sys-prefix"
   ]
  },
  {
   "cell_type": "code",
   "execution_count": null,
   "id": "49c7823f",
   "metadata": {},
   "outputs": [
    {
     "data": {
      "text/plain": [
       "' PSUDOCODE\\n\\ndata, labels = [], []\\nfor img, class in dataset:\\n    dist = model(image)\\n    spikes = dist.sample\\n    cum_matrix = cumulative_spike_matrix(spikes)\\n    for col in range(cum_matrix.shape[1]):\\n        data.append(cum_matrix[:, col])\\n        labels.append(class)\\n\\n'"
      ]
     },
     "execution_count": 13,
     "metadata": {},
     "output_type": "execute_result"
    }
   ],
   "source": [
    "## create training dataset\n",
    "\n",
    "\n",
    "\"\"\" PSUDOCODE\n",
    "\n",
    "data, labels = [], []\n",
    "for img, class in dataset:\n",
    "    dist = model(image)\n",
    "    spikes = dist.sample\n",
    "    cum_matrix = cumulative_spike_matrix(spikes)\n",
    "    for col in range(cum_matrix.shape[1]):\n",
    "        data.append(cum_matrix[:, col])\n",
    "        labels.append(class)\n",
    "\n",
    "\"\"\""
   ]
  },
  {
   "cell_type": "code",
   "execution_count": null,
   "id": "36eb1e8b",
   "metadata": {},
   "outputs": [],
   "source": [
    "cumulative_matrix.cpu()[:,0]"
   ]
  },
  {
   "cell_type": "code",
   "execution_count": null,
   "id": "a86ff9f9",
   "metadata": {},
   "outputs": [],
   "source": [
    "next(iter(train_dl))"
   ]
  },
  {
   "cell_type": "code",
   "execution_count": null,
   "id": "235c1d2d",
   "metadata": {},
   "outputs": [
    {
     "data": {
      "text/plain": [
       "(88, 128)"
      ]
     },
     "execution_count": 25,
     "metadata": {},
     "output_type": "execute_result"
    }
   ],
   "source": [
    "indicator_np.shape"
   ]
  },
  {
   "cell_type": "code",
   "execution_count": null,
   "id": "70b0e43d",
   "metadata": {},
   "outputs": [
    {
     "data": {
      "text/plain": [
       "<__main__.Poisson at 0x3a66c8d90>"
      ]
     },
     "execution_count": 26,
     "metadata": {},
     "output_type": "execute_result"
    }
   ],
   "source": [
    "dist"
   ]
  },
  {
   "cell_type": "code",
   "execution_count": null,
   "id": "bee5d3ac",
   "metadata": {},
   "outputs": [
    {
     "data": {
      "image/png": "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",
      "text/plain": [
       "<Figure size 1000x600 with 1 Axes>"
      ]
     },
     "metadata": {},
     "output_type": "display_data"
    }
   ],
   "source": [
    "plt.figure(figsize=(10, 6))\n",
    "plt.eventplot(spike_trains, linelengths=0.8, colors='black')\n",
    "plt.xlabel(\"Time\")\n",
    "plt.ylabel(\"Neuron\")\n",
    "plt.title(\"Spike Raster Plot\")\n",
    "plt.show()"
   ]
  },
  {
   "cell_type": "code",
   "execution_count": null,
   "id": "18438e17",
   "metadata": {},
   "outputs": [
    {
     "data": {
      "image/png": "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",
      "text/plain": [
       "<Figure size 1200x600 with 1 Axes>"
      ]
     },
     "metadata": {},
     "output_type": "display_data"
    }
   ],
   "source": [
    "plt.figure(figsize=(12, 6))\n",
    "plt.eventplot(spike_trains, linelengths=0.8, colors='cyan', linewidths=1.5, alpha=0.8)\n",
    "plt.title(\"Raster Plot of Spike Trains\", fontsize=16, color='white')\n",
    "plt.xlabel(\"Time (s)\", fontsize=14, color='white')\n",
    "plt.ylabel(\"Neuron\", fontsize=14, color='white')\n",
    "ax = plt.gca()\n",
    "ax.set_facecolor('black')\n",
    "for spine in ax.spines.values():\n",
    "    spine.set_color('white')\n",
    "ax.tick_params(colors='white')\n",
    "plt.show()"
   ]
  },
  {
   "cell_type": "code",
   "execution_count": null,
   "id": "9cad53c5",
   "metadata": {},
   "outputs": [
    {
     "data": {
      "image/png": "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",
      "text/plain": [
       "<Figure size 1200x600 with 1 Axes>"
      ]
     },
     "metadata": {},
     "output_type": "display_data"
    }
   ],
   "source": [
    "plt.figure(figsize=(12, 6))\n",
    "plt.eventplot(spike_trains, linelengths=0.8, colors='cyan', linewidths=1.5, alpha=0.8)\n",
    "plt.title(\"Raster Plot of Spike Trains\", fontsize=16, color='white')\n",
    "plt.xlabel(\"Time (s)\", fontsize=14, color='white')\n",
    "plt.ylabel(\"Neuron\", fontsize=14, color='white')\n",
    "ax = plt.gca()\n",
    "ax.set_facecolor('black')\n",
    "for spine in ax.spines.values():\n",
    "    spine.set_color('white')\n",
    "ax.tick_params(colors='white')\n",
    "plt.show()"
   ]
  },
  {
   "cell_type": "code",
   "execution_count": null,
   "id": "253f2436",
   "metadata": {},
   "outputs": [],
   "source": []
  },
  {
   "cell_type": "code",
   "execution_count": null,
   "id": "1fdb8544",
   "metadata": {},
   "outputs": [
    {
     "data": {
      "text/plain": [
       "128"
      ]
     },
     "execution_count": 30,
     "metadata": {},
     "output_type": "execute_result"
    }
   ],
   "source": [
    "len(spike_trains)"
   ]
  },
  {
   "cell_type": "code",
   "execution_count": null,
   "id": "325c442c",
   "metadata": {},
   "outputs": [
    {
     "name": "stdout",
     "output_type": "stream",
     "text": [
      "4\n",
      "2\n",
      "4\n",
      "3\n",
      "0\n",
      "9\n",
      "1\n",
      "16\n",
      "8\n",
      "5\n",
      "1\n",
      "11\n",
      "4\n",
      "1\n",
      "11\n",
      "1\n",
      "0\n",
      "11\n",
      "0\n",
      "0\n",
      "2\n",
      "5\n",
      "1\n",
      "2\n",
      "5\n",
      "14\n",
      "0\n",
      "0\n",
      "3\n",
      "2\n",
      "9\n",
      "11\n",
      "3\n",
      "3\n",
      "16\n",
      "2\n",
      "8\n",
      "0\n",
      "2\n",
      "1\n",
      "1\n",
      "4\n",
      "11\n",
      "5\n",
      "7\n",
      "3\n",
      "4\n",
      "8\n",
      "7\n",
      "3\n",
      "10\n",
      "4\n",
      "3\n",
      "2\n",
      "0\n",
      "4\n",
      "1\n",
      "0\n",
      "11\n",
      "2\n",
      "1\n",
      "4\n",
      "3\n",
      "5\n",
      "0\n",
      "4\n",
      "8\n",
      "9\n",
      "1\n",
      "2\n",
      "12\n",
      "5\n",
      "5\n",
      "7\n",
      "6\n",
      "9\n",
      "2\n",
      "6\n",
      "3\n",
      "3\n",
      "0\n",
      "3\n",
      "8\n",
      "0\n",
      "6\n",
      "0\n",
      "1\n",
      "6\n",
      "6\n",
      "1\n",
      "2\n",
      "14\n",
      "11\n",
      "6\n",
      "15\n",
      "1\n",
      "4\n",
      "3\n",
      "1\n",
      "11\n",
      "2\n",
      "8\n",
      "7\n",
      "9\n",
      "2\n",
      "13\n",
      "8\n",
      "6\n",
      "4\n",
      "1\n",
      "8\n",
      "13\n",
      "1\n",
      "1\n",
      "9\n",
      "4\n",
      "4\n",
      "4\n",
      "2\n",
      "1\n",
      "3\n",
      "3\n",
      "5\n",
      "2\n",
      "1\n",
      "4\n",
      "11\n",
      "0\n"
     ]
    }
   ],
   "source": [
    "for s in spike_trains:\n",
    "    print(len(s))"
   ]
  },
  {
   "cell_type": "code",
   "execution_count": null,
   "id": "4075936d",
   "metadata": {},
   "outputs": [],
   "source": [

    "# suppose\n",
    "n_steps = 100           # number of discrete time‐bins you want\n",
    "log_rate = torch.randn(10)   # e.g. 10 neurons\n",
    "p = Poisson(log_rate, t=0.0)\n",
    "\n",
    "# sample hard arrivals\n",
    "counts_per_neuron, indicator, times = p.rsample(hard=True, return_indicator=True)\n",
    "#   times:       (n_trials, n_neurons)\n",
    "#   indicator:  (n_trials, n_neurons) boolean mask of events before t=1\n"
   ]
  },
  {
   "cell_type": "code",
   "execution_count": null,
   "id": "34a8b97a",
   "metadata": {},
   "outputs": [],
   "source": [
    "edges = torch.linspace(0.0, 1.0, n_steps + 1, device=times.device)\n",
    "# edges: shape (n_steps+1,)\n"
   ]
  },
  {
   "cell_type": "code",
   "execution_count": null,
   "id": "7e1edb75",
   "metadata": {},
   "outputs": [
    {
     "data": {
      "text/plain": [
       "tensor([[0, 0, 0, 0, 0, 0, 0, 0, 0, 0],\n",
       "        [0, 0, 0, 0, 0, 0, 0, 0, 0, 0],\n",
       "        [0, 0, 0, 0, 1, 0, 0, 0, 0, 0],\n",
       "        [0, 0, 0, 0, 0, 0, 0, 0, 0, 0],\n",
       "        [0, 0, 0, 0, 0, 0, 0, 0, 0, 0],\n",
       "        [0, 0, 0, 0, 0, 0, 0, 0, 0, 0],\n",
       "        [0, 0, 0, 0, 0, 0, 0, 0, 0, 0],\n",
       "        [0, 0, 0, 0, 0, 0, 0, 0, 0, 0],\n",
       "        [0, 0, 0, 0, 0, 0, 0, 0, 0, 0],\n",
       "        [0, 0, 0, 0, 0, 0, 0, 0, 0, 0],\n",
       "        [0, 0, 0, 0, 0, 0, 0, 0, 0, 0],\n",
       "        [0, 0, 0, 0, 0, 0, 0, 0, 0, 0],\n",
       "        [0, 0, 0, 0, 0, 0, 0, 0, 0, 0],\n",
       "        [0, 0, 0, 0, 0, 0, 0, 0, 0, 0],\n",
       "        [0, 0, 0, 0, 0, 0, 0, 0, 0, 0],\n",
       "        [0, 0, 0, 0, 0, 0, 0, 0, 0, 0],\n",
       "        [0, 0, 0, 0, 0, 0, 0, 0, 0, 1],\n",
       "        [0, 0, 0, 0, 0, 0, 0, 0, 0, 0],\n",
       "        [0, 0, 0, 0, 0, 0, 0, 0, 0, 0],\n",
       "        [0, 0, 0, 0, 0, 0, 0, 0, 0, 0],\n",
       "        [0, 0, 0, 0, 0, 0, 0, 0, 0, 0],\n",
       "        [0, 0, 0, 0, 0, 0, 0, 0, 0, 0],\n",
       "        [0, 0, 0, 0, 0, 0, 0, 0, 0, 0],\n",
       "        [0, 0, 0, 0, 0, 0, 0, 0, 0, 0],\n",
       "        [0, 0, 0, 0, 0, 0, 0, 0, 0, 0],\n",
       "        [0, 0, 0, 0, 0, 0, 0, 0, 0, 0],\n",
       "        [0, 0, 0, 0, 0, 0, 0, 0, 0, 0],\n",
       "        [0, 0, 0, 0, 0, 0, 0, 0, 0, 0],\n",
       "        [0, 0, 0, 0, 0, 0, 0, 0, 0, 0],\n",
       "        [0, 0, 0, 0, 0, 0, 0, 0, 0, 0],\n",
       "        [0, 0, 0, 0, 0, 0, 0, 0, 0, 0],\n",
       "        [0, 0, 0, 0, 0, 0, 0, 0, 0, 0],\n",
       "        [0, 0, 0, 0, 0, 0, 0, 0, 0, 0],\n",
       "        [0, 0, 0, 0, 0, 0, 0, 0, 0, 0],\n",
       "        [0, 0, 0, 0, 0, 0, 0, 0, 0, 0],\n",
       "        [0, 0, 0, 0, 0, 0, 0, 0, 0, 0],\n",
       "        [0, 0, 0, 0, 0, 0, 0, 0, 0, 0],\n",
       "        [0, 0, 0, 0, 0, 0, 0, 0, 0, 0],\n",
       "        [0, 0, 0, 0, 0, 0, 0, 0, 0, 0],\n",
       "        [0, 0, 0, 0, 0, 0, 0, 0, 0, 0],\n",
       "        [0, 0, 0, 0, 0, 0, 0, 0, 0, 0],\n",
       "        [0, 0, 0, 0, 0, 0, 0, 0, 0, 0],\n",
       "        [0, 0, 0, 0, 0, 0, 0, 0, 0, 0],\n",
       "        [0, 0, 0, 0, 0, 0, 0, 0, 0, 0],\n",
       "        [0, 0, 0, 0, 0, 0, 0, 0, 0, 0],\n",
       "        [0, 0, 0, 0, 0, 0, 0, 0, 0, 0],\n",
       "        [0, 0, 0, 0, 0, 0, 0, 0, 0, 0],\n",
       "        [0, 0, 0, 0, 0, 0, 0, 0, 0, 1],\n",
       "        [0, 0, 0, 0, 0, 0, 0, 0, 0, 0],\n",
       "        [0, 0, 0, 0, 0, 0, 0, 0, 0, 0],\n",
       "        [0, 0, 0, 0, 0, 0, 0, 0, 0, 0],\n",
       "        [0, 0, 0, 0, 0, 0, 0, 0, 0, 0],\n",
       "        [0, 0, 0, 0, 0, 0, 0, 0, 0, 0],\n",
       "        [0, 0, 0, 0, 0, 0, 0, 0, 0, 0],\n",
       "        [0, 0, 0, 0, 0, 0, 0, 0, 0, 0],\n",
       "        [0, 0, 0, 0, 0, 0, 0, 0, 0, 0],\n",
       "        [0, 0, 0, 0, 0, 0, 0, 0, 0, 0],\n",
       "        [0, 0, 0, 0, 0, 0, 0, 0, 0, 0],\n",
       "        [0, 0, 0, 0, 0, 0, 0, 0, 0, 0],\n",
       "        [0, 0, 0, 0, 0, 0, 0, 0, 0, 0],\n",
       "        [0, 0, 0, 0, 0, 0, 0, 0, 0, 0],\n",
       "        [0, 0, 0, 0, 0, 0, 0, 0, 0, 1],\n",
       "        [0, 0, 0, 0, 0, 0, 0, 0, 0, 0],\n",
       "        [0, 0, 0, 0, 0, 0, 0, 0, 0, 0],\n",
       "        [0, 0, 0, 0, 0, 0, 0, 0, 0, 0],\n",
       "        [0, 0, 0, 0, 0, 0, 0, 0, 0, 0],\n",
       "        [0, 0, 0, 0, 0, 0, 0, 0, 0, 0],\n",
       "        [0, 0, 0, 0, 0, 1, 0, 0, 0, 0],\n",
       "        [0, 0, 1, 0, 0, 0, 0, 0, 0, 0],\n",
       "        [0, 0, 0, 0, 0, 0, 0, 0, 0, 0],\n",
       "        [0, 0, 0, 0, 0, 0, 0, 0, 0, 0],\n",
       "        [0, 0, 0, 0, 0, 0, 0, 0, 0, 0],\n",
       "        [0, 0, 0, 0, 0, 0, 0, 0, 0, 0],\n",
       "        [0, 0, 0, 0, 0, 0, 0, 0, 0, 0],\n",
       "        [0, 0, 0, 0, 0, 0, 0, 0, 0, 0],\n",
       "        [0, 0, 0, 0, 0, 0, 0, 0, 0, 0],\n",
       "        [0, 0, 0, 0, 0, 0, 0, 0, 0, 0],\n",
       "        [0, 0, 0, 0, 0, 0, 0, 0, 0, 0],\n",
       "        [0, 0, 0, 0, 0, 0, 0, 0, 0, 0],\n",
       "        [0, 0, 0, 0, 0, 0, 0, 0, 0, 0],\n",
       "        [0, 0, 0, 0, 0, 0, 0, 0, 0, 0],\n",
       "        [0, 0, 0, 0, 0, 0, 0, 0, 0, 0],\n",
       "        [0, 0, 0, 0, 0, 0, 0, 0, 0, 0],\n",
       "        [0, 0, 0, 0, 0, 0, 0, 0, 0, 0],\n",
       "        [0, 0, 0, 0, 0, 0, 0, 0, 0, 0],\n",
       "        [0, 0, 0, 0, 0, 0, 0, 0, 0, 0],\n",
       "        [0, 0, 0, 0, 0, 0, 0, 0, 0, 0],\n",
       "        [0, 0, 0, 0, 0, 0, 0, 0, 0, 1],\n",
       "        [0, 0, 0, 0, 0, 0, 0, 0, 0, 0],\n",
       "        [0, 0, 0, 0, 0, 0, 0, 0, 0, 0],\n",
       "        [0, 0, 0, 0, 0, 0, 0, 0, 0, 0],\n",
       "        [0, 0, 0, 0, 0, 0, 0, 0, 0, 0],\n",
       "        [0, 0, 0, 0, 0, 0, 0, 0, 0, 0],\n",
       "        [0, 0, 0, 0, 0, 0, 0, 0, 0, 0],\n",
       "        [0, 0, 0, 0, 0, 0, 0, 0, 0, 0],\n",
       "        [0, 0, 0, 0, 0, 0, 0, 0, 0, 0],\n",
       "        [0, 0, 0, 0, 0, 0, 0, 0, 0, 0],\n",
       "        [0, 0, 0, 0, 0, 0, 0, 0, 0, 0],\n",
       "        [0, 0, 0, 0, 0, 0, 0, 0, 0, 0],\n",
       "        [0, 0, 0, 0, 0, 0, 0, 0, 0, 0]])"
      ]
     },
     "execution_count": 29,
     "metadata": {},
     "output_type": "execute_result"
    }
   ],
   "source": [
    "# 1) select only the event‐times that actually happened in [0,1)\n",
    "valid_times = times[indicator]              # shape (N_events_total,)\n",
    "valid_neurons = torch.nonzero(indicator)[:,1]  \n",
    "#                              shape (N_events_total,), values in [0..n_neurons-1]\n",
    "\n",
    "# 2) find the bin index for each event\n",
    "#    torch.bucketize returns in [1..n_steps], so subtract 1 to get [0..n_steps-1]\n",
    "bin_indices = torch.bucketize(valid_times, edges) - 1  \n",
    "# shape (N_events_total,), ints in [0..n_steps-1]\n",
    "\n",
    "# 3) accumulate counts\n",
    "counts = torch.zeros(n_steps, times.shape[1], device=times.device, dtype=torch.long)\n",
    "counts.index_put_(\n",
    "    (bin_indices, valid_neurons),\n",
    "    torch.ones_like(bin_indices, dtype=torch.long),\n",
    "    accumulate=True\n",
    ")\n",
    "# counts[t, n] is now the number of spikes of neuron n in bin t\n"
   ]
  },
  {
   "cell_type": "code",
   "execution_count": null,
   "id": "c9d650e4",
   "metadata": {},
   "outputs": [
    {
     "ename": "RuntimeError",
     "evalue": "Expected scalar_type == ScalarType::Float || inputTensor.scalar_type() == ScalarType::Int || scalar_type == ScalarType::Bool to be true, but got false.  (Could this error message be improved?  If so, please report an enhancement request to PyTorch.)",
     "output_type": "error",
     "traceback": [
      "\u001b[0;31m---------------------------------------------------------------------------\u001b[0m",
      "\u001b[0;31mRuntimeError\u001b[0m                              Traceback (most recent call last)",
      "Cell \u001b[0;32mIn[39], line 24\u001b[0m\n\u001b[1;32m     21\u001b[0m     \u001b[38;5;28;01mreturn\u001b[39;00m counts\n\u001b[1;32m     23\u001b[0m \u001b[38;5;66;03m# usage:\u001b[39;00m\n\u001b[0;32m---> 24\u001b[0m spike_counts \u001b[38;5;241m=\u001b[39m \u001b[43mspike_matrix\u001b[49m\u001b[43m(\u001b[49m\u001b[43mdist\u001b[49m\u001b[43m,\u001b[49m\u001b[43m \u001b[49m\u001b[43mn_steps\u001b[49m\u001b[38;5;241;43m=\u001b[39;49m\u001b[38;5;241;43m100\u001b[39;49m\u001b[43m)\u001b[49m\n",
      "Cell \u001b[0;32mIn[39], line 16\u001b[0m, in \u001b[0;36mspike_matrix\u001b[0;34m(p, n_steps)\u001b[0m\n\u001b[1;32m     14\u001b[0m n_neurons \u001b[38;5;241m=\u001b[39m times\u001b[38;5;241m.\u001b[39mshape[\u001b[38;5;241m1\u001b[39m]\n\u001b[1;32m     15\u001b[0m counts \u001b[38;5;241m=\u001b[39m torch\u001b[38;5;241m.\u001b[39mzeros(n_steps, n_neurons, device\u001b[38;5;241m=\u001b[39mtimes\u001b[38;5;241m.\u001b[39mdevice, dtype\u001b[38;5;241m=\u001b[39mtorch\u001b[38;5;241m.\u001b[39mlong)\n\u001b[0;32m---> 16\u001b[0m \u001b[43mcounts\u001b[49m\u001b[38;5;241;43m.\u001b[39;49m\u001b[43mindex_put_\u001b[49m\u001b[43m(\u001b[49m\n\u001b[1;32m     17\u001b[0m \u001b[43m    \u001b[49m\u001b[43m(\u001b[49m\u001b[43mbin_idx\u001b[49m\u001b[43m,\u001b[49m\u001b[43m \u001b[49m\u001b[43mvalid_neurons\u001b[49m\u001b[43m)\u001b[49m\u001b[43m,\u001b[49m\n\u001b[1;32m     18\u001b[0m \u001b[43m    \u001b[49m\u001b[43mtorch\u001b[49m\u001b[38;5;241;43m.\u001b[39;49m\u001b[43mones_like\u001b[49m\u001b[43m(\u001b[49m\u001b[43mbin_idx\u001b[49m\u001b[43m,\u001b[49m\u001b[43m \u001b[49m\u001b[43mdtype\u001b[49m\u001b[38;5;241;43m=\u001b[39;49m\u001b[43mtorch\u001b[49m\u001b[38;5;241;43m.\u001b[39;49m\u001b[43mlong\u001b[49m\u001b[43m)\u001b[49m\u001b[43m,\u001b[49m\n\u001b[1;32m     19\u001b[0m \u001b[43m    \u001b[49m\u001b[43maccumulate\u001b[49m\u001b[38;5;241;43m=\u001b[39;49m\u001b[38;5;28;43;01mTrue\u001b[39;49;00m\n\u001b[1;32m     20\u001b[0m \u001b[43m\u001b[49m\u001b[43m)\u001b[49m\n\u001b[1;32m     21\u001b[0m \u001b[38;5;28;01mreturn\u001b[39;00m counts\n",
      "\u001b[0;31mRuntimeError\u001b[0m: Expected scalar_type == ScalarType::Float || inputTensor.scalar_type() == ScalarType::Int || scalar_type == ScalarType::Bool to be true, but got false.  (Could this error message be improved?  If so, please report an enhancement request to PyTorch.)"
     ]
    }
   ],
   "source": [
    "def spike_matrix(p: Poisson, n_steps: int):\n",
    "    # 1) sample hard events\n",
    "    _, indicator, times = p.rsample(hard=True, return_indicator=True)\n",
    "    \n",
    "    # 2) build edges\n",
    "    edges = torch.linspace(0.0, 1.0, n_steps + 1, device=times.device)\n",
    "    \n",
    "    # 3) filter and bucketize\n",
    "    valid_times   = times[indicator]\n",
    "    valid_neurons = torch.nonzero(indicator)[:,1]\n",
    "    bin_idx       = torch.bucketize(valid_times, edges) - 1\n",
    "    \n",
    "    # 4) histogram with scatter\n",
    "    n_neurons = times.shape[1]\n",
    "    counts = torch.zeros(n_steps, n_neurons, device=times.device, dtype=torch.long)\n",
    "    counts.index_put_(\n",
    "        (bin_idx, valid_neurons),\n",
    "        torch.ones_like(bin_idx, dtype=torch.long),\n",
    "        accumulate=True\n",
    "    )\n",
    "    return counts\n",
    "\n",
    "# usage:\n",
    "spike_counts = spike_matrix(dist, n_steps=100)\n",
    "# shape: (100, 10)\n"
   ]
  },
  {
   "cell_type": "code",
   "execution_count": null,
   "id": "1d77fb3a",
   "metadata": {},
   "outputs": [
    {
     "data": {
      "text/plain": [
       "<__main__.Poisson at 0x3a66c8d90>"
      ]
     },
     "execution_count": 40,
     "metadata": {},
     "output_type": "execute_result"
    }
   ],
   "source": [
    "dist"
   ]
  },
  {
   "cell_type": "code",
   "execution_count": null,
   "id": "82534289",
   "metadata": {},
   "outputs": [
    {
     "data": {
      "text/plain": [
       "tensor([[ 4],\n",
       "        [15],\n",
       "        [ 8],\n",
       "        [12],\n",
       "        [ 2],\n",
       "        [ 2],\n",
       "        [ 5],\n",
       "        [ 7],\n",
       "        [11],\n",
       "        [ 6],\n",
       "        [ 7],\n",
       "        [ 7],\n",
       "        [ 6],\n",
       "        [ 6],\n",
       "        [ 9],\n",
       "        [ 5],\n",
       "        [ 6],\n",
       "        [ 6],\n",
       "        [ 5],\n",
       "        [10],\n",
       "        [ 7],\n",
       "        [13],\n",
       "        [ 3],\n",
       "        [ 6],\n",
       "        [ 3],\n",
       "        [ 6],\n",
       "        [ 9],\n",
       "        [ 9],\n",
       "        [ 8],\n",
       "        [ 6],\n",
       "        [11],\n",
       "        [ 5],\n",
       "        [11],\n",
       "        [ 4],\n",
       "        [ 9],\n",
       "        [10],\n",
       "        [10],\n",
       "        [11],\n",
       "        [ 2],\n",
       "        [ 6],\n",
       "        [ 5],\n",
       "        [14],\n",
       "        [ 8],\n",
       "        [ 5],\n",
       "        [ 7],\n",
       "        [ 4],\n",
       "        [12],\n",
       "        [ 6],\n",
       "        [10],\n",
       "        [ 7],\n",
       "        [ 4],\n",
       "        [13],\n",
       "        [ 8],\n",
       "        [ 8],\n",
       "        [ 8],\n",
       "        [ 7],\n",
       "        [ 5],\n",
       "        [12],\n",
       "        [12],\n",
       "        [11],\n",
       "        [ 7],\n",
       "        [10],\n",
       "        [ 4],\n",
       "        [ 9],\n",
       "        [10],\n",
       "        [ 8],\n",
       "        [ 7],\n",
       "        [ 3],\n",
       "        [ 6],\n",
       "        [ 4],\n",
       "        [ 6],\n",
       "        [ 3],\n",
       "        [ 4],\n",
       "        [ 7],\n",
       "        [ 8],\n",
       "        [ 5],\n",
       "        [ 5],\n",
       "        [ 9],\n",
       "        [ 4],\n",
       "        [ 6],\n",
       "        [ 2],\n",
       "        [ 4],\n",
       "        [ 9],\n",
       "        [ 8],\n",
       "        [10],\n",
       "        [10],\n",
       "        [ 8],\n",
       "        [10],\n",
       "        [ 5],\n",
       "        [ 8],\n",
       "        [15],\n",
       "        [ 4],\n",
       "        [ 4],\n",
       "        [ 5],\n",
       "        [ 9],\n",
       "        [ 7],\n",
       "        [ 7],\n",
       "        [11],\n",
       "        [ 9],\n",
       "        [ 7]], device='mps:0', dtype=torch.int32)"
      ]
     },
     "execution_count": 43,
     "metadata": {},
     "output_type": "execute_result"
    }
   ],
   "source": [
    "counts_per_neuron, indicator, times = dist.rsample(hard=True, return_indicator=True)\n",
    "edges = torch.linspace(0.0, 1.0, n_steps + 1, device=times.device)\n",
    "\n",
    "# 1) select only the event‐times that actually happened in [0,1)\n",
    "valid_times = times[indicator]              # shape (N_events_total,)\n",
    "valid_neurons = torch.nonzero(indicator)[:,1]  \n",
    "#                              shape (N_events_total,), values in [0..n_neurons-1]\n",
    "\n",
    "# 2) find the bin index for each event\n",
    "#    torch.bucketize returns in [1..n_steps], so subtract 1 to get [0..n_steps-1]\n",
    "bin_indices = torch.bucketize(valid_times, edges) - 1  \n",
    "# shape (N_events_total,), ints in [0..n_steps-1]\n",
    "\n",
    "# 3) accumulate counts\n",
    "# use int32 instead of long\n",
    "counts = torch.zeros(n_steps, times.shape[1],\n",
    "                     device=times.device,\n",
    "                     dtype=torch.int32)\n",
    "\n",
    "# your indices are still int64, but Torch accepts them;\n",
    "# the *values* must match counts.dtype\n",
    "values = torch.ones_like(bin_indices, dtype=torch.int32)\n",
    "\n",
    "counts.index_put_(\n",
    "    (bin_indices, valid_neurons),\n",
    "    values,\n",
    "    accumulate=True\n",
    ")"
   ]
  },
  {
   "cell_type": "code",
   "execution_count": null,
   "id": "a0a35268",
   "metadata": {},
   "outputs": [
    {
     "data": {
      "text/plain": [
       "torch.Size([100, 1])"
      ]
     },
     "execution_count": 58,
     "metadata": {},
     "output_type": "execute_result"
    }
   ],
   "source": [
    "y.shape"
   ]
  },
  {
   "cell_type": "code",
   "execution_count": null,
   "id": "2da9cc79",
   "metadata": {},
   "outputs": [],
   "source": [
    "y = counts.index_put_(\n",
    "    (bin_indices, valid_neurons),\n",
    "    values,\n",
    "    accumulate=True\n",
    ")"
   ]
  },
  {
   "cell_type": "code",
   "execution_count": null,
   "id": "f6221ceb",
   "metadata": {},
   "outputs": [
    {
     "data": {
      "text/plain": [
       "torch.Size([100, 1])"
      ]
     },
     "execution_count": 54,
     "metadata": {},
     "output_type": "execute_result"
    }
   ],
   "source": [
    "y.shape"
   ]
  },
  {
   "cell_type": "code",
   "execution_count": null,
   "id": "6c6ece55",
   "metadata": {},
   "outputs": [
    {
     "data": {
      "text/plain": [
       "torch.Size([731])"
      ]
     },
     "execution_count": 56,
     "metadata": {},
     "output_type": "execute_result"
    }
   ],
   "source": [
    "valid_neurons.shape"
   ]
  },
  {
   "cell_type": "code",
   "execution_count": null,
   "id": "2745b191",
   "metadata": {},
   "outputs": [],
   "source": []
  },
  {
   "cell_type": "code",
   "execution_count": null,
   "id": "54f21ab5",
   "metadata": {},
   "outputs": [
    {
     "name": "stdout",
     "output_type": "stream",
     "text": [
      "Cumulative matrix shape: torch.Size([128, 100])\n",
      "Max cumulative spikes per neuron: tensor([15,  6,  6,  1,  8,  3,  7, 16,  9,  2,  8,  4,  5, 13,  6,  6,  2,  6,\n",
      "         5,  3,  5,  4,  9,  4, 11,  7,  5,  1,  3,  8,  2,  4,  0,  0,  8,  9,\n",
      "         0,  3,  3,  3,  5, 14,  0,  4,  4,  5,  7,  0,  0,  7,  3,  7,  0,  5,\n",
      "         3,  6,  0, 14,  6,  0,  3,  2,  8,  7,  1,  4,  1,  7, 12, 15,  4,  3,\n",
      "         4,  1,  4,  4,  0,  3,  0, 12,  9,  0,  1,  9,  8, 10,  7,  6, 18,  0,\n",
      "        10,  2,  6,  7,  4,  1, 10,  5, 13,  2,  5,  0,  1,  1,  5,  4,  3,  3,\n",
      "         9,  4,  4,  8, 10,  0,  6,  4,  0,  2, 11,  1,  0,  3, 13, 15,  5,  3,\n",
      "         9,  1], device='mps:0')\n"
     ]
    },
    {
     "data": {
      "image/png": "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",
      "text/plain": [
       "<Figure size 1200x800 with 2 Axes>"
      ]
     },
     "metadata": {},
     "output_type": "display_data"
    }
   ],
   "source": [
    "def cumulative_spike_matrix(indicator, times, n_steps=100):\n",
    "    \"\"\"\n",
    "    Create a cumulative spike matrix (n_neurons x n_timesteps) showing \n",
    "    cumulative spike counts for each neuron up to each time step.\n",
    "    \n",
    "    Args:\n",
    "        indicator: boolean tensor of shape (n_trials, batch_size, n_neurons)\n",
    "        times: tensor of spike times of shape (n_trials, batch_size, n_neurons)  \n",
    "        n_steps: number of time bins to discretize [0,1] interval\n",
    "    \n",
    "    Returns:\n",
    "        cumulative_counts: tensor of shape (n_neurons, n_steps) with cumulative spike counts\n",
    "    \"\"\"\n",
    "    # Squeeze out batch dimension (assuming batch_size=1)\n",
    "    indicator_2d = indicator[:, 0, :]  # (n_trials, n_neurons)\n",
    "    times_2d = times[:, 0, :]          # (n_trials, n_neurons)\n",
    "    \n",
    "    n_neurons = indicator_2d.shape[1]\n",
    "    device = times.device\n",
    "    \n",
    "    # Create time bin edges\n",
    "    edges = torch.linspace(0.0, 1.0, n_steps + 1, device=device)\n",
    "    \n",
    "    # Get valid spike times and corresponding neuron indices\n",
    "    valid_mask = indicator_2d\n",
    "    trials, neurons = torch.nonzero(valid_mask, as_tuple=True)\n",
    "    valid_times = times_2d[trials, neurons]  # Flat array of all spike times\n",
    "    \n",
    "    # Find which time bin each spike falls into\n",
    "    bin_indices = torch.bucketize(valid_times, edges) - 1\n",
    "    # Clamp to valid range [0, n_steps-1]\n",
    "    bin_indices = torch.clamp(bin_indices, 0, n_steps - 1)\n",
    "    \n",
    "    # Create a spike count matrix (n_neurons x n_steps)\n",
    "    spike_counts = torch.zeros(n_neurons, n_steps, device=device, dtype=torch.int32)\n",
    "    \n",
    "    # Count spikes in each bin for each neuron\n",
    "    for i in range(len(valid_times)):\n",
    "        neuron_idx = neurons[i]\n",
    "        time_bin = bin_indices[i]\n",
    "        spike_counts[neuron_idx, time_bin] += 1\n",
    "    \n",
    "    # Convert to cumulative counts along time dimension\n",
    "    cumulative_counts = torch.cumsum(spike_counts, dim=1)\n",
    "    \n",
    "    return cumulative_counts\n",
    "\n",
    "# Example usage:\n",
    "sample, indicator, times = dist.rsample(hard=True, return_indicator=True)\n",
    "cumulative_matrix = cumulative_spike_matrix(indicator, times, n_steps=100)\n",
    "\n",
    "print(f\"Cumulative matrix shape: {cumulative_matrix.shape}\")\n",
    "print(f\"Max cumulative spikes per neuron: {cumulative_matrix.max(dim=1)[0]}\")\n",
    "\n",
    "# Visualize the cumulative spike matrix\n",
    "plt.figure(figsize=(12, 8))\n",
    "plt.imshow(cumulative_matrix.cpu().numpy(), aspect='auto', cmap='viridis')\n",
    "plt.colorbar(label='Cumulative Spike Count')\n",
    "plt.xlabel('Time Step')\n",
    "plt.ylabel('Neuron')\n",
    "plt.title('Cumulative Spike Matrix (n_neurons x n_timesteps)')\n",
    "plt.show()"
   ]
  },
  {
   "cell_type": "code",
   "execution_count": null,
   "id": "8ab9bf41",
   "metadata": {},
   "outputs": [],
   "source": [
    "cumulative_matrix.shape"
   ]
  },
  {
   "cell_type": "code",
   "execution_count": null,
   "id": "933ac673",
   "metadata": {},
   "outputs": [
    {
     "name": "stdout",
     "output_type": "stream",
     "text": [
      "Testing both versions:\n",
      "Version 1 shape: torch.Size([128, 50])\n",
      "Version 2 shape: torch.Size([128, 50])\n",
      "Results are equal: True\n",
      "\n",
      "Sample cumulative counts for first 5 neurons at last time step:\n",
      "tensor([15,  6,  6,  1,  8], device='mps:0')\n",
      "Version 1 shape: torch.Size([128, 50])\n",
      "Version 2 shape: torch.Size([128, 50])\n",
      "Results are equal: True\n",
      "\n",
      "Sample cumulative counts for first 5 neurons at last time step:\n",
      "tensor([15,  6,  6,  1,  8], device='mps:0')\n"
     ]
    }
   ],
   "source": [
    "def cumulative_spike_matrix_vectorized(indicator, times, n_steps=100):\n",
    "    \"\"\"\n",
    "    Vectorized version - more efficient for large datasets.\n",
    "    \"\"\"\n",
    "    # Squeeze out batch dimension (assuming batch_size=1)\n",
    "    indicator_2d = indicator[:, 0, :]  # (n_trials, n_neurons)\n",
    "    times_2d = times[:, 0, :]          # (n_trials, n_neurons)\n",
    "    \n",
    "    n_neurons = indicator_2d.shape[1]\n",
    "    device = times.device\n",
    "    \n",
    "    # Create time bin edges\n",
    "    edges = torch.linspace(0.0, 1.0, n_steps + 1, device=device)\n",
    "    \n",
    "    # Get valid spike times and corresponding neuron indices\n",
    "    trials, neurons = torch.nonzero(indicator_2d, as_tuple=True)\n",
    "    valid_times = times_2d[trials, neurons]\n",
    "    \n",
    "    # Find which time bin each spike falls into\n",
    "    bin_indices = torch.bucketize(valid_times, edges) - 1\n",
    "    bin_indices = torch.clamp(bin_indices, 0, n_steps - 1)\n",
    "    \n",
    "    # Use scatter_add for efficient counting\n",
    "    spike_counts = torch.zeros(n_neurons, n_steps, device=device, dtype=torch.int32)\n",
    "    ones = torch.ones_like(bin_indices, dtype=torch.int32)\n",
    "    \n",
    "    # Convert to linear indices for scatter\n",
    "    linear_indices = neurons * n_steps + bin_indices\n",
    "    spike_counts_flat = spike_counts.view(-1)\n",
    "    spike_counts_flat.scatter_add_(0, linear_indices, ones)\n",
    "    spike_counts = spike_counts_flat.view(n_neurons, n_steps)\n",
    "    \n",
    "    # Convert to cumulative counts\n",
    "    cumulative_counts = torch.cumsum(spike_counts, dim=1)\n",
    "    \n",
    "    return cumulative_counts\n",
    "\n",
    "# Compare both versions\n",
    "print(\"Testing both versions:\")\n",
    "cum_matrix_v1 = cumulative_spike_matrix(indicator, times, n_steps=50)\n",
    "cum_matrix_v2 = cumulative_spike_matrix_vectorized(indicator, times, n_steps=50)\n",
    "\n",
    "print(f\"Version 1 shape: {cum_matrix_v1.shape}\")\n",
    "print(f\"Version 2 shape: {cum_matrix_v2.shape}\")\n",
    "print(f\"Results are equal: {torch.allclose(cum_matrix_v1.float(), cum_matrix_v2.float())}\")\n",
    "\n",
    "# Show a few sample values\n",
    "print(f\"\\nSample cumulative counts for first 5 neurons at last time step:\")\n",
    "print(cum_matrix_v2[:5, -1])"
   ]
  },
  {
   "cell_type": "code",
   "execution_count": null,
   "id": "1e70bb3a",
   "metadata": {},
   "outputs": [],
   "source": []
=======
    "import numpy as np\n",
    "from keras.models import Sequential\n",
    "from keras.layers import Dense\n",
    "\n",
    "\n",
    "# input of MLP\n",
    "input = ... # n of neurons\n",
    "\n",
    "\n",
    "# output of MLP\n",
    "output = ... # n of classes\n",
    "\n",
    "# Neural network: MLP + softmax \n",
    "model = Sequential()\n",
    "model.add(Dense(64, activation='relu', input_shape=(input,)))\n",
    "model.add(Dense(32, activation='relu'))\n",
    "model.add(Dense(output, activation='softmax'))"
   ]

  }
 },
 "nbformat": 4,
 "nbformat_minor": 5
}
